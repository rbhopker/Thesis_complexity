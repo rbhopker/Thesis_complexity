{
 "cells": [
  {
   "cell_type": "code",
   "execution_count": 1,
   "id": "3ad2f657-3aff-44a6-b68d-76ef98f2b799",
   "metadata": {},
   "outputs": [],
   "source": [
    "from complexFuncs import DSM_colapse2,complexity,DSM_rearrange,DSM_idx_arrange\n",
    "import numpy as np"
   ]
  },
  {
   "cell_type": "markdown",
   "id": "7c9a43b1-4a08-44f2-b2ef-6d35ed0a431f",
   "metadata": {},
   "source": [
    "This is the dsm from Sinha & de Weck. Pump controller system"
   ]
  },
  {
   "cell_type": "code",
   "execution_count": 2,
   "id": "95bf9f21-828a-468e-90b2-74fe837f58a7",
   "metadata": {},
   "outputs": [],
   "source": [
    "Demo_dsm = np.array([  [5  ,0  ,1.5,0  ,0.5],\n",
    "                       [0  ,2  ,0.5,0  ,1.5],\n",
    "                       [2.5,1.5,1  ,.5 ,0],\n",
    "                       [0  ,  0,1.5,1  ,0],\n",
    "                       [1.5,.5 ,0  ,0  ,3]])"
   ]
  },
  {
   "cell_type": "markdown",
   "id": "149eb9b4-e53b-47a8-8e2b-d8cd37c1ad6e",
   "metadata": {},
   "source": [
    "Calculate the complexity of the system:\n",
    "complexity returns a dictionary with the complexity breakdown 'C', 'C1', 'C2', 'C3' , 'C2*C3' and 'SVD' "
   ]
  },
  {
   "cell_type": "code",
   "execution_count": 3,
   "id": "b805ff11-b15b-4066-a889-566d9462acdf",
   "metadata": {},
   "outputs": [
    {
     "data": {
      "text/plain": [
       "{'C': 25.4300767292727,\n",
       " 'C1': 12.0,\n",
       " 'C2': 12.0,\n",
       " 'C3': 1.119173060772725,\n",
       " 'C2*C3': 13.4300767292727,\n",
       " 'SVD': (array([[ 6.57192300e-01,  1.11022302e-16,  2.55955135e-01,\n",
       "          -5.08453565e-02, -7.07106781e-01],\n",
       "         [ 6.57192300e-01,  4.16333634e-17,  2.55955135e-01,\n",
       "          -5.08453565e-02,  7.07106781e-01],\n",
       "         [ 1.38090135e-16, -7.88205438e-01,  1.19908323e-01,\n",
       "           6.03617579e-01,  3.31400081e-17],\n",
       "         [ 3.69048184e-01,  2.25694245e-17, -9.11597730e-01,\n",
       "           1.81088422e-01, -1.50022116e-17],\n",
       "         [-8.39544701e-17, -6.15412209e-01, -1.53575751e-01,\n",
       "          -7.73099154e-01,  8.86511593e-17]]),\n",
       "  array([2.13577921e+00, 2.13577921e+00, 6.62153447e-01, 6.62153447e-01,\n",
       "         1.03092850e-16]),\n",
       "  array([[ 8.72521884e-17,  1.31045574e-17,  7.88205438e-01,\n",
       "           6.55227872e-18,  6.15412209e-01],\n",
       "         [-6.57192300e-01, -6.57192300e-01,  4.82033076e-17,\n",
       "          -3.69048184e-01,  5.08107476e-17],\n",
       "         [-5.08453565e-02, -5.08453565e-02, -6.03617579e-01,\n",
       "           1.81088422e-01,  7.73099154e-01],\n",
       "         [-2.55955135e-01, -2.55955135e-01,  1.19908323e-01,\n",
       "           9.11597730e-01, -1.53575751e-01],\n",
       "         [-7.07106781e-01,  7.07106781e-01,  1.14294498e-15,\n",
       "          -7.21773658e-17, -1.34396098e-15]]))}"
      ]
     },
     "execution_count": 3,
     "metadata": {},
     "output_type": "execute_result"
    }
   ],
   "source": [
    "complexity(Demo_dsm)"
   ]
  },
  {
   "cell_type": "markdown",
   "id": "54cf93f4-6913-4d2d-bbe1-ba9da9794bb6",
   "metadata": {},
   "source": [
    "use DSM_rearrange to rearrange the columns and rows so the system is still the same. This will swap column 0 with column 1. This should be congruent columns"
   ]
  },
  {
   "cell_type": "code",
   "execution_count": 4,
   "id": "3371fb03-8415-4c95-a03e-9a55430155b8",
   "metadata": {},
   "outputs": [
    {
     "data": {
      "text/plain": [
       "array([[2. , 0. , 0.5, 0. , 1.5],\n",
       "       [0. , 5. , 1.5, 0. , 0.5],\n",
       "       [1.5, 2.5, 1. , 0.5, 0. ],\n",
       "       [0. , 0. , 1.5, 1. , 0. ],\n",
       "       [0.5, 1.5, 0. , 0. , 3. ]])"
      ]
     },
     "execution_count": 4,
     "metadata": {},
     "output_type": "execute_result"
    }
   ],
   "source": [
    "rearraged_demo_dsm = DSM_rearrange(Demo_dsm,[0,1])\n",
    "rearraged_demo_dsm"
   ]
  },
  {
   "cell_type": "markdown",
   "id": "b7784a91-523f-4690-8d9f-1b44181444dc",
   "metadata": {},
   "source": [
    "Use DSM_idx_arrange to arrange the original dsm to a new index. This can be any index"
   ]
  },
  {
   "cell_type": "code",
   "execution_count": 5,
   "id": "2abc2c42-9488-41ed-9af7-4a8cc3fec2ff",
   "metadata": {},
   "outputs": [
    {
     "data": {
      "text/plain": [
       "array([[3. , 0. , 1.5, 0. , 0.5],\n",
       "       [0. , 1. , 2.5, 0.5, 1.5],\n",
       "       [0.5, 1.5, 5. , 0. , 0. ],\n",
       "       [0. , 1.5, 0. , 1. , 0. ],\n",
       "       [1.5, 0.5, 0. , 0. , 2. ]])"
      ]
     },
     "execution_count": 5,
     "metadata": {},
     "output_type": "execute_result"
    }
   ],
   "source": [
    "indexed_demo_dsm = DSM_rearrange(Demo_dsm,[0,1,3,2,4])\n",
    "indexed_demo_dsm"
   ]
  },
  {
   "cell_type": "markdown",
   "id": "523d569b-52cc-4f11-89a8-3959e97cc6ee",
   "metadata": {},
   "source": [
    "Use DSM_colapse2 to increase the abstraction level, but to keep complexity of the system"
   ]
  },
  {
   "cell_type": "code",
   "execution_count": 6,
   "id": "d0ecaf29-06f4-4f12-96a2-a358ce8bb65e",
   "metadata": {},
   "outputs": [
    {
     "data": {
      "text/plain": [
       "array([[ 3.        ,  1.40031001,  0.45390062],\n",
       "       [ 0.46677   , 10.        ,  1.69493754],\n",
       "       [ 1.36170185,  1.69493754,  3.        ]])"
      ]
     },
     "execution_count": 6,
     "metadata": {},
     "output_type": "execute_result"
    }
   ],
   "source": [
    "colapsed_demo_dsm = DSM_colapse2(Demo_dsm,[[1,2],[3,4]])\n",
    "colapsed_demo_dsm"
   ]
  },
  {
   "cell_type": "markdown",
   "id": "f8d7cae6-4043-46ec-8b65-26b9dcfd94e9",
   "metadata": {},
   "source": [
    "Calculate the complexity of the new dsm to check with the demo DSM we started with"
   ]
  },
  {
   "cell_type": "code",
   "execution_count": 7,
   "id": "565704e2-0dc9-4eb5-a257-af68f44c28fd",
   "metadata": {},
   "outputs": [
    {
     "data": {
      "text/plain": [
       "{'C': 25.430076729272706,\n",
       " 'C1': 16.0,\n",
       " 'C2': 7.072557546954531,\n",
       " 'C3': 1.3333333333333333,\n",
       " 'C2*C3': 9.430076729272708,\n",
       " 'SVD': (array([[-5.77350269e-01, -1.11022302e-16,  8.16496581e-01],\n",
       "         [-5.77350269e-01, -7.07106781e-01, -4.08248290e-01],\n",
       "         [-5.77350269e-01,  7.07106781e-01, -4.08248290e-01]]),\n",
       "  array([2., 1., 1.]),\n",
       "  array([[-0.57735027, -0.57735027, -0.57735027],\n",
       "         [-0.        ,  0.70710678, -0.70710678],\n",
       "         [-0.81649658,  0.40824829,  0.40824829]]))}"
      ]
     },
     "execution_count": 7,
     "metadata": {},
     "output_type": "execute_result"
    }
   ],
   "source": [
    "complexity(colapsed_demo_dsm)"
   ]
  },
  {
   "cell_type": "code",
   "execution_count": 8,
   "id": "69ad9214-8de7-4ee7-9875-df80d7506d13",
   "metadata": {},
   "outputs": [
    {
     "data": {
      "text/plain": [
       "True"
      ]
     },
     "execution_count": 8,
     "metadata": {},
     "output_type": "execute_result"
    }
   ],
   "source": [
    "abs(complexity(colapsed_demo_dsm)['C']-complexity(Demo_dsm)['C'])<np.finfo(np.float32).eps"
   ]
  },
  {
   "cell_type": "code",
   "execution_count": 3,
   "id": "1b721928-955a-47f1-8450-2410a5bc4ae6",
   "metadata": {},
   "outputs": [],
   "source": [
    "x=[1,2,3,3]"
   ]
  },
  {
   "cell_type": "code",
   "execution_count": 4,
   "id": "2edad23b",
   "metadata": {},
   "outputs": [
    {
     "data": {
      "text/plain": [
       "[1, 2, 3, 3]"
      ]
     },
     "execution_count": 4,
     "metadata": {},
     "output_type": "execute_result"
    }
   ],
   "source": [
    "x[0:]"
   ]
  },
  {
   "cell_type": "code",
   "execution_count": 10,
   "id": "744bbaaf",
   "metadata": {},
   "outputs": [],
   "source": [
    "import numpy as np"
   ]
  },
  {
   "cell_type": "code",
   "execution_count": 12,
   "id": "cf928ffa",
   "metadata": {},
   "outputs": [
    {
     "data": {
      "text/plain": [
       "2"
      ]
     },
     "execution_count": 12,
     "metadata": {},
     "output_type": "execute_result"
    }
   ],
   "source": [
    "sum(np.array(x)==max(x))"
   ]
  },
  {
   "cell_type": "code",
   "execution_count": 18,
   "id": "1a496976",
   "metadata": {},
   "outputs": [
    {
     "data": {
      "text/plain": [
       "2"
      ]
     },
     "execution_count": 18,
     "metadata": {},
     "output_type": "execute_result"
    }
   ],
   "source": [
    "x.count(3)"
   ]
  },
  {
   "cell_type": "code",
   "execution_count": 17,
   "id": "a9dfe666",
   "metadata": {},
   "outputs": [
    {
     "name": "stdout",
     "output_type": "stream",
     "text": [
      "[3, 3, 2, 1]\n"
     ]
    }
   ],
   "source": [
    "print(x)"
   ]
  },
  {
   "cell_type": "code",
   "execution_count": null,
   "id": "47cb2d65",
   "metadata": {},
   "outputs": [],
   "source": []
  }
 ],
 "metadata": {
  "kernelspec": {
   "display_name": "Python 3 (ipykernel)",
   "language": "python",
   "name": "python3"
  },
  "language_info": {
   "codemirror_mode": {
    "name": "ipython",
    "version": 3
   },
   "file_extension": ".py",
   "mimetype": "text/x-python",
   "name": "python",
   "nbconvert_exporter": "python",
   "pygments_lexer": "ipython3",
   "version": "3.10.1"
  },
  "toc-autonumbering": false,
  "toc-showcode": false,
  "toc-showmarkdowntxt": true,
  "toc-showtags": false
 },
 "nbformat": 4,
 "nbformat_minor": 5
}
