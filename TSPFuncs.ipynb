{
 "cells": [
  {
   "cell_type": "code",
   "execution_count": null,
   "id": "27116240-5723-42ad-9e7d-99e3ff10f97a",
   "metadata": {},
   "outputs": [],
   "source": []
  },
  {
   "cell_type": "code",
   "execution_count": 1,
   "id": "27e861c7-2d77-4984-83e4-8fb97c175d6a",
   "metadata": {},
   "outputs": [],
   "source": [
    "import matplotlib.pyplot as plt\n",
    "import pandas as pd\n",
    "import numpy as np\n",
    "from math import pi,inf,exp,sqrt\n",
    "from random import shuffle\n",
    "import operator\n",
    "from complexFuncs import complexity,DSM_rearrange\n",
    "import pickle\n",
    "from scipy.spatial import ConvexHull, convex_hull_plot_2d\n",
    "from TSP_Functions import calculate_euclidean_distance_matrix,SA_TSP,total_distance,NeighborFunc,plotResults,cal_tsp_complexity, create_TSP_hull, create_TSP_pareto\n",
    "rng = np.random.default_rng()\n",
    "from TSP_Functions import *\n",
    "import docx\n",
    "from docx.shared import Inches\n",
    "from docx.enum.text import WD_ALIGN_PARAGRAPH\n",
    "import random\n",
    "\n",
    "import matplotlib.pyplot as plt\n",
    "from matplotlib.patches import Arc\n",
    "from matplotlib.animation import FuncAnimation\n",
    "from matplotlib import rc\n",
    "import matplotlib\n",
    "import plotly.express as px\n",
    "# def run_t():\n",
    "url = r'/Users/ricardobortothopker/OneDrive - Massachusetts Institute of Technology/Classes/Thesis/excels/Points for TSP/'\n",
    "def create_problems_tsp(name=url+r'point count for TSP3.csv'):\n",
    "    # url2 = r'point count for TSP.csv'\n",
    "    df = pd.read_csv(name)\n",
    "    outside = df['outside points'].to_list()\n",
    "    total = df['points'].to_list()\n",
    "    totOut = list(zip(total,outside))\n",
    "    xyArrTot =[]\n",
    "    for tot,out in totOut:\n",
    "        xyArrTot.append(create_TSP_hull(out,tot))\n",
    "    return xyArrTot\n",
    "def xyArrTot_toDict(xyArrTot,store_dict={},count = 0):\n",
    "    for i in xyArrTot:\n",
    "        store_dict['id '+str(count)]=i\n",
    "        count += 1\n",
    "    return store_dict\n",
    "def save_TSP_Problems(xyArrTot,name=url+'TSP Problems3.pkl',store_dict={},count = 0):\n",
    "    store_dict = xyArrTot_toDict(xyArrTot,store_dict,count)\n",
    "    # for i in xyArrTot:\n",
    "    #     store_dict['id '+str(count)]=i\n",
    "    #     count += 1\n",
    "    with open(name, 'wb') as f:  # Python 3: open(..., 'wb')\n",
    "        pickle.dump(store_dict, f)\n",
    "def load_TSP_Problems(url=url+'TSP Problems3.pkl'):\n",
    "    with open(url,'rb') as f:  # Python 3: open(..., 'rb')\n",
    "        xyArrDict = pickle.load(f)\n",
    "    return xyArrDict\n",
    "def update_TSP_problems(xyArrDict, newxyArrTot,url = url+'TSP Problems3.pkl'):\n",
    "    keys = list(xyArrDict.keys())\n",
    "    ids = []\n",
    "    for i in range(len(keys)):\n",
    "        ids.append(int(keys[i][3:]))\n",
    "    lastKey = sorted(ids)[-1]+1\n",
    "    save_TSP_Problems(newxyArrTot,url,xyArrDict,lastKey)\n",
    "\n",
    "def visualize_TSP(xyArrDict,show_hull=True,show=True):\n",
    "    count =0\n",
    "    for key, i in xyArrDict.items():\n",
    "        x = i[:,0]\n",
    "        y = i[:,1]\n",
    "        fig,ax = plt.subplots()\n",
    "        ax.scatter(x,y)\n",
    "        if show_hull:\n",
    "            hull = ConvexHull(i)\n",
    "            hullVert = i[np.append(hull.vertices,hull.vertices[0])]\n",
    "            plt.plot(hullVert[:,0],hullVert[:,1],'--',c='r')\n",
    "        ax.set_xticks([])\n",
    "        ax.set_yticks([])\n",
    "        ax.annotate('Test {}'.format(key),xy=(0.00, 1.02), xycoords='axes fraction')\n",
    "        if show:\n",
    "            fig.show()\n",
    "        else:\n",
    "            fig.savefig('TSP {}.png'.format(count))\n",
    "            fig.show()\n",
    "        count+=1\n",
    "def dist_matrix_to_csv(xyArrDict,path=url):\n",
    "    for key, i in xyArrDict.items():\n",
    "        dist_matrix = calculate_euclidean_distance_matrix(i)\n",
    "        pd.DataFrame(dist_matrix).to_csv(url+'{}.csv'.format(key))\n",
    "def run_solve_TSP(xyArrDict,visualize_unsolved_TSP = True,visualize_solved_TSP = True):\n",
    "    best =[]\n",
    "    accept=[]\n",
    "    sols=[]\n",
    "    it =[]\n",
    "    bestSol=[]\n",
    "    totComplexity=[]\n",
    "    if visualize_unsolved_TSP:\n",
    "        visualize_TSP(xyArrDict,visualize_unsolved_TSP)\n",
    "    for key, i in xyArrDict.items():\n",
    "        \n",
    "        dist_matrix = calculate_euclidean_distance_matrix(i)\n",
    "        init = np.array(range(len(i)))\n",
    "        shuffle(init)\n",
    "        sol,best_hist,it_hist,accep_hist = SA_TSP(total_distance, NeighborFunc, init, [dist_matrix], [.1],[3,0,.99,1000,1000,2])\n",
    "        if visualize_solved_TSP:\n",
    "            plotResults(sol,i,dist_matrix)\n",
    "        where0 = np.where(sol==0)[0][0]\n",
    "        sol = np.append(sol[where0:],sol[:where0])\n",
    "        sols.append(sol)\n",
    "        bestSol.append(total_distance(sol,dist_matrix))\n",
    "        best.append(best_hist)\n",
    "        accept.append(accep_hist)\n",
    "        it.append(it_hist)\n",
    "        totComplexity.append(cal_tsp_complexity(i))\n",
    "    return sols,bestSol,best,accept,it,totComplexity\n",
    "def create_b_dict(xyArrDict,sols,bestSol,best,accept,it,totComplexity):\n",
    "    out_dict = {}\n",
    "    i=0\n",
    "    for name in xyArrDict.keys():\n",
    "        # name = 'id ' +str(i)\n",
    "        out_dict[name] ={}\n",
    "        out_dict[name]['best']=best[i]\n",
    "        out_dict[name]['bestSol']=bestSol[i]\n",
    "        # out_dict[name]['it']=it[i]\n",
    "        # out_dict[name]['accept']=accept[i]\n",
    "        out_dict[name]['sol']=sols[i]\n",
    "        out_dict[name]['xyArr']=xyArrDict[name]\n",
    "        out_dict[name]['complexity']=totComplexity[i]\n",
    "        i+=1\n",
    "    return out_dict\n",
    "def save_BSF(xyArrDict,sols,bestSol,best,accept,it,totComplexity,url=url+'TSP BSF3.pkl'):\n",
    "    out_dict = create_b_dict(xyArrDict,sols,bestSol,best,accept,it,totComplexity)\n",
    "    with open(url, 'wb') as f:  # Python 3: open(..., 'wb')\n",
    "        pickle.dump(out_dict, f)\n",
    "def load_BSF(name=url+r'TSP BSF3.pkl'):\n",
    "    with open(name,'rb') as f:  # Python 3: open(..., 'rb')\n",
    "        sol_dict = pickle.load(f)\n",
    "    return sol_dict      \n",
    "def update_BSF(newDict,oldDict,url = url+'TSP BSF3.pkl'):\n",
    "    out_dict =oldDict\n",
    "    oKeys = oldDict.keys()\n",
    "    for nKey in newDict.keys():\n",
    "        if nKey in oKeys:\n",
    "            if newDict[nKey]['bestSol']<oldDict[nKey]['bestSol']:\n",
    "                out_dict[nKey] =newDict[nKey]\n",
    "                print(nKey+' improved')\n",
    "        else:\n",
    "            out_dict[nKey] =newDict[nKey]\n",
    "    with open(url, 'wb') as f:  # Python 3: open(..., 'wb')\n",
    "        pickle.dump(out_dict, f)\n",
    "    return out_dict\n",
    "def plot_bsf(bsfDict):\n",
    "    for key in bsfDict.keys():\n",
    "        \n",
    "        sol = bsfDict[key]['sol']\n",
    "        xy = bsfDict[key]['xyArr']\n",
    "        where0 = np.where(sol==0)[0][0]\n",
    "        sol = np.append(sol[where0:],sol[:where0])\n",
    "        plotResults(sol,xy,None,key+'\\nSol: '+ str(sol)+'\\n',True)\n",
    "def summary_to_csv(bsf,url=url+r'TSP summary.csv'):\n",
    "    df = pd.DataFrame(bsf).T\n",
    "    xyArrTot = df['xyArr'].to_list()\n",
    "    Cdict = cal_tsp_complexityMult(xyArrTot)\n",
    "    df2 = pd.DataFrame(Cdict,index=df.index)\n",
    "    df3 = df[['bestSol','sol']]\n",
    "    out = pd.concat([df3,df2[['C','C1','C2','C3']]],axis=1)\n",
    "    out.to_csv(url)\n",
    "def create_and_visualize_TSP():\n",
    "    xyArrTot = create_problems_tsp()\n",
    "    xyArrDict = xyArrTot_toDict(xyArrTot)\n",
    "    \n",
    "    visualize_TSP(xyArrDict)\n",
    "    return xyArrTot\n",
    "def select_problems_to_run(lst,xyArrDict):\n",
    "    outDict = {}\n",
    "    for i in lst:\n",
    "        outDict['id '+str(i)]= xyArrDict['id '+str(i)]\n",
    "    return outDict\n",
    "def create_experiments():\n",
    "    from itertools import combinations\n",
    "    data = list(range(0,30,2))\n",
    "    cc = np.array(list(combinations(data,13)))\n",
    "    np.random.seed(22689)\n",
    "    random = np.random.randint(2,size=np.shape(cc))\n",
    "    notRandom = random==0\n",
    "    problems = cc+random\n",
    "    problems=np.where(problems!=29,problems,problems+1)\n",
    "    problems2 = cc+notRandom\n",
    "    problems2=np.where(problems2!=29,problems2,problems2+1)\n",
    "    problemsTot = np.concatenate([problems.T,problems2.T],axis=1).T\n",
    "    \n",
    "    return problemsTot\n",
    "def write_problem_to_word(path = r'/Users/ricardobortothopker/OneDrive - Massachusetts Institute of Technology/Classes/Thesis/TSP to solve/TSP Problems/'):\n",
    "    problemsTot = create_experiments()\n",
    "    mydoc = docx.Document()\n",
    "    countTot = 0\n",
    "    for problem in problemsTot:\n",
    "        countTot +=1\n",
    "        count = 0\n",
    "        probCopy = problem.copy()\n",
    "        random.seed(countTot)\n",
    "        shuffle(probCopy)\n",
    "        for prob in probCopy:\n",
    "            count +=1\n",
    "            imageP = path+'TSP {}.png'.format(prob)\n",
    "            mydoc.add_paragraph('                              Problem  {} from test {} - Practice draft, use pencil or pen. Drawing in this diagram do not count towards the final answer.'.format(count,countTot))\n",
    "            mydoc.add_picture(imageP, width=docx.shared.Inches(5.78), height=docx.shared.Inches(3.85))\n",
    "            last_paragraph = mydoc.paragraphs[-1] \n",
    "            last_paragraph.alignment = WD_ALIGN_PARAGRAPH.CENTER\n",
    "            mydoc.add_paragraph('                              Problem  {} from test {} - Final Answer, use only the red sharpie in this diagram. This is your final answer for this problem.'.format(count,countTot))\n",
    "            mydoc.add_picture(imageP, width=docx.shared.Inches(5.78), height=docx.shared.Inches(3.85))\n",
    "            last_paragraph = mydoc.paragraphs[-1] \n",
    "            last_paragraph.alignment = WD_ALIGN_PARAGRAPH.CENTER\n",
    "#             mydoc.add_page_break()\n",
    "        print(countTot/len(problemsTot))\n",
    "    sections = mydoc.sections\n",
    "    for section in sections:\n",
    "        section.top_margin = Inches(1)\n",
    "        section.bottom_margin = Inches(1)\n",
    "        section.left_margin = Inches(0.55)\n",
    "        section.right_margin = Inches(0.55)\n",
    "        header = section.header\n",
    "        paragraph = header.paragraphs[0]\n",
    "        paragraph.text = \"Canonical Experiment in System Complexity and Human Effort\"\n",
    "        paragraph.alignment = WD_ALIGN_PARAGRAPH.CENTER\n",
    "    mydoc.save(path+r'TSP Problems.docx')"
   ]
  },
  {
   "cell_type": "markdown",
   "id": "12ea0eb9-09d1-49d0-9277-da1a2eed2584",
   "metadata": {},
   "source": [
    "create new problems from file if no argument is given it will create from 'point count for TSP3.csv'\n",
    "save the problems to 'TSP Problems3.pkl'"
   ]
  },
  {
   "cell_type": "code",
   "execution_count": 2,
   "id": "be8a1471-a24c-4540-b92c-95a66a9b4c68",
   "metadata": {},
   "outputs": [],
   "source": [
    "#created_new_arr = create_problems_tsp()\n",
    "#save_TSP_Problems(created_new_arr)"
   ]
  },
  {
   "cell_type": "code",
   "execution_count": null,
   "id": "b2c76162-1b3b-4a02-862e-785f180eac71",
   "metadata": {},
   "outputs": [],
   "source": []
  },
  {
   "cell_type": "markdown",
   "id": "9bb3337c-0d5c-4f11-8e21-33b096f2ca73",
   "metadata": {},
   "source": [
    "load previous created problems"
   ]
  },
  {
   "cell_type": "code",
   "execution_count": 2,
   "id": "a7153c9a-a851-49af-bbc0-b3b084ec6ee0",
   "metadata": {},
   "outputs": [],
   "source": [
    "arrDict = load_TSP_Problems()\n",
    "del arrDict['id 29']"
   ]
  },
  {
   "cell_type": "code",
   "execution_count": 5,
   "id": "e75882a0",
   "metadata": {},
   "outputs": [],
   "source": [
    "dist_matrix_to_csv(arrDict)"
   ]
  },
  {
   "cell_type": "code",
   "execution_count": 4,
   "id": "9210ce97-14f4-413d-8147-fa1f842e1e04",
   "metadata": {},
   "outputs": [],
   "source": [
    "run_ids = list(range(14,29))\n",
    "# run_ids = [27]\n",
    "arrDict = select_problems_to_run(run_ids,arrDict)"
   ]
  },
  {
   "cell_type": "code",
   "execution_count": null,
   "id": "363ad7f3-4f00-42aa-86ba-e06e00752811",
   "metadata": {},
   "outputs": [],
   "source": [
    "\n",
    "sols,bestSol,best,accept,it,totComplexity = run_solve_TSP(arrDict,False,False)\n",
    "#bsf = load_BSF()\n",
    "newDict = create_b_dict(arrDict,sols,bestSol,best,accept,it,totComplexity)\n",
    "#save_BSF(arrDict,sols,bestSol,best,accept,it,totComplexity)\n",
    "bsf = load_BSF()\n",
    "bsf = update_BSF(newDict,bsf)"
   ]
  },
  {
   "cell_type": "code",
   "execution_count": null,
   "id": "2bc020fd-c33b-48ea-b138-e7f3f16a4e86",
   "metadata": {},
   "outputs": [],
   "source": [
    "bsf=load_BSF()\n",
    "plot_bsf(bsf)\n",
    "summary_to_csv(bsf)"
   ]
  },
  {
   "cell_type": "code",
   "execution_count": null,
   "id": "39d9b801-6224-4fa1-9039-e3347ecb9616",
   "metadata": {},
   "outputs": [],
   "source": [
    "experiments = create_experiments()\n",
    "print(experiments)"
   ]
  },
  {
   "cell_type": "code",
   "execution_count": 12,
   "id": "a466e848-9183-445b-aea2-d0e0d141fb7d",
   "metadata": {},
   "outputs": [],
   "source": [
    "from itertools import combinations\n",
    "data = list(range(0,30,2))\n",
    "data[-1] = 30\n",
    "cc = np.array(list(combinations(data,13)))"
   ]
  },
  {
   "cell_type": "code",
   "execution_count": 23,
   "id": "f6478b13-9609-40b3-bf18-4eeff6216f3b",
   "metadata": {},
   "outputs": [
    {
     "data": {
      "text/plain": [
       "array([ 2,  4,  5,  6,  7, 25, 30])"
      ]
     },
     "execution_count": 23,
     "metadata": {},
     "output_type": "execute_result"
    }
   ],
   "source": [
    "problems = np.array([2,4,5,6,7,25,29])\n",
    "problems=np.where(problems!=29,problems,problems+1)\n",
    "problems"
   ]
  },
  {
   "cell_type": "code",
   "execution_count": 9,
   "id": "5118c676-d53c-4240-8269-9ba9dc495941",
   "metadata": {},
   "outputs": [],
   "source": [
    "df = pd.DataFrame(bsf).T"
   ]
  },
  {
   "cell_type": "code",
   "execution_count": null,
   "id": "d861c194-a149-4d90-b119-4291931394e1",
   "metadata": {},
   "outputs": [],
   "source": [
    "df.head()"
   ]
  },
  {
   "cell_type": "code",
   "execution_count": 11,
   "id": "36075fda-189b-4e2f-806a-bb237466e8c9",
   "metadata": {},
   "outputs": [],
   "source": [
    "import bamboolib as bam"
   ]
  },
  {
   "cell_type": "code",
   "execution_count": null,
   "id": "8953344b-2680-4cf0-94ef-55f904177254",
   "metadata": {},
   "outputs": [],
   "source": [
    "df = df.reset_index()\n",
    "df"
   ]
  },
  {
   "cell_type": "code",
   "execution_count": 14,
   "id": "76e54a92-9a29-4ba6-9009-6ca7f19ecf4d",
   "metadata": {},
   "outputs": [
    {
     "data": {
      "application/vnd.jupyter.widget-view+json": {
       "model_id": "3200415a48a447e2bca681121187ac1a"
      },
      "text/html": [
       "<div>\n",
       "<style scoped>\n",
       "    .dataframe tbody tr th:only-of-type {\n",
       "        vertical-align: middle;\n",
       "    }\n",
       "\n",
       "    .dataframe tbody tr th {\n",
       "        vertical-align: top;\n",
       "    }\n",
       "\n",
       "    .dataframe thead th {\n",
       "        text-align: right;\n",
       "    }\n",
       "</style>\n",
       "<table border=\"1\" class=\"dataframe\">\n",
       "  <thead>\n",
       "    <tr style=\"text-align: right;\">\n",
       "      <th></th>\n",
       "      <th>id 0</th>\n",
       "      <th>id 1</th>\n",
       "      <th>id 2</th>\n",
       "    </tr>\n",
       "  </thead>\n",
       "  <tbody>\n",
       "    <tr>\n",
       "      <th>best</th>\n",
       "      <td>[[3, 2.4970631305072217, [3, 2, 4, 0, 1, 5]], ...</td>\n",
       "      <td>[[3, 2.197694840626629, [2, 1, 0, 3, 4]], [2.7...</td>\n",
       "      <td>[[3, 2.874758302425244, [5, 1, 0, 4, 2, 3]], [...</td>\n",
       "    </tr>\n",
       "    <tr>\n",
       "      <th>bestSol</th>\n",
       "      <td>2.080613</td>\n",
       "      <td>2.188399</td>\n",
       "      <td>2.209649</td>\n",
       "    </tr>\n",
       "    <tr>\n",
       "      <th>sol</th>\n",
       "      <td>[0, 4, 5, 3, 2, 1]</td>\n",
       "      <td>[0, 2, 3, 4, 1]</td>\n",
       "      <td>[0, 4, 3, 5, 2, 1]</td>\n",
       "    </tr>\n",
       "    <tr>\n",
       "      <th>xyArr</th>\n",
       "      <td>[[0.16934551549492027, 0.6151305830147565], [0...</td>\n",
       "      <td>[[0.43034991079671026, 0.8525837110831492], [0...</td>\n",
       "      <td>[[0.7390542074260374, 0.4443124412864089], [0....</td>\n",
       "    </tr>\n",
       "    <tr>\n",
       "      <th>complexity</th>\n",
       "      <td>{'C': 17.666666666666664, 'C1': 7.0, 'C2': 8.0...</td>\n",
       "      <td>{'C': 18.64984471899924, 'C1': 7.0, 'C2': 9.0,...</td>\n",
       "      <td>{'C': 21.333333333333332, 'C1': 8.0, 'C2': 10....</td>\n",
       "    </tr>\n",
       "  </tbody>\n",
       "</table>\n",
       "</div>"
      ],
      "text/plain": [
       "                                                         id 0  \\\n",
       "best        [[3, 2.4970631305072217, [3, 2, 4, 0, 1, 5]], ...   \n",
       "bestSol                                              2.080613   \n",
       "sol                                        [0, 4, 5, 3, 2, 1]   \n",
       "xyArr       [[0.16934551549492027, 0.6151305830147565], [0...   \n",
       "complexity  {'C': 17.666666666666664, 'C1': 7.0, 'C2': 8.0...   \n",
       "\n",
       "                                                         id 1  \\\n",
       "best        [[3, 2.197694840626629, [2, 1, 0, 3, 4]], [2.7...   \n",
       "bestSol                                              2.188399   \n",
       "sol                                           [0, 2, 3, 4, 1]   \n",
       "xyArr       [[0.43034991079671026, 0.8525837110831492], [0...   \n",
       "complexity  {'C': 18.64984471899924, 'C1': 7.0, 'C2': 9.0,...   \n",
       "\n",
       "                                                         id 2  \n",
       "best        [[3, 2.874758302425244, [5, 1, 0, 4, 2, 3]], [...  \n",
       "bestSol                                              2.209649  \n",
       "sol                                        [0, 4, 3, 5, 2, 1]  \n",
       "xyArr       [[0.7390542074260374, 0.4443124412864089], [0....  \n",
       "complexity  {'C': 21.333333333333332, 'C1': 8.0, 'C2': 10....  "
      ]
     },
     "metadata": {},
     "output_type": "display_data"
    }
   ],
   "source": []
  },
  {
   "cell_type": "code",
   "execution_count": null,
   "id": "ceb0afb9-26cb-455a-950c-8877eb912b7d",
   "metadata": {},
   "outputs": [],
   "source": [
    "write_problem_to_word()"
   ]
  },
  {
   "cell_type": "code",
   "execution_count": 12,
   "id": "de30d669",
   "metadata": {},
   "outputs": [],
   "source": [
    "import pandas as pd"
   ]
  },
  {
   "cell_type": "code",
   "execution_count": 2,
   "id": "654b95f3",
   "metadata": {},
   "outputs": [],
   "source": [
    "path = \"/Users/ricardobortothopker/OneDrive - Massachusetts Institute of Technology/Classes/Thesis/excels/Points for TSP/\"\n",
    "df_excel = pd.read_excel(path+\"TSP summary.xlsm\",sheet_name='TSP summary')"
   ]
  },
  {
   "cell_type": "code",
   "execution_count": 3,
   "id": "d98f0f2a",
   "metadata": {},
   "outputs": [
    {
     "data": {
      "text/html": [
       "<div>\n",
       "<style scoped>\n",
       "    .dataframe tbody tr th:only-of-type {\n",
       "        vertical-align: middle;\n",
       "    }\n",
       "\n",
       "    .dataframe tbody tr th {\n",
       "        vertical-align: top;\n",
       "    }\n",
       "\n",
       "    .dataframe thead th {\n",
       "        text-align: right;\n",
       "    }\n",
       "</style>\n",
       "<table border=\"1\" class=\"dataframe\">\n",
       "  <thead>\n",
       "    <tr style=\"text-align: right;\">\n",
       "      <th></th>\n",
       "      <th>id 0</th>\n",
       "      <th>id 1</th>\n",
       "      <th>id 2</th>\n",
       "      <th>id 3</th>\n",
       "      <th>id 4</th>\n",
       "      <th>id 5</th>\n",
       "      <th>id 6</th>\n",
       "      <th>id 7</th>\n",
       "      <th>id 8</th>\n",
       "      <th>id 9</th>\n",
       "      <th>...</th>\n",
       "      <th>id 20</th>\n",
       "      <th>id 21</th>\n",
       "      <th>id 22</th>\n",
       "      <th>id 23</th>\n",
       "      <th>id 24</th>\n",
       "      <th>id 25</th>\n",
       "      <th>id 26</th>\n",
       "      <th>id 27</th>\n",
       "      <th>id 28</th>\n",
       "      <th>id 30</th>\n",
       "    </tr>\n",
       "    <tr>\n",
       "      <th>row_names</th>\n",
       "      <th></th>\n",
       "      <th></th>\n",
       "      <th></th>\n",
       "      <th></th>\n",
       "      <th></th>\n",
       "      <th></th>\n",
       "      <th></th>\n",
       "      <th></th>\n",
       "      <th></th>\n",
       "      <th></th>\n",
       "      <th></th>\n",
       "      <th></th>\n",
       "      <th></th>\n",
       "      <th></th>\n",
       "      <th></th>\n",
       "      <th></th>\n",
       "      <th></th>\n",
       "      <th></th>\n",
       "      <th></th>\n",
       "      <th></th>\n",
       "      <th></th>\n",
       "    </tr>\n",
       "  </thead>\n",
       "  <tbody>\n",
       "    <tr>\n",
       "      <th>id</th>\n",
       "      <td>id 0</td>\n",
       "      <td>id 1</td>\n",
       "      <td>id 2</td>\n",
       "      <td>id 3</td>\n",
       "      <td>id 4</td>\n",
       "      <td>id 5</td>\n",
       "      <td>id 6</td>\n",
       "      <td>id 7</td>\n",
       "      <td>id 8</td>\n",
       "      <td>id 9</td>\n",
       "      <td>...</td>\n",
       "      <td>id 20</td>\n",
       "      <td>id 21</td>\n",
       "      <td>id 22</td>\n",
       "      <td>id 23</td>\n",
       "      <td>id 24</td>\n",
       "      <td>id 25</td>\n",
       "      <td>id 26</td>\n",
       "      <td>id 27</td>\n",
       "      <td>id 28</td>\n",
       "      <td>id 30</td>\n",
       "    </tr>\n",
       "    <tr>\n",
       "      <th>bestSol</th>\n",
       "      <td>2.080613</td>\n",
       "      <td>2.188399</td>\n",
       "      <td>2.209649</td>\n",
       "      <td>2.383603</td>\n",
       "      <td>2.135481</td>\n",
       "      <td>2.649531</td>\n",
       "      <td>3.03232</td>\n",
       "      <td>3.399789</td>\n",
       "      <td>3.363684</td>\n",
       "      <td>3.332041</td>\n",
       "      <td>...</td>\n",
       "      <td>4.583309</td>\n",
       "      <td>4.32396</td>\n",
       "      <td>4.261522</td>\n",
       "      <td>3.970236</td>\n",
       "      <td>5.045622</td>\n",
       "      <td>4.958354</td>\n",
       "      <td>4.545737</td>\n",
       "      <td>5.135846</td>\n",
       "      <td>4.858339</td>\n",
       "      <td>4.335627</td>\n",
       "    </tr>\n",
       "    <tr>\n",
       "      <th>sol</th>\n",
       "      <td>5,1,2,3,4,6</td>\n",
       "      <td>5,2,1,3,4</td>\n",
       "      <td>5,1,2,3,6,4</td>\n",
       "      <td>5,3,1,7,4,2,6</td>\n",
       "      <td>5,4,2,3,6,1,7</td>\n",
       "      <td>5,3,6,2,7,1,4,8</td>\n",
       "      <td>5,3,10,2,1,4,7,8,9,6</td>\n",
       "      <td>5,3,4,7,11,1,10,2,9,8,6</td>\n",
       "      <td>5,8,3,2,7,9,6,12,11,1,4,10</td>\n",
       "      <td>5,9,6,4,7,12,10,11,14,2,3,8,1,13</td>\n",
       "      <td>...</td>\n",
       "      <td>5,13,4,3,2,22,9,8,26,27,17,1,14,15,24,16,19,18...</td>\n",
       "      <td>5,15,26,28,27,2,11,7,12,6,20,23,1,8,9,19,16,18...</td>\n",
       "      <td>5,24,12,2,16,1,4,9,22,20,14,29,7,19,13,17,15,6...</td>\n",
       "      <td>5,7,2,18,4,13,1,23,14,26,25,12,30,24,27,22,29,...</td>\n",
       "      <td>5,4,25,19,27,26,23,20,3,31,15,10,6,12,14,16,13...</td>\n",
       "      <td>5,3,30,8,20,28,24,10,19,7,16,15,12,21,6,11,29,...</td>\n",
       "      <td>5,1,13,30,11,3,23,22,12,18,21,16,6,15,8,4,24,1...</td>\n",
       "      <td>5,7,6,30,29,12,24,21,14,23,13,9,3,10,32,27,4,1...</td>\n",
       "      <td>5,1,13,23,34,3,31,30,6,8,33,15,21,19,7,28,10,2...</td>\n",
       "      <td>5,27,21,2,9,17,15,22,7,23,24,31,20,10,3,11,1,1...</td>\n",
       "    </tr>\n",
       "    <tr>\n",
       "      <th>C</th>\n",
       "      <td>17.666667</td>\n",
       "      <td>18.649845</td>\n",
       "      <td>21.333333</td>\n",
       "      <td>23.123872</td>\n",
       "      <td>30.259825</td>\n",
       "      <td>31.313709</td>\n",
       "      <td>37.299689</td>\n",
       "      <td>39.273965</td>\n",
       "      <td>51.34444</td>\n",
       "      <td>53.383697</td>\n",
       "      <td>...</td>\n",
       "      <td>121.711442</td>\n",
       "      <td>123.609317</td>\n",
       "      <td>129.801053</td>\n",
       "      <td>132.187596</td>\n",
       "      <td>137.891134</td>\n",
       "      <td>139.840241</td>\n",
       "      <td>141.438704</td>\n",
       "      <td>143.378534</td>\n",
       "      <td>155.454143</td>\n",
       "      <td>157.531704</td>\n",
       "    </tr>\n",
       "    <tr>\n",
       "      <th>C1</th>\n",
       "      <td>7</td>\n",
       "      <td>7</td>\n",
       "      <td>8</td>\n",
       "      <td>9</td>\n",
       "      <td>11</td>\n",
       "      <td>12</td>\n",
       "      <td>14</td>\n",
       "      <td>15</td>\n",
       "      <td>19</td>\n",
       "      <td>20</td>\n",
       "      <td>...</td>\n",
       "      <td>44</td>\n",
       "      <td>45</td>\n",
       "      <td>47</td>\n",
       "      <td>48</td>\n",
       "      <td>50</td>\n",
       "      <td>51</td>\n",
       "      <td>51</td>\n",
       "      <td>52</td>\n",
       "      <td>56</td>\n",
       "      <td>56</td>\n",
       "    </tr>\n",
       "    <tr>\n",
       "      <th>...</th>\n",
       "      <td>...</td>\n",
       "      <td>...</td>\n",
       "      <td>...</td>\n",
       "      <td>...</td>\n",
       "      <td>...</td>\n",
       "      <td>...</td>\n",
       "      <td>...</td>\n",
       "      <td>...</td>\n",
       "      <td>...</td>\n",
       "      <td>...</td>\n",
       "      <td>...</td>\n",
       "      <td>...</td>\n",
       "      <td>...</td>\n",
       "      <td>...</td>\n",
       "      <td>...</td>\n",
       "      <td>...</td>\n",
       "      <td>...</td>\n",
       "      <td>...</td>\n",
       "      <td>...</td>\n",
       "      <td>...</td>\n",
       "      <td>...</td>\n",
       "    </tr>\n",
       "    <tr>\n",
       "      <th>time_13</th>\n",
       "      <td>NaN</td>\n",
       "      <td>NaN</td>\n",
       "      <td>NaN</td>\n",
       "      <td>NaN</td>\n",
       "      <td>NaN</td>\n",
       "      <td>NaN</td>\n",
       "      <td>NaN</td>\n",
       "      <td>NaN</td>\n",
       "      <td>NaN</td>\n",
       "      <td>NaN</td>\n",
       "      <td>...</td>\n",
       "      <td>NaN</td>\n",
       "      <td>NaN</td>\n",
       "      <td>NaN</td>\n",
       "      <td>NaN</td>\n",
       "      <td>NaN</td>\n",
       "      <td>NaN</td>\n",
       "      <td>NaN</td>\n",
       "      <td>NaN</td>\n",
       "      <td>NaN</td>\n",
       "      <td>NaN</td>\n",
       "    </tr>\n",
       "    <tr>\n",
       "      <th>solution_14</th>\n",
       "      <td>NaN</td>\n",
       "      <td>NaN</td>\n",
       "      <td>NaN</td>\n",
       "      <td>NaN</td>\n",
       "      <td>NaN</td>\n",
       "      <td>NaN</td>\n",
       "      <td>NaN</td>\n",
       "      <td>NaN</td>\n",
       "      <td>NaN</td>\n",
       "      <td>NaN</td>\n",
       "      <td>...</td>\n",
       "      <td>NaN</td>\n",
       "      <td>NaN</td>\n",
       "      <td>NaN</td>\n",
       "      <td>NaN</td>\n",
       "      <td>NaN</td>\n",
       "      <td>NaN</td>\n",
       "      <td>NaN</td>\n",
       "      <td>NaN</td>\n",
       "      <td>NaN</td>\n",
       "      <td>NaN</td>\n",
       "    </tr>\n",
       "    <tr>\n",
       "      <th>check_14</th>\n",
       "      <td>NaN</td>\n",
       "      <td>NaN</td>\n",
       "      <td>NaN</td>\n",
       "      <td>NaN</td>\n",
       "      <td>NaN</td>\n",
       "      <td>NaN</td>\n",
       "      <td>NaN</td>\n",
       "      <td>NaN</td>\n",
       "      <td>NaN</td>\n",
       "      <td>NaN</td>\n",
       "      <td>...</td>\n",
       "      <td>NaN</td>\n",
       "      <td>NaN</td>\n",
       "      <td>NaN</td>\n",
       "      <td>NaN</td>\n",
       "      <td>NaN</td>\n",
       "      <td>NaN</td>\n",
       "      <td>NaN</td>\n",
       "      <td>NaN</td>\n",
       "      <td>NaN</td>\n",
       "      <td>NaN</td>\n",
       "    </tr>\n",
       "    <tr>\n",
       "      <th>cost_14</th>\n",
       "      <td>0</td>\n",
       "      <td>0</td>\n",
       "      <td>0</td>\n",
       "      <td>0</td>\n",
       "      <td>0</td>\n",
       "      <td>0</td>\n",
       "      <td>0</td>\n",
       "      <td>0</td>\n",
       "      <td>0</td>\n",
       "      <td>0</td>\n",
       "      <td>...</td>\n",
       "      <td>0</td>\n",
       "      <td>0</td>\n",
       "      <td>0</td>\n",
       "      <td>0</td>\n",
       "      <td>0</td>\n",
       "      <td>0</td>\n",
       "      <td>0</td>\n",
       "      <td>0</td>\n",
       "      <td>0</td>\n",
       "      <td>0</td>\n",
       "    </tr>\n",
       "    <tr>\n",
       "      <th>time_14</th>\n",
       "      <td>NaN</td>\n",
       "      <td>NaN</td>\n",
       "      <td>NaN</td>\n",
       "      <td>NaN</td>\n",
       "      <td>NaN</td>\n",
       "      <td>NaN</td>\n",
       "      <td>NaN</td>\n",
       "      <td>NaN</td>\n",
       "      <td>NaN</td>\n",
       "      <td>NaN</td>\n",
       "      <td>...</td>\n",
       "      <td>NaN</td>\n",
       "      <td>NaN</td>\n",
       "      <td>NaN</td>\n",
       "      <td>NaN</td>\n",
       "      <td>NaN</td>\n",
       "      <td>NaN</td>\n",
       "      <td>NaN</td>\n",
       "      <td>NaN</td>\n",
       "      <td>NaN</td>\n",
       "      <td>NaN</td>\n",
       "    </tr>\n",
       "  </tbody>\n",
       "</table>\n",
       "<p>66 rows × 30 columns</p>\n",
       "</div>"
      ],
      "text/plain": [
       "                    id 0       id 1         id 2           id 3  \\\n",
       "row_names                                                         \n",
       "id                  id 0       id 1         id 2           id 3   \n",
       "bestSol         2.080613   2.188399     2.209649       2.383603   \n",
       "sol          5,1,2,3,4,6  5,2,1,3,4  5,1,2,3,6,4  5,3,1,7,4,2,6   \n",
       "C              17.666667  18.649845    21.333333      23.123872   \n",
       "C1                     7          7            8              9   \n",
       "...                  ...        ...          ...            ...   \n",
       "time_13              NaN        NaN          NaN            NaN   \n",
       "solution_14          NaN        NaN          NaN            NaN   \n",
       "check_14             NaN        NaN          NaN            NaN   \n",
       "cost_14                0          0            0              0   \n",
       "time_14              NaN        NaN          NaN            NaN   \n",
       "\n",
       "                      id 4             id 5                  id 6  \\\n",
       "row_names                                                           \n",
       "id                    id 4             id 5                  id 6   \n",
       "bestSol           2.135481         2.649531               3.03232   \n",
       "sol          5,4,2,3,6,1,7  5,3,6,2,7,1,4,8  5,3,10,2,1,4,7,8,9,6   \n",
       "C                30.259825        31.313709             37.299689   \n",
       "C1                      11               12                    14   \n",
       "...                    ...              ...                   ...   \n",
       "time_13                NaN              NaN                   NaN   \n",
       "solution_14            NaN              NaN                   NaN   \n",
       "check_14               NaN              NaN                   NaN   \n",
       "cost_14                  0                0                     0   \n",
       "time_14                NaN              NaN                   NaN   \n",
       "\n",
       "                                id 7                        id 8  \\\n",
       "row_names                                                          \n",
       "id                              id 7                        id 8   \n",
       "bestSol                     3.399789                    3.363684   \n",
       "sol          5,3,4,7,11,1,10,2,9,8,6  5,8,3,2,7,9,6,12,11,1,4,10   \n",
       "C                          39.273965                    51.34444   \n",
       "C1                                15                          19   \n",
       "...                              ...                         ...   \n",
       "time_13                          NaN                         NaN   \n",
       "solution_14                      NaN                         NaN   \n",
       "check_14                         NaN                         NaN   \n",
       "cost_14                            0                           0   \n",
       "time_14                          NaN                         NaN   \n",
       "\n",
       "                                         id 9  ...  \\\n",
       "row_names                                      ...   \n",
       "id                                       id 9  ...   \n",
       "bestSol                              3.332041  ...   \n",
       "sol          5,9,6,4,7,12,10,11,14,2,3,8,1,13  ...   \n",
       "C                                   53.383697  ...   \n",
       "C1                                         20  ...   \n",
       "...                                       ...  ...   \n",
       "time_13                                   NaN  ...   \n",
       "solution_14                               NaN  ...   \n",
       "check_14                                  NaN  ...   \n",
       "cost_14                                     0  ...   \n",
       "time_14                                   NaN  ...   \n",
       "\n",
       "                                                         id 20  \\\n",
       "row_names                                                        \n",
       "id                                                       id 20   \n",
       "bestSol                                               4.583309   \n",
       "sol          5,13,4,3,2,22,9,8,26,27,17,1,14,15,24,16,19,18...   \n",
       "C                                                   121.711442   \n",
       "C1                                                          44   \n",
       "...                                                        ...   \n",
       "time_13                                                    NaN   \n",
       "solution_14                                                NaN   \n",
       "check_14                                                   NaN   \n",
       "cost_14                                                      0   \n",
       "time_14                                                    NaN   \n",
       "\n",
       "                                                         id 21  \\\n",
       "row_names                                                        \n",
       "id                                                       id 21   \n",
       "bestSol                                                4.32396   \n",
       "sol          5,15,26,28,27,2,11,7,12,6,20,23,1,8,9,19,16,18...   \n",
       "C                                                   123.609317   \n",
       "C1                                                          45   \n",
       "...                                                        ...   \n",
       "time_13                                                    NaN   \n",
       "solution_14                                                NaN   \n",
       "check_14                                                   NaN   \n",
       "cost_14                                                      0   \n",
       "time_14                                                    NaN   \n",
       "\n",
       "                                                         id 22  \\\n",
       "row_names                                                        \n",
       "id                                                       id 22   \n",
       "bestSol                                               4.261522   \n",
       "sol          5,24,12,2,16,1,4,9,22,20,14,29,7,19,13,17,15,6...   \n",
       "C                                                   129.801053   \n",
       "C1                                                          47   \n",
       "...                                                        ...   \n",
       "time_13                                                    NaN   \n",
       "solution_14                                                NaN   \n",
       "check_14                                                   NaN   \n",
       "cost_14                                                      0   \n",
       "time_14                                                    NaN   \n",
       "\n",
       "                                                         id 23  \\\n",
       "row_names                                                        \n",
       "id                                                       id 23   \n",
       "bestSol                                               3.970236   \n",
       "sol          5,7,2,18,4,13,1,23,14,26,25,12,30,24,27,22,29,...   \n",
       "C                                                   132.187596   \n",
       "C1                                                          48   \n",
       "...                                                        ...   \n",
       "time_13                                                    NaN   \n",
       "solution_14                                                NaN   \n",
       "check_14                                                   NaN   \n",
       "cost_14                                                      0   \n",
       "time_14                                                    NaN   \n",
       "\n",
       "                                                         id 24  \\\n",
       "row_names                                                        \n",
       "id                                                       id 24   \n",
       "bestSol                                               5.045622   \n",
       "sol          5,4,25,19,27,26,23,20,3,31,15,10,6,12,14,16,13...   \n",
       "C                                                   137.891134   \n",
       "C1                                                          50   \n",
       "...                                                        ...   \n",
       "time_13                                                    NaN   \n",
       "solution_14                                                NaN   \n",
       "check_14                                                   NaN   \n",
       "cost_14                                                      0   \n",
       "time_14                                                    NaN   \n",
       "\n",
       "                                                         id 25  \\\n",
       "row_names                                                        \n",
       "id                                                       id 25   \n",
       "bestSol                                               4.958354   \n",
       "sol          5,3,30,8,20,28,24,10,19,7,16,15,12,21,6,11,29,...   \n",
       "C                                                   139.840241   \n",
       "C1                                                          51   \n",
       "...                                                        ...   \n",
       "time_13                                                    NaN   \n",
       "solution_14                                                NaN   \n",
       "check_14                                                   NaN   \n",
       "cost_14                                                      0   \n",
       "time_14                                                    NaN   \n",
       "\n",
       "                                                         id 26  \\\n",
       "row_names                                                        \n",
       "id                                                       id 26   \n",
       "bestSol                                               4.545737   \n",
       "sol          5,1,13,30,11,3,23,22,12,18,21,16,6,15,8,4,24,1...   \n",
       "C                                                   141.438704   \n",
       "C1                                                          51   \n",
       "...                                                        ...   \n",
       "time_13                                                    NaN   \n",
       "solution_14                                                NaN   \n",
       "check_14                                                   NaN   \n",
       "cost_14                                                      0   \n",
       "time_14                                                    NaN   \n",
       "\n",
       "                                                         id 27  \\\n",
       "row_names                                                        \n",
       "id                                                       id 27   \n",
       "bestSol                                               5.135846   \n",
       "sol          5,7,6,30,29,12,24,21,14,23,13,9,3,10,32,27,4,1...   \n",
       "C                                                   143.378534   \n",
       "C1                                                          52   \n",
       "...                                                        ...   \n",
       "time_13                                                    NaN   \n",
       "solution_14                                                NaN   \n",
       "check_14                                                   NaN   \n",
       "cost_14                                                      0   \n",
       "time_14                                                    NaN   \n",
       "\n",
       "                                                         id 28  \\\n",
       "row_names                                                        \n",
       "id                                                       id 28   \n",
       "bestSol                                               4.858339   \n",
       "sol          5,1,13,23,34,3,31,30,6,8,33,15,21,19,7,28,10,2...   \n",
       "C                                                   155.454143   \n",
       "C1                                                          56   \n",
       "...                                                        ...   \n",
       "time_13                                                    NaN   \n",
       "solution_14                                                NaN   \n",
       "check_14                                                   NaN   \n",
       "cost_14                                                      0   \n",
       "time_14                                                    NaN   \n",
       "\n",
       "                                                         id 30  \n",
       "row_names                                                       \n",
       "id                                                       id 30  \n",
       "bestSol                                               4.335627  \n",
       "sol          5,27,21,2,9,17,15,22,7,23,24,31,20,10,3,11,1,1...  \n",
       "C                                                   157.531704  \n",
       "C1                                                          56  \n",
       "...                                                        ...  \n",
       "time_13                                                    NaN  \n",
       "solution_14                                                NaN  \n",
       "check_14                                                   NaN  \n",
       "cost_14                                                      0  \n",
       "time_14                                                    NaN  \n",
       "\n",
       "[66 rows x 30 columns]"
      ]
     },
     "execution_count": 3,
     "metadata": {},
     "output_type": "execute_result"
    }
   ],
   "source": [
    "df = df_excel.iloc[2:32].T\n",
    "rows = ['id','bestSol','sol','C','C1','C2','C3','n-nodes','n-points','sorted sol']\n",
    "count=1\n",
    "for i in range(len(rows),len(df),4):\n",
    "    rows.extend([f'solution_{count}',f'check_{count}',f'cost_{count}',f'time_{count}'])\n",
    "    count+=1\n",
    "df['row_names'] = rows\n",
    "df = df.set_index('row_names')\n",
    "cols = {}\n",
    "for i in range(2,32,1):\n",
    "    cols[i] = f\"id {i-2}\"\n",
    "cols[31] = \"id 30\"\n",
    "df = df.rename(columns=cols)\n",
    "df"
   ]
  },
  {
   "cell_type": "code",
   "execution_count": 4,
   "id": "49afade7",
   "metadata": {},
   "outputs": [],
   "source": [
    "def get_id_values(df,ident):\n",
    "    df_temp =df[ident].iloc[10:]\n",
    "    rows_sol = [f'solution_{j}' for j in range(1,int(len(df_temp)/4))]\n",
    "    rows_check = [f'check_{j}' for j in range(1,int(len(df_temp)/4))]\n",
    "    rows_cost = [f'cost_{j}' for j in range(1,int(len(df_temp)/4))]\n",
    "    rows_time = [f'time_{j}' for j in range(1,int(len(df_temp)/4))]\n",
    "    df_sol = pd.DataFrame([df_temp.loc[rows_sol]]).T.reset_index().drop(columns=['row_names']).rename(columns={ident:'solution'})\n",
    "    df_check = pd.DataFrame([df_temp.loc[rows_check]]).T.reset_index().drop(columns=['row_names']).rename(columns={ident:'check'})\n",
    "    df_cost = pd.DataFrame([df_temp.loc[rows_cost]]).T.reset_index().drop(columns=['row_names']).rename(columns={ident:'cost'})\n",
    "    df_time = pd.DataFrame([df_temp.loc[rows_time]]).T.reset_index().drop(columns=['row_names']).rename(columns={ident:'time'})\n",
    "    df_out = pd.concat([df_sol,df_check,df_cost,df_time],axis=1)\n",
    "    df_out['C'] = [df[ident].loc['C']]*len(df_out)\n",
    "    df_out['id'] = [ident]*len(df_out)\n",
    "    df_out['normalized_cost'] = df_out['cost']/df[ident].loc['bestSol']\n",
    "    df_out = df_out.dropna(thresh=5).reset_index()\n",
    "    df_out['time/C'] = df_out['time']/df_out['C']\n",
    "    return df_out"
   ]
  },
  {
   "cell_type": "code",
   "execution_count": 5,
   "id": "2394eae8",
   "metadata": {},
   "outputs": [],
   "source": [
    "all_df = {}\n",
    "unified_df = get_id_values(df,'id 0')\n",
    "for i in range(1,30,1):\n",
    "    ident = f'id {i}'\n",
    "    if i == 29:\n",
    "        ident = 'id 30'\n",
    "    all_df[ident] = get_id_values(df,ident)\n",
    "    unified_df = pd.concat([unified_df,all_df[ident]])\n",
    "unified_df = unified_df.reset_index()"
   ]
  },
  {
   "cell_type": "code",
   "execution_count": 6,
   "id": "8a851e8a",
   "metadata": {},
   "outputs": [],
   "source": [
    "from sklearn.linear_model import LinearRegression\n",
    "unified_df['log_cost']= np.log(unified_df['cost'])\n",
    "unified_df['log_C']= np.log(unified_df['C'])\n",
    "unified_df['log_time']= np.log(unified_df['time'])\n",
    "log_cost_reg = LinearRegression().fit(unified_df['log_C'].to_numpy().reshape(-1, 1), unified_df['cost'].to_numpy().reshape(-1, 1))\n",
    "log_time_reg = LinearRegression().fit(unified_df.dropna()['log_C'].to_numpy().reshape(-1, 1), unified_df.dropna()['log_time'].to_numpy().reshape(-1, 1))"
   ]
  },
  {
   "cell_type": "code",
   "execution_count": 7,
   "id": "e9bf8aad-f79d-4e47-a435-555ec84eaca0",
   "metadata": {},
   "outputs": [
    {
     "name": "stdout",
     "output_type": "stream",
     "text": [
      "[[1.70667437]]\n",
      "[-3.0464416]\n"
     ]
    },
    {
     "data": {
      "text/plain": [
       "array([[167.62099511]])"
      ]
     },
     "execution_count": 7,
     "metadata": {},
     "output_type": "execute_result"
    }
   ],
   "source": [
    "print(log_cost_reg.coef_)\n",
    "print(log_cost_reg.intercept_)\n",
    "log_cost_reg.predict(np.array([[100]]))"
   ]
  },
  {
   "cell_type": "code",
   "execution_count": 8,
   "id": "433435a9-9803-428e-af89-170e9f31494c",
   "metadata": {},
   "outputs": [
    {
     "name": "stdout",
     "output_type": "stream",
     "text": [
      "[[0.62132663]]\n",
      "[1.55619412]\n"
     ]
    },
    {
     "data": {
      "text/plain": [
       "array([[63.68885731]])"
      ]
     },
     "execution_count": 8,
     "metadata": {},
     "output_type": "execute_result"
    }
   ],
   "source": [
    "print(log_time_reg.coef_)\n",
    "print(log_time_reg.intercept_)\n",
    "log_time_reg.predict(np.array([[100]]))"
   ]
  },
  {
   "cell_type": "code",
   "execution_count": 35,
   "id": "361e9ddf",
   "metadata": {},
   "outputs": [
    {
     "data": {
      "application/vnd.plotly.v1+json": {
       "config": {
        "plotlyServerURL": "https://plot.ly"
       },
       "data": [
        {
         "hovertemplate": "C=%{x}<br>cost=%{y}<extra></extra>",
         "legendgroup": "",
         "marker": {
          "color": "#636efa",
          "symbol": "circle"
         },
         "mode": "markers",
         "name": "",
         "orientation": "v",
         "showlegend": false,
         "type": "scatter",
         "x": [
          17.66666667,
          17.66666667,
          17.66666667,
          17.66666667,
          17.66666667,
          17.66666667,
          17.66666667,
          18.64984472,
          18.64984472,
          18.64984472,
          18.64984472,
          18.64984472,
          18.64984472,
          21.33333333,
          21.33333333,
          21.33333333,
          21.33333333,
          21.33333333,
          21.33333333,
          23.12387179,
          23.12387179,
          23.12387179,
          23.12387179,
          23.12387179,
          23.12387179,
          23.12387179,
          30.25982517,
          30.25982517,
          30.25982517,
          30.25982517,
          30.25982517,
          30.25982517,
          30.25982517,
          30.25982517,
          30.25982517,
          31.3137085,
          31.3137085,
          31.3137085,
          31.3137085,
          37.29968944,
          37.29968944,
          37.29968944,
          37.29968944,
          37.29968944,
          37.29968944,
          39.27396536,
          39.27396536,
          39.27396536,
          39.27396536,
          39.27396536,
          39.27396536,
          39.27396536,
          51.34444033,
          51.34444033,
          51.34444033,
          51.34444033,
          51.34444033,
          51.34444033,
          51.34444033,
          51.34444033,
          51.34444033,
          51.34444033,
          53.38369697,
          53.38369697,
          53.38369697,
          62.39180322,
          62.39180322,
          62.39180322,
          62.39180322,
          62.39180322,
          62.39180322,
          62.39180322,
          62.39180322,
          62.39180322,
          63.52664646,
          63.52664646,
          63.52664646,
          63.52664646,
          80.51001212,
          80.51001212,
          80.51001212,
          80.51001212,
          80.51001212,
          80.51001212,
          80.51001212,
          80.51001212,
          82.10308497,
          82.10308497,
          82.10308497,
          82.10308497,
          82.10308497,
          96.4598646,
          96.4598646,
          96.4598646,
          96.4598646,
          96.4598646,
          96.4598646,
          96.4598646,
          99.42980675,
          99.42980675,
          99.42980675,
          99.42980675,
          99.42980675,
          99.42980675,
          100.2979509,
          100.2979509,
          100.2979509,
          100.2979509,
          100.2979509,
          100.2979509,
          100.2979509,
          110.0742729,
          110.0742729,
          110.0742729,
          110.0742729,
          110.0742729,
          110.0742729,
          112.4752107,
          112.4752107,
          112.4752107,
          112.4752107,
          112.4752107,
          116.0278968,
          116.0278968,
          116.0278968,
          116.0278968,
          116.0278968,
          121.7114423,
          121.7114423,
          121.7114423,
          121.7114423,
          123.6093171,
          123.6093171,
          123.6093171,
          123.6093171,
          123.6093171,
          129.8010527,
          129.8010527,
          129.8010527,
          129.8010527,
          129.8010527,
          132.1875957,
          132.1875957,
          132.1875957,
          132.1875957,
          137.8911344,
          137.8911344,
          139.8402409,
          139.8402409,
          139.8402409,
          139.8402409,
          139.8402409,
          139.8402409,
          141.4387035,
          141.4387035,
          141.4387035,
          141.4387035,
          141.4387035,
          143.3785335,
          143.3785335,
          143.3785335,
          155.4541427,
          155.4541427,
          155.4541427,
          155.4541427,
          155.4541427,
          157.5317039,
          157.5317039,
          157.5317039
         ],
         "xaxis": "x",
         "y": [
          2.0806131474120955,
          2.0806131474120955,
          2.080613147412095,
          2.0806131474120955,
          2.0806131474120955,
          2.0806131474120955,
          2.414074875899525,
          2.197694840626626,
          2.188399310084886,
          2.197694840626626,
          2.188399310084886,
          2.188399310084886,
          2.197694840626626,
          2.209649468474593,
          2.209649468474593,
          2.209649468474593,
          2.291011754138564,
          2.209649468474593,
          2.4222542271326812,
          2.384104889934854,
          2.664162638228694,
          2.383602592173302,
          2.384104889934854,
          2.384104889934854,
          2.383602592173302,
          2.664162638228694,
          2.416456320408464,
          2.3369917110957577,
          2.1354812173574835,
          2.1721002585948304,
          2.1354812173574835,
          2.1354812173574835,
          2.1354812173574835,
          2.1354812173574835,
          2.1354812173574835,
          2.6495309405075713,
          2.8076568238063837,
          2.6495309405075713,
          2.6495309405075713,
          3.032319846189605,
          5.003311433689774,
          3.032319846189605,
          3.032319846189605,
          3.032319846189605,
          3.032319846189605,
          3.4038036740462427,
          3.4038036740462427,
          3.4038036740462427,
          3.4038036740462427,
          3.4038036740462427,
          3.505351792605132,
          3.489728843776101,
          3.499424440495058,
          3.459051006582198,
          3.4751551909789757,
          3.600076580202579,
          3.6947110425839482,
          3.398097810535848,
          3.398097810535848,
          3.3636839990026095,
          3.499424440495058,
          3.499424440495058,
          3.5513076217359263,
          3.3320412021057204,
          3.5513076217359263,
          4.153890684745384,
          4.638130203353003,
          4.171261944560729,
          3.9978435266219994,
          4.171261944560729,
          3.9978435266219994,
          3.9978435266219994,
          4.234742817760501,
          3.9978435266219985,
          3.470823420488278,
          3.179640590158016,
          3.3762877623656027,
          3.2246771681433155,
          3.8031419624740064,
          4.19061885683044,
          4.481622300568674,
          3.7946166106082773,
          4.162125710455305,
          3.7946166106082773,
          4.28875902068814,
          4.6778621958241855,
          5.001017888245356,
          4.603186530942936,
          4.54362644917914,
          4.527310749349161,
          4.4007173859874165,
          4.000181097121735,
          4.024834328380304,
          4.069088524965532,
          4.702321125055078,
          4.10509249096956,
          4.001659258519937,
          4.10509249096956,
          5.784508702351894,
          5.809885029745291,
          5.248772569237914,
          5.752288391544304,
          5.495036670937405,
          5.50074196882624,
          4.181177076909811,
          4.2630762230747345,
          4.889612069937423,
          4.599953429475099,
          4.334035534236993,
          4.181177076909811,
          4.448123729115746,
          5.2408643089805675,
          4.725007523161748,
          4.670327738584692,
          4.645583326538646,
          4.881267698195945,
          4.869217436033851,
          6.778279544787092,
          4.868081736399526,
          4.606791980786896,
          4.5324378662717075,
          4.606791980786896,
          4.616793702248687,
          6.923750972047182,
          4.462670399480935,
          4.610292831157847,
          4.7750846964563785,
          4.823260648206805,
          6.253993459004504,
          4.842610767031845,
          4.841685818092292,
          6.545259567336629,
          14.90764191961728,
          4.764710631995873,
          6.04578922273261,
          5.279839109093976,
          6.3003390003781155,
          4.634824837686548,
          4.58949752782657,
          4.775594438316463,
          4.410716565532837,
          4.135234242307323,
          3.970235610591506,
          4.34124000563856,
          4.223553024880623,
          5.306415144610673,
          5.254744980009756,
          7.299062458328484,
          6.024361733875538,
          4.95835423298493,
          5.330717823707613,
          4.95835423298493,
          5.164408804027014,
          4.622228151987441,
          4.9837666441756125,
          5.6225345330925585,
          4.754893873409143,
          4.562285916184941,
          8.943098726467774,
          5.300401983936428,
          5.619940815064853,
          5.906410874894064,
          5.473228132117972,
          5.076212715351096,
          5.16125262710646,
          5.146600809512683,
          4.661984883124514,
          7.263321598502995,
          4.448235453647922
         ],
         "yaxis": "y"
        },
        {
         "hovertemplate": "<b>OLS trendline</b><br>log10(cost) = 0.00295846 * C + 0.347555<br>R<sup>2</sup>=0.734704<br><br>C=%{x}<br>cost=%{y} <b>(trend)</b><extra></extra>",
         "legendgroup": "",
         "marker": {
          "color": "#636efa",
          "symbol": "circle"
         },
         "mode": "lines",
         "name": "",
         "showlegend": false,
         "type": "scatter",
         "x": [
          17.66666667,
          17.66666667,
          17.66666667,
          17.66666667,
          17.66666667,
          17.66666667,
          17.66666667,
          18.64984472,
          18.64984472,
          18.64984472,
          18.64984472,
          18.64984472,
          18.64984472,
          21.33333333,
          21.33333333,
          21.33333333,
          21.33333333,
          21.33333333,
          21.33333333,
          23.12387179,
          23.12387179,
          23.12387179,
          23.12387179,
          23.12387179,
          23.12387179,
          23.12387179,
          30.25982517,
          30.25982517,
          30.25982517,
          30.25982517,
          30.25982517,
          30.25982517,
          30.25982517,
          30.25982517,
          30.25982517,
          31.3137085,
          31.3137085,
          31.3137085,
          31.3137085,
          37.29968944,
          37.29968944,
          37.29968944,
          37.29968944,
          37.29968944,
          37.29968944,
          39.27396536,
          39.27396536,
          39.27396536,
          39.27396536,
          39.27396536,
          39.27396536,
          39.27396536,
          51.34444033,
          51.34444033,
          51.34444033,
          51.34444033,
          51.34444033,
          51.34444033,
          51.34444033,
          51.34444033,
          51.34444033,
          51.34444033,
          53.38369697,
          53.38369697,
          53.38369697,
          62.39180322,
          62.39180322,
          62.39180322,
          62.39180322,
          62.39180322,
          62.39180322,
          62.39180322,
          62.39180322,
          62.39180322,
          63.52664646,
          63.52664646,
          63.52664646,
          63.52664646,
          80.51001212,
          80.51001212,
          80.51001212,
          80.51001212,
          80.51001212,
          80.51001212,
          80.51001212,
          80.51001212,
          82.10308497,
          82.10308497,
          82.10308497,
          82.10308497,
          82.10308497,
          96.4598646,
          96.4598646,
          96.4598646,
          96.4598646,
          96.4598646,
          96.4598646,
          96.4598646,
          99.42980675,
          99.42980675,
          99.42980675,
          99.42980675,
          99.42980675,
          99.42980675,
          100.2979509,
          100.2979509,
          100.2979509,
          100.2979509,
          100.2979509,
          100.2979509,
          100.2979509,
          110.0742729,
          110.0742729,
          110.0742729,
          110.0742729,
          110.0742729,
          110.0742729,
          112.4752107,
          112.4752107,
          112.4752107,
          112.4752107,
          112.4752107,
          116.0278968,
          116.0278968,
          116.0278968,
          116.0278968,
          116.0278968,
          121.7114423,
          121.7114423,
          121.7114423,
          121.7114423,
          123.6093171,
          123.6093171,
          123.6093171,
          123.6093171,
          123.6093171,
          129.8010527,
          129.8010527,
          129.8010527,
          129.8010527,
          129.8010527,
          132.1875957,
          132.1875957,
          132.1875957,
          132.1875957,
          137.8911344,
          137.8911344,
          139.8402409,
          139.8402409,
          139.8402409,
          139.8402409,
          139.8402409,
          139.8402409,
          141.4387035,
          141.4387035,
          141.4387035,
          141.4387035,
          141.4387035,
          143.3785335,
          143.3785335,
          143.3785335,
          155.4541427,
          155.4541427,
          155.4541427,
          155.4541427,
          155.4541427,
          157.5317039,
          157.5317039,
          157.5317039
         ],
         "xaxis": "x",
         "y": [
          2.5108528624214834,
          2.5108528624214834,
          2.5108528624214834,
          2.5108528624214834,
          2.5108528624214834,
          2.5108528624214834,
          2.5108528624214834,
          2.5277257609642922,
          2.5277257609642922,
          2.5277257609642922,
          2.5277257609642922,
          2.5277257609642922,
          2.5277257609642922,
          2.574358008982543,
          2.574358008982543,
          2.574358008982543,
          2.574358008982543,
          2.574358008982543,
          2.574358008982543,
          2.6059505825652933,
          2.6059505825652933,
          2.6059505825652933,
          2.6059505825652933,
          2.6059505825652933,
          2.6059505825652933,
          2.6059505825652933,
          2.73575747369535,
          2.73575747369535,
          2.73575747369535,
          2.73575747369535,
          2.73575747369535,
          2.73575747369535,
          2.73575747369535,
          2.73575747369535,
          2.73575747369535,
          2.7554685843979905,
          2.7554685843979905,
          2.7554685843979905,
          2.7554685843979905,
          2.870150943719892,
          2.870150943719892,
          2.870150943719892,
          2.870150943719892,
          2.870150943719892,
          2.870150943719892,
          2.909012247354265,
          2.909012247354265,
          2.909012247354265,
          2.909012247354265,
          2.909012247354265,
          2.909012247354265,
          2.909012247354265,
          3.1583157291746695,
          3.1583157291746695,
          3.1583157291746695,
          3.1583157291746695,
          3.1583157291746695,
          3.1583157291746695,
          3.1583157291746695,
          3.1583157291746695,
          3.1583157291746695,
          3.1583157291746695,
          3.2024960177403985,
          3.2024960177403985,
          3.2024960177403985,
          3.405169247615857,
          3.405169247615857,
          3.405169247615857,
          3.405169247615857,
          3.405169247615857,
          3.405169247615857,
          3.405169247615857,
          3.405169247615857,
          3.405169247615857,
          3.4315954923288428,
          3.4315954923288428,
          3.4315954923288428,
          3.4315954923288428,
          3.852482397718469,
          3.852482397718469,
          3.852482397718469,
          3.852482397718469,
          3.852482397718469,
          3.852482397718469,
          3.852482397718469,
          3.852482397718469,
          3.89451788151858,
          3.89451788151858,
          3.89451788151858,
          3.89451788151858,
          3.89451788151858,
          4.294648576858366,
          4.294648576858366,
          4.294648576858366,
          4.294648576858366,
          4.294648576858366,
          4.294648576858366,
          4.294648576858366,
          4.382420851575534,
          4.382420851575534,
          4.382420851575534,
          4.382420851575534,
          4.382420851575534,
          4.382420851575534,
          4.408414775377567,
          4.408414775377567,
          4.408414775377567,
          4.408414775377567,
          4.408414775377567,
          4.408414775377567,
          4.408414775377567,
          4.7120000628616765,
          4.7120000628616765,
          4.7120000628616765,
          4.7120000628616765,
          4.7120000628616765,
          4.7120000628616765,
          4.789700537973603,
          4.789700537973603,
          4.789700537973603,
          4.789700537973603,
          4.789700537973603,
          4.907031365363727,
          4.907031365363727,
          4.907031365363727,
          4.907031365363727,
          4.907031365363727,
          5.100742089958254,
          5.100742089958254,
          5.100742089958254,
          5.100742089958254,
          5.167115241648169,
          5.167115241648169,
          5.167115241648169,
          5.167115241648169,
          5.167115241648169,
          5.389719177122683,
          5.389719177122683,
          5.389719177122683,
          5.389719177122683,
          5.389719177122683,
          5.4780579837155905,
          5.4780579837155905,
          5.4780579837155905,
          5.4780579837155905,
          5.695086236351807,
          5.695086236351807,
          5.77120703561436,
          5.77120703561436,
          5.77120703561436,
          5.77120703561436,
          5.77120703561436,
          5.77120703561436,
          5.834392454911581,
          5.834392454911581,
          5.834392454911581,
          5.834392454911581,
          5.834392454911581,
          5.912001622138716,
          5.912001622138716,
          5.912001622138716,
          6.418886958149279,
          6.418886958149279,
          6.418886958149279,
          6.418886958149279,
          6.418886958149279,
          6.510376502970205,
          6.510376502970205,
          6.510376502970205
         ],
         "yaxis": "y"
        }
       ],
       "layout": {
        "autosize": true,
        "legend": {
         "tracegroupgap": 0
        },
        "margin": {
         "t": 60
        },
        "template": {
         "data": {
          "bar": [
           {
            "error_x": {
             "color": "#2a3f5f"
            },
            "error_y": {
             "color": "#2a3f5f"
            },
            "marker": {
             "line": {
              "color": "#E5ECF6",
              "width": 0.5
             },
             "pattern": {
              "fillmode": "overlay",
              "size": 10,
              "solidity": 0.2
             }
            },
            "type": "bar"
           }
          ],
          "barpolar": [
           {
            "marker": {
             "line": {
              "color": "#E5ECF6",
              "width": 0.5
             },
             "pattern": {
              "fillmode": "overlay",
              "size": 10,
              "solidity": 0.2
             }
            },
            "type": "barpolar"
           }
          ],
          "carpet": [
           {
            "aaxis": {
             "endlinecolor": "#2a3f5f",
             "gridcolor": "white",
             "linecolor": "white",
             "minorgridcolor": "white",
             "startlinecolor": "#2a3f5f"
            },
            "baxis": {
             "endlinecolor": "#2a3f5f",
             "gridcolor": "white",
             "linecolor": "white",
             "minorgridcolor": "white",
             "startlinecolor": "#2a3f5f"
            },
            "type": "carpet"
           }
          ],
          "choropleth": [
           {
            "colorbar": {
             "outlinewidth": 0,
             "ticks": ""
            },
            "type": "choropleth"
           }
          ],
          "contour": [
           {
            "colorbar": {
             "outlinewidth": 0,
             "ticks": ""
            },
            "colorscale": [
             [
              0,
              "#0d0887"
             ],
             [
              0.1111111111111111,
              "#46039f"
             ],
             [
              0.2222222222222222,
              "#7201a8"
             ],
             [
              0.3333333333333333,
              "#9c179e"
             ],
             [
              0.4444444444444444,
              "#bd3786"
             ],
             [
              0.5555555555555556,
              "#d8576b"
             ],
             [
              0.6666666666666666,
              "#ed7953"
             ],
             [
              0.7777777777777778,
              "#fb9f3a"
             ],
             [
              0.8888888888888888,
              "#fdca26"
             ],
             [
              1,
              "#f0f921"
             ]
            ],
            "type": "contour"
           }
          ],
          "contourcarpet": [
           {
            "colorbar": {
             "outlinewidth": 0,
             "ticks": ""
            },
            "type": "contourcarpet"
           }
          ],
          "heatmap": [
           {
            "colorbar": {
             "outlinewidth": 0,
             "ticks": ""
            },
            "colorscale": [
             [
              0,
              "#0d0887"
             ],
             [
              0.1111111111111111,
              "#46039f"
             ],
             [
              0.2222222222222222,
              "#7201a8"
             ],
             [
              0.3333333333333333,
              "#9c179e"
             ],
             [
              0.4444444444444444,
              "#bd3786"
             ],
             [
              0.5555555555555556,
              "#d8576b"
             ],
             [
              0.6666666666666666,
              "#ed7953"
             ],
             [
              0.7777777777777778,
              "#fb9f3a"
             ],
             [
              0.8888888888888888,
              "#fdca26"
             ],
             [
              1,
              "#f0f921"
             ]
            ],
            "type": "heatmap"
           }
          ],
          "heatmapgl": [
           {
            "colorbar": {
             "outlinewidth": 0,
             "ticks": ""
            },
            "colorscale": [
             [
              0,
              "#0d0887"
             ],
             [
              0.1111111111111111,
              "#46039f"
             ],
             [
              0.2222222222222222,
              "#7201a8"
             ],
             [
              0.3333333333333333,
              "#9c179e"
             ],
             [
              0.4444444444444444,
              "#bd3786"
             ],
             [
              0.5555555555555556,
              "#d8576b"
             ],
             [
              0.6666666666666666,
              "#ed7953"
             ],
             [
              0.7777777777777778,
              "#fb9f3a"
             ],
             [
              0.8888888888888888,
              "#fdca26"
             ],
             [
              1,
              "#f0f921"
             ]
            ],
            "type": "heatmapgl"
           }
          ],
          "histogram": [
           {
            "marker": {
             "pattern": {
              "fillmode": "overlay",
              "size": 10,
              "solidity": 0.2
             }
            },
            "type": "histogram"
           }
          ],
          "histogram2d": [
           {
            "colorbar": {
             "outlinewidth": 0,
             "ticks": ""
            },
            "colorscale": [
             [
              0,
              "#0d0887"
             ],
             [
              0.1111111111111111,
              "#46039f"
             ],
             [
              0.2222222222222222,
              "#7201a8"
             ],
             [
              0.3333333333333333,
              "#9c179e"
             ],
             [
              0.4444444444444444,
              "#bd3786"
             ],
             [
              0.5555555555555556,
              "#d8576b"
             ],
             [
              0.6666666666666666,
              "#ed7953"
             ],
             [
              0.7777777777777778,
              "#fb9f3a"
             ],
             [
              0.8888888888888888,
              "#fdca26"
             ],
             [
              1,
              "#f0f921"
             ]
            ],
            "type": "histogram2d"
           }
          ],
          "histogram2dcontour": [
           {
            "colorbar": {
             "outlinewidth": 0,
             "ticks": ""
            },
            "colorscale": [
             [
              0,
              "#0d0887"
             ],
             [
              0.1111111111111111,
              "#46039f"
             ],
             [
              0.2222222222222222,
              "#7201a8"
             ],
             [
              0.3333333333333333,
              "#9c179e"
             ],
             [
              0.4444444444444444,
              "#bd3786"
             ],
             [
              0.5555555555555556,
              "#d8576b"
             ],
             [
              0.6666666666666666,
              "#ed7953"
             ],
             [
              0.7777777777777778,
              "#fb9f3a"
             ],
             [
              0.8888888888888888,
              "#fdca26"
             ],
             [
              1,
              "#f0f921"
             ]
            ],
            "type": "histogram2dcontour"
           }
          ],
          "mesh3d": [
           {
            "colorbar": {
             "outlinewidth": 0,
             "ticks": ""
            },
            "type": "mesh3d"
           }
          ],
          "parcoords": [
           {
            "line": {
             "colorbar": {
              "outlinewidth": 0,
              "ticks": ""
             }
            },
            "type": "parcoords"
           }
          ],
          "pie": [
           {
            "automargin": true,
            "type": "pie"
           }
          ],
          "scatter": [
           {
            "marker": {
             "colorbar": {
              "outlinewidth": 0,
              "ticks": ""
             }
            },
            "type": "scatter"
           }
          ],
          "scatter3d": [
           {
            "line": {
             "colorbar": {
              "outlinewidth": 0,
              "ticks": ""
             }
            },
            "marker": {
             "colorbar": {
              "outlinewidth": 0,
              "ticks": ""
             }
            },
            "type": "scatter3d"
           }
          ],
          "scattercarpet": [
           {
            "marker": {
             "colorbar": {
              "outlinewidth": 0,
              "ticks": ""
             }
            },
            "type": "scattercarpet"
           }
          ],
          "scattergeo": [
           {
            "marker": {
             "colorbar": {
              "outlinewidth": 0,
              "ticks": ""
             }
            },
            "type": "scattergeo"
           }
          ],
          "scattergl": [
           {
            "marker": {
             "colorbar": {
              "outlinewidth": 0,
              "ticks": ""
             }
            },
            "type": "scattergl"
           }
          ],
          "scattermapbox": [
           {
            "marker": {
             "colorbar": {
              "outlinewidth": 0,
              "ticks": ""
             }
            },
            "type": "scattermapbox"
           }
          ],
          "scatterpolar": [
           {
            "marker": {
             "colorbar": {
              "outlinewidth": 0,
              "ticks": ""
             }
            },
            "type": "scatterpolar"
           }
          ],
          "scatterpolargl": [
           {
            "marker": {
             "colorbar": {
              "outlinewidth": 0,
              "ticks": ""
             }
            },
            "type": "scatterpolargl"
           }
          ],
          "scatterternary": [
           {
            "marker": {
             "colorbar": {
              "outlinewidth": 0,
              "ticks": ""
             }
            },
            "type": "scatterternary"
           }
          ],
          "surface": [
           {
            "colorbar": {
             "outlinewidth": 0,
             "ticks": ""
            },
            "colorscale": [
             [
              0,
              "#0d0887"
             ],
             [
              0.1111111111111111,
              "#46039f"
             ],
             [
              0.2222222222222222,
              "#7201a8"
             ],
             [
              0.3333333333333333,
              "#9c179e"
             ],
             [
              0.4444444444444444,
              "#bd3786"
             ],
             [
              0.5555555555555556,
              "#d8576b"
             ],
             [
              0.6666666666666666,
              "#ed7953"
             ],
             [
              0.7777777777777778,
              "#fb9f3a"
             ],
             [
              0.8888888888888888,
              "#fdca26"
             ],
             [
              1,
              "#f0f921"
             ]
            ],
            "type": "surface"
           }
          ],
          "table": [
           {
            "cells": {
             "fill": {
              "color": "#EBF0F8"
             },
             "line": {
              "color": "white"
             }
            },
            "header": {
             "fill": {
              "color": "#C8D4E3"
             },
             "line": {
              "color": "white"
             }
            },
            "type": "table"
           }
          ]
         },
         "layout": {
          "annotationdefaults": {
           "arrowcolor": "#2a3f5f",
           "arrowhead": 0,
           "arrowwidth": 1
          },
          "autotypenumbers": "strict",
          "coloraxis": {
           "colorbar": {
            "outlinewidth": 0,
            "ticks": ""
           }
          },
          "colorscale": {
           "diverging": [
            [
             0,
             "#8e0152"
            ],
            [
             0.1,
             "#c51b7d"
            ],
            [
             0.2,
             "#de77ae"
            ],
            [
             0.3,
             "#f1b6da"
            ],
            [
             0.4,
             "#fde0ef"
            ],
            [
             0.5,
             "#f7f7f7"
            ],
            [
             0.6,
             "#e6f5d0"
            ],
            [
             0.7,
             "#b8e186"
            ],
            [
             0.8,
             "#7fbc41"
            ],
            [
             0.9,
             "#4d9221"
            ],
            [
             1,
             "#276419"
            ]
           ],
           "sequential": [
            [
             0,
             "#0d0887"
            ],
            [
             0.1111111111111111,
             "#46039f"
            ],
            [
             0.2222222222222222,
             "#7201a8"
            ],
            [
             0.3333333333333333,
             "#9c179e"
            ],
            [
             0.4444444444444444,
             "#bd3786"
            ],
            [
             0.5555555555555556,
             "#d8576b"
            ],
            [
             0.6666666666666666,
             "#ed7953"
            ],
            [
             0.7777777777777778,
             "#fb9f3a"
            ],
            [
             0.8888888888888888,
             "#fdca26"
            ],
            [
             1,
             "#f0f921"
            ]
           ],
           "sequentialminus": [
            [
             0,
             "#0d0887"
            ],
            [
             0.1111111111111111,
             "#46039f"
            ],
            [
             0.2222222222222222,
             "#7201a8"
            ],
            [
             0.3333333333333333,
             "#9c179e"
            ],
            [
             0.4444444444444444,
             "#bd3786"
            ],
            [
             0.5555555555555556,
             "#d8576b"
            ],
            [
             0.6666666666666666,
             "#ed7953"
            ],
            [
             0.7777777777777778,
             "#fb9f3a"
            ],
            [
             0.8888888888888888,
             "#fdca26"
            ],
            [
             1,
             "#f0f921"
            ]
           ]
          },
          "colorway": [
           "#636efa",
           "#EF553B",
           "#00cc96",
           "#ab63fa",
           "#FFA15A",
           "#19d3f3",
           "#FF6692",
           "#B6E880",
           "#FF97FF",
           "#FECB52"
          ],
          "font": {
           "color": "#2a3f5f"
          },
          "geo": {
           "bgcolor": "white",
           "lakecolor": "white",
           "landcolor": "#E5ECF6",
           "showlakes": true,
           "showland": true,
           "subunitcolor": "white"
          },
          "hoverlabel": {
           "align": "left"
          },
          "hovermode": "closest",
          "mapbox": {
           "style": "light"
          },
          "paper_bgcolor": "white",
          "plot_bgcolor": "#E5ECF6",
          "polar": {
           "angularaxis": {
            "gridcolor": "white",
            "linecolor": "white",
            "ticks": ""
           },
           "bgcolor": "#E5ECF6",
           "radialaxis": {
            "gridcolor": "white",
            "linecolor": "white",
            "ticks": ""
           }
          },
          "scene": {
           "xaxis": {
            "backgroundcolor": "#E5ECF6",
            "gridcolor": "white",
            "gridwidth": 2,
            "linecolor": "white",
            "showbackground": true,
            "ticks": "",
            "zerolinecolor": "white"
           },
           "yaxis": {
            "backgroundcolor": "#E5ECF6",
            "gridcolor": "white",
            "gridwidth": 2,
            "linecolor": "white",
            "showbackground": true,
            "ticks": "",
            "zerolinecolor": "white"
           },
           "zaxis": {
            "backgroundcolor": "#E5ECF6",
            "gridcolor": "white",
            "gridwidth": 2,
            "linecolor": "white",
            "showbackground": true,
            "ticks": "",
            "zerolinecolor": "white"
           }
          },
          "shapedefaults": {
           "line": {
            "color": "#2a3f5f"
           }
          },
          "ternary": {
           "aaxis": {
            "gridcolor": "white",
            "linecolor": "white",
            "ticks": ""
           },
           "baxis": {
            "gridcolor": "white",
            "linecolor": "white",
            "ticks": ""
           },
           "bgcolor": "#E5ECF6",
           "caxis": {
            "gridcolor": "white",
            "linecolor": "white",
            "ticks": ""
           }
          },
          "title": {
           "x": 0.05
          },
          "xaxis": {
           "automargin": true,
           "gridcolor": "white",
           "linecolor": "white",
           "ticks": "",
           "title": {
            "standoff": 15
           },
           "zerolinecolor": "white",
           "zerolinewidth": 2
          },
          "yaxis": {
           "automargin": true,
           "gridcolor": "white",
           "linecolor": "white",
           "ticks": "",
           "title": {
            "standoff": 15
           },
           "zerolinecolor": "white",
           "zerolinewidth": 2
          }
         }
        },
        "xaxis": {
         "anchor": "y",
         "autorange": true,
         "domain": [
          0,
          1
         ],
         "range": [
          9.346083718640228,
          165.85228685135976
         ],
         "title": {
          "text": "C"
         },
         "type": "linear"
        },
        "yaxis": {
         "anchor": "x",
         "autorange": true,
         "domain": [
          0,
          1
         ],
         "range": [
          1.0874442529762605,
          15.900810814053115
         ],
         "title": {
          "text": "cost"
         },
         "type": "linear"
        }
       }
      },
      "image/png": "[encoded data removed]",
      "text/html": [
       "<div>                            <div id=\"b4f7e9ed-a3c2-4ba1-ab5e-c08dca515e7a\" class=\"plotly-graph-div\" style=\"height:525px; width:100%;\"></div>            <script type=\"text/javascript\">                require([\"plotly\"], function(Plotly) {                    window.PLOTLYENV=window.PLOTLYENV || {};                                    if (document.getElementById(\"b4f7e9ed-a3c2-4ba1-ab5e-c08dca515e7a\")) {                    Plotly.newPlot(                        \"b4f7e9ed-a3c2-4ba1-ab5e-c08dca515e7a\",                        [{\"hovertemplate\":\"C=%{x}<br>cost=%{y}<extra></extra>\",\"legendgroup\":\"\",\"marker\":{\"color\":\"#636efa\",\"symbol\":\"circle\"},\"mode\":\"markers\",\"name\":\"\",\"orientation\":\"v\",\"showlegend\":false,\"x\":[17.66666667,17.66666667,17.66666667,17.66666667,17.66666667,17.66666667,17.66666667,18.64984472,18.64984472,18.64984472,18.64984472,18.64984472,18.64984472,21.33333333,21.33333333,21.33333333,21.33333333,21.33333333,21.33333333,23.12387179,23.12387179,23.12387179,23.12387179,23.12387179,23.12387179,23.12387179,30.25982517,30.25982517,30.25982517,30.25982517,30.25982517,30.25982517,30.25982517,30.25982517,30.25982517,31.3137085,31.3137085,31.3137085,31.3137085,37.29968944,37.29968944,37.29968944,37.29968944,37.29968944,37.29968944,39.27396536,39.27396536,39.27396536,39.27396536,39.27396536,39.27396536,39.27396536,51.34444033,51.34444033,51.34444033,51.34444033,51.34444033,51.34444033,51.34444033,51.34444033,51.34444033,51.34444033,53.38369697,53.38369697,53.38369697,62.39180322,62.39180322,62.39180322,62.39180322,62.39180322,62.39180322,62.39180322,62.39180322,62.39180322,63.52664646,63.52664646,63.52664646,63.52664646,80.51001212,80.51001212,80.51001212,80.51001212,80.51001212,80.51001212,80.51001212,80.51001212,82.10308497,82.10308497,82.10308497,82.10308497,82.10308497,96.4598646,96.4598646,96.4598646,96.4598646,96.4598646,96.4598646,96.4598646,99.42980675,99.42980675,99.42980675,99.42980675,99.42980675,99.42980675,100.2979509,100.2979509,100.2979509,100.2979509,100.2979509,100.2979509,100.2979509,110.0742729,110.0742729,110.0742729,110.0742729,110.0742729,110.0742729,112.4752107,112.4752107,112.4752107,112.4752107,112.4752107,116.0278968,116.0278968,116.0278968,116.0278968,116.0278968,121.7114423,121.7114423,121.7114423,121.7114423,123.6093171,123.6093171,123.6093171,123.6093171,123.6093171,129.8010527,129.8010527,129.8010527,129.8010527,129.8010527,132.1875957,132.1875957,132.1875957,132.1875957,137.8911344,137.8911344,139.8402409,139.8402409,139.8402409,139.8402409,139.8402409,139.8402409,141.4387035,141.4387035,141.4387035,141.4387035,141.4387035,143.3785335,143.3785335,143.3785335,155.4541427,155.4541427,155.4541427,155.4541427,155.4541427,157.5317039,157.5317039,157.5317039],\"xaxis\":\"x\",\"y\":[2.0806131474120955,2.0806131474120955,2.080613147412095,2.0806131474120955,2.0806131474120955,2.0806131474120955,2.414074875899525,2.197694840626626,2.188399310084886,2.197694840626626,2.188399310084886,2.188399310084886,2.197694840626626,2.209649468474593,2.209649468474593,2.209649468474593,2.291011754138564,2.209649468474593,2.4222542271326812,2.384104889934854,2.664162638228694,2.383602592173302,2.384104889934854,2.384104889934854,2.383602592173302,2.664162638228694,2.416456320408464,2.3369917110957577,2.1354812173574835,2.1721002585948304,2.1354812173574835,2.1354812173574835,2.1354812173574835,2.1354812173574835,2.1354812173574835,2.6495309405075713,2.8076568238063837,2.6495309405075713,2.6495309405075713,3.032319846189605,5.003311433689774,3.032319846189605,3.032319846189605,3.032319846189605,3.032319846189605,3.4038036740462427,3.4038036740462427,3.4038036740462427,3.4038036740462427,3.4038036740462427,3.505351792605132,3.489728843776101,3.499424440495058,3.459051006582198,3.4751551909789757,3.600076580202579,3.6947110425839482,3.398097810535848,3.398097810535848,3.3636839990026095,3.499424440495058,3.499424440495058,3.5513076217359263,3.3320412021057204,3.5513076217359263,4.153890684745384,4.638130203353003,4.171261944560729,3.9978435266219994,4.171261944560729,3.9978435266219994,3.9978435266219994,4.234742817760501,3.9978435266219985,3.470823420488278,3.179640590158016,3.3762877623656027,3.2246771681433155,3.8031419624740064,4.19061885683044,4.481622300568674,3.7946166106082773,4.162125710455305,3.7946166106082773,4.28875902068814,4.6778621958241855,5.001017888245356,4.603186530942936,4.54362644917914,4.527310749349161,4.4007173859874165,4.000181097121735,4.024834328380304,4.069088524965532,4.702321125055078,4.10509249096956,4.001659258519937,4.10509249096956,5.784508702351894,5.809885029745291,5.248772569237914,5.752288391544304,5.495036670937405,5.50074196882624,4.181177076909811,4.2630762230747345,4.889612069937423,4.599953429475099,4.334035534236993,4.181177076909811,4.448123729115746,5.2408643089805675,4.725007523161748,4.670327738584692,4.645583326538646,4.881267698195945,4.869217436033851,6.778279544787092,4.868081736399526,4.606791980786896,4.5324378662717075,4.606791980786896,4.616793702248687,6.923750972047182,4.462670399480935,4.610292831157847,4.7750846964563785,4.823260648206805,6.253993459004504,4.842610767031845,4.841685818092292,6.545259567336629,14.90764191961728,4.764710631995873,6.04578922273261,5.279839109093976,6.3003390003781155,4.634824837686548,4.58949752782657,4.775594438316463,4.410716565532837,4.135234242307323,3.970235610591506,4.34124000563856,4.223553024880623,5.306415144610673,5.254744980009756,7.299062458328484,6.024361733875538,4.95835423298493,5.330717823707613,4.95835423298493,5.164408804027014,4.622228151987441,4.9837666441756125,5.6225345330925585,4.754893873409143,4.562285916184941,8.943098726467774,5.300401983936428,5.619940815064853,5.906410874894064,5.473228132117972,5.076212715351096,5.16125262710646,5.146600809512683,4.661984883124514,7.263321598502995,4.448235453647922],\"yaxis\":\"y\",\"type\":\"scatter\"},{\"hovertemplate\":\"<b>OLS trendline</b><br>log10(cost) = 0.00295846 * C + 0.347555<br>R<sup>2</sup>=0.734704<br><br>C=%{x}<br>cost=%{y} <b>(trend)</b><extra></extra>\",\"legendgroup\":\"\",\"marker\":{\"color\":\"#636efa\",\"symbol\":\"circle\"},\"mode\":\"lines\",\"name\":\"\",\"showlegend\":false,\"x\":[17.66666667,17.66666667,17.66666667,17.66666667,17.66666667,17.66666667,17.66666667,18.64984472,18.64984472,18.64984472,18.64984472,18.64984472,18.64984472,21.33333333,21.33333333,21.33333333,21.33333333,21.33333333,21.33333333,23.12387179,23.12387179,23.12387179,23.12387179,23.12387179,23.12387179,23.12387179,30.25982517,30.25982517,30.25982517,30.25982517,30.25982517,30.25982517,30.25982517,30.25982517,30.25982517,31.3137085,31.3137085,31.3137085,31.3137085,37.29968944,37.29968944,37.29968944,37.29968944,37.29968944,37.29968944,39.27396536,39.27396536,39.27396536,39.27396536,39.27396536,39.27396536,39.27396536,51.34444033,51.34444033,51.34444033,51.34444033,51.34444033,51.34444033,51.34444033,51.34444033,51.34444033,51.34444033,53.38369697,53.38369697,53.38369697,62.39180322,62.39180322,62.39180322,62.39180322,62.39180322,62.39180322,62.39180322,62.39180322,62.39180322,63.52664646,63.52664646,63.52664646,63.52664646,80.51001212,80.51001212,80.51001212,80.51001212,80.51001212,80.51001212,80.51001212,80.51001212,82.10308497,82.10308497,82.10308497,82.10308497,82.10308497,96.4598646,96.4598646,96.4598646,96.4598646,96.4598646,96.4598646,96.4598646,99.42980675,99.42980675,99.42980675,99.42980675,99.42980675,99.42980675,100.2979509,100.2979509,100.2979509,100.2979509,100.2979509,100.2979509,100.2979509,110.0742729,110.0742729,110.0742729,110.0742729,110.0742729,110.0742729,112.4752107,112.4752107,112.4752107,112.4752107,112.4752107,116.0278968,116.0278968,116.0278968,116.0278968,116.0278968,121.7114423,121.7114423,121.7114423,121.7114423,123.6093171,123.6093171,123.6093171,123.6093171,123.6093171,129.8010527,129.8010527,129.8010527,129.8010527,129.8010527,132.1875957,132.1875957,132.1875957,132.1875957,137.8911344,137.8911344,139.8402409,139.8402409,139.8402409,139.8402409,139.8402409,139.8402409,141.4387035,141.4387035,141.4387035,141.4387035,141.4387035,143.3785335,143.3785335,143.3785335,155.4541427,155.4541427,155.4541427,155.4541427,155.4541427,157.5317039,157.5317039,157.5317039],\"xaxis\":\"x\",\"y\":[2.5108528624214834,2.5108528624214834,2.5108528624214834,2.5108528624214834,2.5108528624214834,2.5108528624214834,2.5108528624214834,2.5277257609642922,2.5277257609642922,2.5277257609642922,2.5277257609642922,2.5277257609642922,2.5277257609642922,2.574358008982543,2.574358008982543,2.574358008982543,2.574358008982543,2.574358008982543,2.574358008982543,2.6059505825652933,2.6059505825652933,2.6059505825652933,2.6059505825652933,2.6059505825652933,2.6059505825652933,2.6059505825652933,2.73575747369535,2.73575747369535,2.73575747369535,2.73575747369535,2.73575747369535,2.73575747369535,2.73575747369535,2.73575747369535,2.73575747369535,2.7554685843979905,2.7554685843979905,2.7554685843979905,2.7554685843979905,2.870150943719892,2.870150943719892,2.870150943719892,2.870150943719892,2.870150943719892,2.870150943719892,2.909012247354265,2.909012247354265,2.909012247354265,2.909012247354265,2.909012247354265,2.909012247354265,2.909012247354265,3.1583157291746695,3.1583157291746695,3.1583157291746695,3.1583157291746695,3.1583157291746695,3.1583157291746695,3.1583157291746695,3.1583157291746695,3.1583157291746695,3.1583157291746695,3.2024960177403985,3.2024960177403985,3.2024960177403985,3.405169247615857,3.405169247615857,3.405169247615857,3.405169247615857,3.405169247615857,3.405169247615857,3.405169247615857,3.405169247615857,3.405169247615857,3.4315954923288428,3.4315954923288428,3.4315954923288428,3.4315954923288428,3.852482397718469,3.852482397718469,3.852482397718469,3.852482397718469,3.852482397718469,3.852482397718469,3.852482397718469,3.852482397718469,3.89451788151858,3.89451788151858,3.89451788151858,3.89451788151858,3.89451788151858,4.294648576858366,4.294648576858366,4.294648576858366,4.294648576858366,4.294648576858366,4.294648576858366,4.294648576858366,4.382420851575534,4.382420851575534,4.382420851575534,4.382420851575534,4.382420851575534,4.382420851575534,4.408414775377567,4.408414775377567,4.408414775377567,4.408414775377567,4.408414775377567,4.408414775377567,4.408414775377567,4.7120000628616765,4.7120000628616765,4.7120000628616765,4.7120000628616765,4.7120000628616765,4.7120000628616765,4.789700537973603,4.789700537973603,4.789700537973603,4.789700537973603,4.789700537973603,4.907031365363727,4.907031365363727,4.907031365363727,4.907031365363727,4.907031365363727,5.100742089958254,5.100742089958254,5.100742089958254,5.100742089958254,5.167115241648169,5.167115241648169,5.167115241648169,5.167115241648169,5.167115241648169,5.389719177122683,5.389719177122683,5.389719177122683,5.389719177122683,5.389719177122683,5.4780579837155905,5.4780579837155905,5.4780579837155905,5.4780579837155905,5.695086236351807,5.695086236351807,5.77120703561436,5.77120703561436,5.77120703561436,5.77120703561436,5.77120703561436,5.77120703561436,5.834392454911581,5.834392454911581,5.834392454911581,5.834392454911581,5.834392454911581,5.912001622138716,5.912001622138716,5.912001622138716,6.418886958149279,6.418886958149279,6.418886958149279,6.418886958149279,6.418886958149279,6.510376502970205,6.510376502970205,6.510376502970205],\"yaxis\":\"y\",\"type\":\"scatter\"}],                        {\"template\":{\"data\":{\"bar\":[{\"error_x\":{\"color\":\"#2a3f5f\"},\"error_y\":{\"color\":\"#2a3f5f\"},\"marker\":{\"line\":{\"color\":\"#E5ECF6\",\"width\":0.5},\"pattern\":{\"fillmode\":\"overlay\",\"size\":10,\"solidity\":0.2}},\"type\":\"bar\"}],\"barpolar\":[{\"marker\":{\"line\":{\"color\":\"#E5ECF6\",\"width\":0.5},\"pattern\":{\"fillmode\":\"overlay\",\"size\":10,\"solidity\":0.2}},\"type\":\"barpolar\"}],\"carpet\":[{\"aaxis\":{\"endlinecolor\":\"#2a3f5f\",\"gridcolor\":\"white\",\"linecolor\":\"white\",\"minorgridcolor\":\"white\",\"startlinecolor\":\"#2a3f5f\"},\"baxis\":{\"endlinecolor\":\"#2a3f5f\",\"gridcolor\":\"white\",\"linecolor\":\"white\",\"minorgridcolor\":\"white\",\"startlinecolor\":\"#2a3f5f\"},\"type\":\"carpet\"}],\"choropleth\":[{\"colorbar\":{\"outlinewidth\":0,\"ticks\":\"\"},\"type\":\"choropleth\"}],\"contour\":[{\"colorbar\":{\"outlinewidth\":0,\"ticks\":\"\"},\"colorscale\":[[0.0,\"#0d0887\"],[0.1111111111111111,\"#46039f\"],[0.2222222222222222,\"#7201a8\"],[0.3333333333333333,\"#9c179e\"],[0.4444444444444444,\"#bd3786\"],[0.5555555555555556,\"#d8576b\"],[0.6666666666666666,\"#ed7953\"],[0.7777777777777778,\"#fb9f3a\"],[0.8888888888888888,\"#fdca26\"],[1.0,\"#f0f921\"]],\"type\":\"contour\"}],\"contourcarpet\":[{\"colorbar\":{\"outlinewidth\":0,\"ticks\":\"\"},\"type\":\"contourcarpet\"}],\"heatmap\":[{\"colorbar\":{\"outlinewidth\":0,\"ticks\":\"\"},\"colorscale\":[[0.0,\"#0d0887\"],[0.1111111111111111,\"#46039f\"],[0.2222222222222222,\"#7201a8\"],[0.3333333333333333,\"#9c179e\"],[0.4444444444444444,\"#bd3786\"],[0.5555555555555556,\"#d8576b\"],[0.6666666666666666,\"#ed7953\"],[0.7777777777777778,\"#fb9f3a\"],[0.8888888888888888,\"#fdca26\"],[1.0,\"#f0f921\"]],\"type\":\"heatmap\"}],\"heatmapgl\":[{\"colorbar\":{\"outlinewidth\":0,\"ticks\":\"\"},\"colorscale\":[[0.0,\"#0d0887\"],[0.1111111111111111,\"#46039f\"],[0.2222222222222222,\"#7201a8\"],[0.3333333333333333,\"#9c179e\"],[0.4444444444444444,\"#bd3786\"],[0.5555555555555556,\"#d8576b\"],[0.6666666666666666,\"#ed7953\"],[0.7777777777777778,\"#fb9f3a\"],[0.8888888888888888,\"#fdca26\"],[1.0,\"#f0f921\"]],\"type\":\"heatmapgl\"}],\"histogram\":[{\"marker\":{\"pattern\":{\"fillmode\":\"overlay\",\"size\":10,\"solidity\":0.2}},\"type\":\"histogram\"}],\"histogram2d\":[{\"colorbar\":{\"outlinewidth\":0,\"ticks\":\"\"},\"colorscale\":[[0.0,\"#0d0887\"],[0.1111111111111111,\"#46039f\"],[0.2222222222222222,\"#7201a8\"],[0.3333333333333333,\"#9c179e\"],[0.4444444444444444,\"#bd3786\"],[0.5555555555555556,\"#d8576b\"],[0.6666666666666666,\"#ed7953\"],[0.7777777777777778,\"#fb9f3a\"],[0.8888888888888888,\"#fdca26\"],[1.0,\"#f0f921\"]],\"type\":\"histogram2d\"}],\"histogram2dcontour\":[{\"colorbar\":{\"outlinewidth\":0,\"ticks\":\"\"},\"colorscale\":[[0.0,\"#0d0887\"],[0.1111111111111111,\"#46039f\"],[0.2222222222222222,\"#7201a8\"],[0.3333333333333333,\"#9c179e\"],[0.4444444444444444,\"#bd3786\"],[0.5555555555555556,\"#d8576b\"],[0.6666666666666666,\"#ed7953\"],[0.7777777777777778,\"#fb9f3a\"],[0.8888888888888888,\"#fdca26\"],[1.0,\"#f0f921\"]],\"type\":\"histogram2dcontour\"}],\"mesh3d\":[{\"colorbar\":{\"outlinewidth\":0,\"ticks\":\"\"},\"type\":\"mesh3d\"}],\"parcoords\":[{\"line\":{\"colorbar\":{\"outlinewidth\":0,\"ticks\":\"\"}},\"type\":\"parcoords\"}],\"pie\":[{\"automargin\":true,\"type\":\"pie\"}],\"scatter\":[{\"marker\":{\"colorbar\":{\"outlinewidth\":0,\"ticks\":\"\"}},\"type\":\"scatter\"}],\"scatter3d\":[{\"line\":{\"colorbar\":{\"outlinewidth\":0,\"ticks\":\"\"}},\"marker\":{\"colorbar\":{\"outlinewidth\":0,\"ticks\":\"\"}},\"type\":\"scatter3d\"}],\"scattercarpet\":[{\"marker\":{\"colorbar\":{\"outlinewidth\":0,\"ticks\":\"\"}},\"type\":\"scattercarpet\"}],\"scattergeo\":[{\"marker\":{\"colorbar\":{\"outlinewidth\":0,\"ticks\":\"\"}},\"type\":\"scattergeo\"}],\"scattergl\":[{\"marker\":{\"colorbar\":{\"outlinewidth\":0,\"ticks\":\"\"}},\"type\":\"scattergl\"}],\"scattermapbox\":[{\"marker\":{\"colorbar\":{\"outlinewidth\":0,\"ticks\":\"\"}},\"type\":\"scattermapbox\"}],\"scatterpolar\":[{\"marker\":{\"colorbar\":{\"outlinewidth\":0,\"ticks\":\"\"}},\"type\":\"scatterpolar\"}],\"scatterpolargl\":[{\"marker\":{\"colorbar\":{\"outlinewidth\":0,\"ticks\":\"\"}},\"type\":\"scatterpolargl\"}],\"scatterternary\":[{\"marker\":{\"colorbar\":{\"outlinewidth\":0,\"ticks\":\"\"}},\"type\":\"scatterternary\"}],\"surface\":[{\"colorbar\":{\"outlinewidth\":0,\"ticks\":\"\"},\"colorscale\":[[0.0,\"#0d0887\"],[0.1111111111111111,\"#46039f\"],[0.2222222222222222,\"#7201a8\"],[0.3333333333333333,\"#9c179e\"],[0.4444444444444444,\"#bd3786\"],[0.5555555555555556,\"#d8576b\"],[0.6666666666666666,\"#ed7953\"],[0.7777777777777778,\"#fb9f3a\"],[0.8888888888888888,\"#fdca26\"],[1.0,\"#f0f921\"]],\"type\":\"surface\"}],\"table\":[{\"cells\":{\"fill\":{\"color\":\"#EBF0F8\"},\"line\":{\"color\":\"white\"}},\"header\":{\"fill\":{\"color\":\"#C8D4E3\"},\"line\":{\"color\":\"white\"}},\"type\":\"table\"}]},\"layout\":{\"annotationdefaults\":{\"arrowcolor\":\"#2a3f5f\",\"arrowhead\":0,\"arrowwidth\":1},\"autotypenumbers\":\"strict\",\"coloraxis\":{\"colorbar\":{\"outlinewidth\":0,\"ticks\":\"\"}},\"colorscale\":{\"diverging\":[[0,\"#8e0152\"],[0.1,\"#c51b7d\"],[0.2,\"#de77ae\"],[0.3,\"#f1b6da\"],[0.4,\"#fde0ef\"],[0.5,\"#f7f7f7\"],[0.6,\"#e6f5d0\"],[0.7,\"#b8e186\"],[0.8,\"#7fbc41\"],[0.9,\"#4d9221\"],[1,\"#276419\"]],\"sequential\":[[0.0,\"#0d0887\"],[0.1111111111111111,\"#46039f\"],[0.2222222222222222,\"#7201a8\"],[0.3333333333333333,\"#9c179e\"],[0.4444444444444444,\"#bd3786\"],[0.5555555555555556,\"#d8576b\"],[0.6666666666666666,\"#ed7953\"],[0.7777777777777778,\"#fb9f3a\"],[0.8888888888888888,\"#fdca26\"],[1.0,\"#f0f921\"]],\"sequentialminus\":[[0.0,\"#0d0887\"],[0.1111111111111111,\"#46039f\"],[0.2222222222222222,\"#7201a8\"],[0.3333333333333333,\"#9c179e\"],[0.4444444444444444,\"#bd3786\"],[0.5555555555555556,\"#d8576b\"],[0.6666666666666666,\"#ed7953\"],[0.7777777777777778,\"#fb9f3a\"],[0.8888888888888888,\"#fdca26\"],[1.0,\"#f0f921\"]]},\"colorway\":[\"#636efa\",\"#EF553B\",\"#00cc96\",\"#ab63fa\",\"#FFA15A\",\"#19d3f3\",\"#FF6692\",\"#B6E880\",\"#FF97FF\",\"#FECB52\"],\"font\":{\"color\":\"#2a3f5f\"},\"geo\":{\"bgcolor\":\"white\",\"lakecolor\":\"white\",\"landcolor\":\"#E5ECF6\",\"showlakes\":true,\"showland\":true,\"subunitcolor\":\"white\"},\"hoverlabel\":{\"align\":\"left\"},\"hovermode\":\"closest\",\"mapbox\":{\"style\":\"light\"},\"paper_bgcolor\":\"white\",\"plot_bgcolor\":\"#E5ECF6\",\"polar\":{\"angularaxis\":{\"gridcolor\":\"white\",\"linecolor\":\"white\",\"ticks\":\"\"},\"bgcolor\":\"#E5ECF6\",\"radialaxis\":{\"gridcolor\":\"white\",\"linecolor\":\"white\",\"ticks\":\"\"}},\"scene\":{\"xaxis\":{\"backgroundcolor\":\"#E5ECF6\",\"gridcolor\":\"white\",\"gridwidth\":2,\"linecolor\":\"white\",\"showbackground\":true,\"ticks\":\"\",\"zerolinecolor\":\"white\"},\"yaxis\":{\"backgroundcolor\":\"#E5ECF6\",\"gridcolor\":\"white\",\"gridwidth\":2,\"linecolor\":\"white\",\"showbackground\":true,\"ticks\":\"\",\"zerolinecolor\":\"white\"},\"zaxis\":{\"backgroundcolor\":\"#E5ECF6\",\"gridcolor\":\"white\",\"gridwidth\":2,\"linecolor\":\"white\",\"showbackground\":true,\"ticks\":\"\",\"zerolinecolor\":\"white\"}},\"shapedefaults\":{\"line\":{\"color\":\"#2a3f5f\"}},\"ternary\":{\"aaxis\":{\"gridcolor\":\"white\",\"linecolor\":\"white\",\"ticks\":\"\"},\"baxis\":{\"gridcolor\":\"white\",\"linecolor\":\"white\",\"ticks\":\"\"},\"bgcolor\":\"#E5ECF6\",\"caxis\":{\"gridcolor\":\"white\",\"linecolor\":\"white\",\"ticks\":\"\"}},\"title\":{\"x\":0.05},\"xaxis\":{\"automargin\":true,\"gridcolor\":\"white\",\"linecolor\":\"white\",\"ticks\":\"\",\"title\":{\"standoff\":15},\"zerolinecolor\":\"white\",\"zerolinewidth\":2},\"yaxis\":{\"automargin\":true,\"gridcolor\":\"white\",\"linecolor\":\"white\",\"ticks\":\"\",\"title\":{\"standoff\":15},\"zerolinecolor\":\"white\",\"zerolinewidth\":2}}},\"xaxis\":{\"anchor\":\"y\",\"domain\":[0.0,1.0],\"title\":{\"text\":\"C\"}},\"yaxis\":{\"anchor\":\"x\",\"domain\":[0.0,1.0],\"title\":{\"text\":\"cost\"}},\"legend\":{\"tracegroupgap\":0},\"margin\":{\"t\":60}},                        {\"responsive\": true}                    ).then(function(){\n",
       "                            \n",
       "var gd = document.getElementById('b4f7e9ed-a3c2-4ba1-ab5e-c08dca515e7a');\n",
       "var x = new MutationObserver(function (mutations, observer) {{\n",
       "        var display = window.getComputedStyle(gd).display;\n",
       "        if (!display || display === 'none') {{\n",
       "            console.log([gd, 'removed!']);\n",
       "            Plotly.purge(gd);\n",
       "            observer.disconnect();\n",
       "        }}\n",
       "}});\n",
       "\n",
       "// Listen for the removal of the full notebook cells\n",
       "var notebookContainer = gd.closest('#notebook-container');\n",
       "if (notebookContainer) {{\n",
       "    x.observe(notebookContainer, {childList: true});\n",
       "}}\n",
       "\n",
       "// Listen for the clearing of the current output cell\n",
       "var outputEl = gd.closest('.output');\n",
       "if (outputEl) {{\n",
       "    x.observe(outputEl, {childList: true});\n",
       "}}\n",
       "\n",
       "                        })                };                });            </script>        </div>"
      ]
     },
     "metadata": {},
     "output_type": "display_data"
    },
    {
     "name": "stdout",
     "output_type": "stream",
     "text": [
      "                            OLS Regression Results                            \n",
      "==============================================================================\n",
      "Dep. Variable:                      y   R-squared:                       0.735\n",
      "Model:                            OLS   Adj. R-squared:                  0.733\n",
      "Method:                 Least Squares   F-statistic:                     462.5\n",
      "Date:                Wed, 24 Nov 2021   Prob (F-statistic):           5.46e-50\n",
      "Time:                        16:04:06   Log-Likelihood:                 189.81\n",
      "No. Observations:                 169   AIC:                            -375.6\n",
      "Df Residuals:                     167   BIC:                            -369.4\n",
      "Df Model:                           1                                         \n",
      "Covariance Type:            nonrobust                                         \n",
      "==============================================================================\n",
      "                 coef    std err          t      P>|t|      [0.025      0.975]\n",
      "------------------------------------------------------------------------------\n",
      "const          0.3476      0.013     27.621      0.000       0.323       0.372\n",
      "x1             0.0030      0.000     21.505      0.000       0.003       0.003\n",
      "==============================================================================\n",
      "Omnibus:                       63.624   Durbin-Watson:                   0.891\n",
      "Prob(Omnibus):                  0.000   Jarque-Bera (JB):              286.005\n",
      "Skew:                           1.341   Prob(JB):                     7.85e-63\n",
      "Kurtosis:                       8.782   Cond. No.                         189.\n",
      "==============================================================================\n",
      "\n",
      "Notes:\n",
      "[1] Standard Errors assume that the covariance matrix of the errors is correctly specified.\n"
     ]
    }
   ],
   "source": [
    "# plt.scatter(unified_df['C'],unified_df['cost'])\n",
    "# fig = px.scatter(x=unified_df['C'], y=unified_df['cost'])\n",
    "fig = px.scatter(unified_df, x=\"C\", y=\"cost\", log_x=False,log_y=False,trendline=\"ols\", trendline_options=dict(log_x=False,log_y=True))\n",
    "fig.show()\n",
    "results = px.get_trendline_results(fig)\n",
    "results = results.iloc[0][\"px_fit_results\"].summary()\n",
    "print(results)"
   ]
  },
  {
   "cell_type": "code",
   "execution_count": 36,
   "id": "baac9bbe-532e-4ff1-8758-52fd06ec07de",
   "metadata": {},
   "outputs": [
    {
     "data": {
      "application/vnd.plotly.v1+json": {
       "config": {
        "plotlyServerURL": "https://plot.ly"
       },
       "data": [
        {
         "hovertemplate": "C=%{x}<br>normalized_cost=%{y}<extra></extra>",
         "legendgroup": "",
         "marker": {
          "color": "#636efa",
          "symbol": "circle"
         },
         "mode": "markers",
         "name": "",
         "orientation": "v",
         "showlegend": false,
         "type": "scatter",
         "x": [
          17.66666667,
          17.66666667,
          17.66666667,
          17.66666667,
          17.66666667,
          17.66666667,
          17.66666667,
          18.64984472,
          18.64984472,
          18.64984472,
          18.64984472,
          18.64984472,
          18.64984472,
          21.33333333,
          21.33333333,
          21.33333333,
          21.33333333,
          21.33333333,
          21.33333333,
          23.12387179,
          23.12387179,
          23.12387179,
          23.12387179,
          23.12387179,
          23.12387179,
          23.12387179,
          30.25982517,
          30.25982517,
          30.25982517,
          30.25982517,
          30.25982517,
          30.25982517,
          30.25982517,
          30.25982517,
          30.25982517,
          31.3137085,
          31.3137085,
          31.3137085,
          31.3137085,
          37.29968944,
          37.29968944,
          37.29968944,
          37.29968944,
          37.29968944,
          37.29968944,
          39.27396536,
          39.27396536,
          39.27396536,
          39.27396536,
          39.27396536,
          39.27396536,
          39.27396536,
          51.34444033,
          51.34444033,
          51.34444033,
          51.34444033,
          51.34444033,
          51.34444033,
          51.34444033,
          51.34444033,
          51.34444033,
          51.34444033,
          53.38369697,
          53.38369697,
          53.38369697,
          62.39180322,
          62.39180322,
          62.39180322,
          62.39180322,
          62.39180322,
          62.39180322,
          62.39180322,
          62.39180322,
          62.39180322,
          63.52664646,
          63.52664646,
          63.52664646,
          63.52664646,
          80.51001212,
          80.51001212,
          80.51001212,
          80.51001212,
          80.51001212,
          80.51001212,
          80.51001212,
          80.51001212,
          82.10308497,
          82.10308497,
          82.10308497,
          82.10308497,
          82.10308497,
          96.4598646,
          96.4598646,
          96.4598646,
          96.4598646,
          96.4598646,
          96.4598646,
          96.4598646,
          99.42980675,
          99.42980675,
          99.42980675,
          99.42980675,
          99.42980675,
          99.42980675,
          100.2979509,
          100.2979509,
          100.2979509,
          100.2979509,
          100.2979509,
          100.2979509,
          100.2979509,
          110.0742729,
          110.0742729,
          110.0742729,
          110.0742729,
          110.0742729,
          110.0742729,
          112.4752107,
          112.4752107,
          112.4752107,
          112.4752107,
          112.4752107,
          116.0278968,
          116.0278968,
          116.0278968,
          116.0278968,
          116.0278968,
          121.7114423,
          121.7114423,
          121.7114423,
          121.7114423,
          123.6093171,
          123.6093171,
          123.6093171,
          123.6093171,
          123.6093171,
          129.8010527,
          129.8010527,
          129.8010527,
          129.8010527,
          129.8010527,
          132.1875957,
          132.1875957,
          132.1875957,
          132.1875957,
          137.8911344,
          137.8911344,
          139.8402409,
          139.8402409,
          139.8402409,
          139.8402409,
          139.8402409,
          139.8402409,
          141.4387035,
          141.4387035,
          141.4387035,
          141.4387035,
          141.4387035,
          143.3785335,
          143.3785335,
          143.3785335,
          155.4541427,
          155.4541427,
          155.4541427,
          155.4541427,
          155.4541427,
          157.5317039,
          157.5317039,
          157.5317039
         ],
         "xaxis": "x",
         "y": [
          1.0000000001980642,
          1.0000000001980642,
          1.000000000198064,
          1.0000000001980642,
          1.0000000001980642,
          1.0000000001980642,
          1.1602708938854576,
          1.0042476391690263,
          1.0000000000387892,
          1.0042476391690263,
          1.0000000000387892,
          1.0000000000387892,
          1.0042476391690263,
          1.0000000002147822,
          1.0000000002147822,
          1.0000000002147822,
          1.0368213543898468,
          1.0000000002147822,
          1.0962165095466996,
          1.0002107305708343,
          1.1177042042034724,
          1.000000000072706,
          1.0002107305708343,
          1.0002107305708343,
          1.000000000072706,
          1.1177042042034724,
          1.1315746077145026,
          1.0943630374697684,
          1.0000000001674019,
          1.0171479108799064,
          1.0000000001674019,
          1.0000000001674019,
          1.0000000001674019,
          1.0000000001674019,
          1.0000000001674019,
          0.9999999998141449,
          1.0596807081432698,
          0.9999999998141449,
          0.9999999998141449,
          1.000000000062528,
          1.6499946205509133,
          1.000000000062528,
          1.000000000062528,
          1.000000000062528,
          1.000000000062528,
          1.0011810034747957,
          1.0011810034747957,
          1.0011810034747957,
          1.0011810034747957,
          1.0011810034747957,
          1.0310499550876568,
          1.0264546843012865,
          1.040354694892687,
          1.028351952089004,
          1.0331396147831113,
          1.0702778802268158,
          1.0984120516916454,
          1.010230988269433,
          1.010230988269433,
          1.0000000000007758,
          1.040354694892687,
          1.040354694892687,
          1.0658054347000017,
          1.0000000000317284,
          1.0658054347000017,
          1.0390328327488298,
          1.1601580131960485,
          1.0433779902563776,
          0.9999999999054489,
          1.0433779902563776,
          0.9999999999054489,
          0.9999999999054489,
          1.0592567690957808,
          0.9999999999054486,
          1.1021998780447242,
          1.0097314228118208,
          1.0721789930182446,
          1.0240333058952205,
          1.0022466963986014,
          1.1043589607135782,
          1.1810474574894212,
          0.9999999998967688,
          1.096850126674182,
          0.9999999998967688,
          1.1302219592502964,
          1.2327627993467891,
          1.1364096917823199,
          1.0460082134760689,
          1.0324740378997697,
          1.0287665287827599,
          0.9999999999971405,
          1.0218113060718181,
          1.02810875856699,
          1.039413106373755,
          1.2011668406260174,
          1.0486100048723785,
          1.0221888894842213,
          1.0486100048723785,
          1.102068841106972,
          1.1069035576163657,
          1.0000000000453277,
          1.0959302038572103,
          1.0469184173442523,
          1.0480053948830643,
          0.9999999999784297,
          1.0195875813357078,
          1.1694343434614172,
          1.100157526161406,
          1.0365587140706964,
          0.9999999999784297,
          1.0638448568907013,
          1.1597725589508971,
          1.0456164752842985,
          1.0335161593930535,
          1.0280403660150026,
          1.0801959363001048,
          1.0775292839008406,
          1.4955041293856959,
          1.074053716856739,
          1.0164048834170814,
          1.0000000000599472,
          1.0164048834170814,
          1.0551977016221066,
          1.5824675269223183,
          1.0199718359379353,
          1.0537118859942056,
          1.0913761198161187,
          1.052353274595269,
          1.3645147911149327,
          1.0565751407548158,
          1.0563733326593454,
          1.513718780200362,
          3.447682602969604,
          1.1019321528309296,
          1.3982065330538518,
          1.2210656481457236,
          1.4784246719871756,
          1.0875985228673426,
          1.076962108984252,
          1.1206312296192424,
          1.035009733799234,
          1.0415589016556537,
          0.9999999998971109,
          1.093446442727643,
          1.0638041261779974,
          1.0516871153378962,
          1.041446520722271,
          1.4720736186515386,
          1.2149922032154934,
          0.9999999999969608,
          1.0750982227589494,
          0.9999999999969608,
          1.0415570492434025,
          1.016827109137665,
          1.0963606431315722,
          1.2368808607712212,
          1.0460117572249494,
          1.003640635354432,
          1.7413097347388664,
          1.0320406667704431,
          1.0942580361956793,
          1.215726458437335,
          1.1265637278237466,
          1.0448453785936527,
          1.0623492862854838,
          1.0593334780915995,
          1.0752735500109576,
          1.675264462646475,
          1.0259728522163154
         ],
         "yaxis": "y"
        },
        {
         "hovertemplate": "<b>OLS trendline</b><br>normalized_cost = 0.00135077 * C + 0.982382<br>R<sup>2</sup>=0.071367<br><br>C=%{x}<br>normalized_cost=%{y} <b>(trend)</b><extra></extra>",
         "legendgroup": "",
         "marker": {
          "color": "#636efa",
          "symbol": "circle"
         },
         "mode": "lines",
         "name": "",
         "showlegend": false,
         "type": "scatter",
         "x": [
          17.66666667,
          17.66666667,
          17.66666667,
          17.66666667,
          17.66666667,
          17.66666667,
          17.66666667,
          18.64984472,
          18.64984472,
          18.64984472,
          18.64984472,
          18.64984472,
          18.64984472,
          21.33333333,
          21.33333333,
          21.33333333,
          21.33333333,
          21.33333333,
          21.33333333,
          23.12387179,
          23.12387179,
          23.12387179,
          23.12387179,
          23.12387179,
          23.12387179,
          23.12387179,
          30.25982517,
          30.25982517,
          30.25982517,
          30.25982517,
          30.25982517,
          30.25982517,
          30.25982517,
          30.25982517,
          30.25982517,
          31.3137085,
          31.3137085,
          31.3137085,
          31.3137085,
          37.29968944,
          37.29968944,
          37.29968944,
          37.29968944,
          37.29968944,
          37.29968944,
          39.27396536,
          39.27396536,
          39.27396536,
          39.27396536,
          39.27396536,
          39.27396536,
          39.27396536,
          51.34444033,
          51.34444033,
          51.34444033,
          51.34444033,
          51.34444033,
          51.34444033,
          51.34444033,
          51.34444033,
          51.34444033,
          51.34444033,
          53.38369697,
          53.38369697,
          53.38369697,
          62.39180322,
          62.39180322,
          62.39180322,
          62.39180322,
          62.39180322,
          62.39180322,
          62.39180322,
          62.39180322,
          62.39180322,
          63.52664646,
          63.52664646,
          63.52664646,
          63.52664646,
          80.51001212,
          80.51001212,
          80.51001212,
          80.51001212,
          80.51001212,
          80.51001212,
          80.51001212,
          80.51001212,
          82.10308497,
          82.10308497,
          82.10308497,
          82.10308497,
          82.10308497,
          96.4598646,
          96.4598646,
          96.4598646,
          96.4598646,
          96.4598646,
          96.4598646,
          96.4598646,
          99.42980675,
          99.42980675,
          99.42980675,
          99.42980675,
          99.42980675,
          99.42980675,
          100.2979509,
          100.2979509,
          100.2979509,
          100.2979509,
          100.2979509,
          100.2979509,
          100.2979509,
          110.0742729,
          110.0742729,
          110.0742729,
          110.0742729,
          110.0742729,
          110.0742729,
          112.4752107,
          112.4752107,
          112.4752107,
          112.4752107,
          112.4752107,
          116.0278968,
          116.0278968,
          116.0278968,
          116.0278968,
          116.0278968,
          121.7114423,
          121.7114423,
          121.7114423,
          121.7114423,
          123.6093171,
          123.6093171,
          123.6093171,
          123.6093171,
          123.6093171,
          129.8010527,
          129.8010527,
          129.8010527,
          129.8010527,
          129.8010527,
          132.1875957,
          132.1875957,
          132.1875957,
          132.1875957,
          137.8911344,
          137.8911344,
          139.8402409,
          139.8402409,
          139.8402409,
          139.8402409,
          139.8402409,
          139.8402409,
          141.4387035,
          141.4387035,
          141.4387035,
          141.4387035,
          141.4387035,
          143.3785335,
          143.3785335,
          143.3785335,
          155.4541427,
          155.4541427,
          155.4541427,
          155.4541427,
          155.4541427,
          157.5317039,
          157.5317039,
          157.5317039
         ],
         "xaxis": "x",
         "y": [
          1.0062454778831385,
          1.0062454778831385,
          1.0062454778831385,
          1.0062454778831385,
          1.0062454778831385,
          1.0062454778831385,
          1.0062454778831385,
          1.007573527276278,
          1.007573527276278,
          1.007573527276278,
          1.007573527276278,
          1.007573527276278,
          1.007573527276278,
          1.011198308586243,
          1.011198308586243,
          1.011198308586243,
          1.011198308586243,
          1.011198308586243,
          1.011198308586243,
          1.0136169178251253,
          1.0136169178251253,
          1.0136169178251253,
          1.0136169178251253,
          1.0136169178251253,
          1.0136169178251253,
          1.0136169178251253,
          1.0232559639325747,
          1.0232559639325747,
          1.0232559639325747,
          1.0232559639325747,
          1.0232559639325747,
          1.0232559639325747,
          1.0232559639325747,
          1.0232559639325747,
          1.0232559639325747,
          1.0246795200390668,
          1.0246795200390668,
          1.0246795200390668,
          1.0246795200390668,
          1.0327652155595402,
          1.0327652155595402,
          1.0327652155595402,
          1.0327652155595402,
          1.0327652155595402,
          1.0327652155595402,
          1.0354320122170186,
          1.0354320122170186,
          1.0354320122170186,
          1.0354320122170186,
          1.0354320122170186,
          1.0354320122170186,
          1.0354320122170186,
          1.051736471982792,
          1.051736471982792,
          1.051736471982792,
          1.051736471982792,
          1.051736471982792,
          1.051736471982792,
          1.051736471982792,
          1.051736471982792,
          1.051736471982792,
          1.051736471982792,
          1.0544910427781917,
          1.0544910427781917,
          1.0544910427781917,
          1.0666589405853593,
          1.0666589405853593,
          1.0666589405853593,
          1.0666589405853593,
          1.0666589405853593,
          1.0666589405853593,
          1.0666589405853593,
          1.0666589405853593,
          1.0666589405853593,
          1.0681918550724052,
          1.0681918550724052,
          1.0681918550724052,
          1.0681918550724052,
          1.0911325100821794,
          1.0911325100821794,
          1.0911325100821794,
          1.0911325100821794,
          1.0911325100821794,
          1.0911325100821794,
          1.0911325100821794,
          1.0911325100821794,
          1.0932843883016634,
          1.0932843883016634,
          1.0932843883016634,
          1.0932843883016634,
          1.0932843883016634,
          1.1126771244139697,
          1.1126771244139697,
          1.1126771244139697,
          1.1126771244139697,
          1.1126771244139697,
          1.1126771244139697,
          1.1126771244139697,
          1.1166888391486176,
          1.1166888391486176,
          1.1166888391486176,
          1.1166888391486176,
          1.1166888391486176,
          1.1166888391486176,
          1.1178615039691608,
          1.1178615039691608,
          1.1178615039691608,
          1.1178615039691608,
          1.1178615039691608,
          1.1178615039691608,
          1.1178615039691608,
          1.1310670861109084,
          1.1310670861109084,
          1.1310670861109084,
          1.1310670861109084,
          1.1310670861109084,
          1.1310670861109084,
          1.1343102056946461,
          1.1343102056946461,
          1.1343102056946461,
          1.1343102056946461,
          1.1343102056946461,
          1.139109074647346,
          1.139109074647346,
          1.139109074647346,
          1.139109074647346,
          1.139109074647346,
          1.1467862488399114,
          1.1467862488399114,
          1.1467862488399114,
          1.1467862488399114,
          1.1493498450027784,
          1.1493498450027784,
          1.1493498450027784,
          1.1493498450027784,
          1.1493498450027784,
          1.1577134681593995,
          1.1577134681593995,
          1.1577134681593995,
          1.1577134681593995,
          1.1577134681593995,
          1.1609371436501732,
          1.1609371436501732,
          1.1609371436501732,
          1.1609371436501732,
          1.1686413240977367,
          1.1686413240977367,
          1.171274122607111,
          1.171274122607111,
          1.171274122607111,
          1.171274122607111,
          1.171274122607111,
          1.171274122607111,
          1.173433281150049,
          1.173433281150049,
          1.173433281150049,
          1.173433281150049,
          1.173433281150049,
          1.1760535492228503,
          1.1760535492228503,
          1.1760535492228503,
          1.1923649441628128,
          1.1923649441628128,
          1.1923649441628128,
          1.1923649441628128,
          1.1923649441628128,
          1.1951712556858076,
          1.1951712556858076,
          1.1951712556858076
         ],
         "yaxis": "y"
        }
       ],
       "layout": {
        "autosize": true,
        "legend": {
         "tracegroupgap": 0
        },
        "margin": {
         "t": 60
        },
        "template": {
         "data": {
          "bar": [
           {
            "error_x": {
             "color": "#2a3f5f"
            },
            "error_y": {
             "color": "#2a3f5f"
            },
            "marker": {
             "line": {
              "color": "#E5ECF6",
              "width": 0.5
             },
             "pattern": {
              "fillmode": "overlay",
              "size": 10,
              "solidity": 0.2
             }
            },
            "type": "bar"
           }
          ],
          "barpolar": [
           {
            "marker": {
             "line": {
              "color": "#E5ECF6",
              "width": 0.5
             },
             "pattern": {
              "fillmode": "overlay",
              "size": 10,
              "solidity": 0.2
             }
            },
            "type": "barpolar"
           }
          ],
          "carpet": [
           {
            "aaxis": {
             "endlinecolor": "#2a3f5f",
             "gridcolor": "white",
             "linecolor": "white",
             "minorgridcolor": "white",
             "startlinecolor": "#2a3f5f"
            },
            "baxis": {
             "endlinecolor": "#2a3f5f",
             "gridcolor": "white",
             "linecolor": "white",
             "minorgridcolor": "white",
             "startlinecolor": "#2a3f5f"
            },
            "type": "carpet"
           }
          ],
          "choropleth": [
           {
            "colorbar": {
             "outlinewidth": 0,
             "ticks": ""
            },
            "type": "choropleth"
           }
          ],
          "contour": [
           {
            "colorbar": {
             "outlinewidth": 0,
             "ticks": ""
            },
            "colorscale": [
             [
              0,
              "#0d0887"
             ],
             [
              0.1111111111111111,
              "#46039f"
             ],
             [
              0.2222222222222222,
              "#7201a8"
             ],
             [
              0.3333333333333333,
              "#9c179e"
             ],
             [
              0.4444444444444444,
              "#bd3786"
             ],
             [
              0.5555555555555556,
              "#d8576b"
             ],
             [
              0.6666666666666666,
              "#ed7953"
             ],
             [
              0.7777777777777778,
              "#fb9f3a"
             ],
             [
              0.8888888888888888,
              "#fdca26"
             ],
             [
              1,
              "#f0f921"
             ]
            ],
            "type": "contour"
           }
          ],
          "contourcarpet": [
           {
            "colorbar": {
             "outlinewidth": 0,
             "ticks": ""
            },
            "type": "contourcarpet"
           }
          ],
          "heatmap": [
           {
            "colorbar": {
             "outlinewidth": 0,
             "ticks": ""
            },
            "colorscale": [
             [
              0,
              "#0d0887"
             ],
             [
              0.1111111111111111,
              "#46039f"
             ],
             [
              0.2222222222222222,
              "#7201a8"
             ],
             [
              0.3333333333333333,
              "#9c179e"
             ],
             [
              0.4444444444444444,
              "#bd3786"
             ],
             [
              0.5555555555555556,
              "#d8576b"
             ],
             [
              0.6666666666666666,
              "#ed7953"
             ],
             [
              0.7777777777777778,
              "#fb9f3a"
             ],
             [
              0.8888888888888888,
              "#fdca26"
             ],
             [
              1,
              "#f0f921"
             ]
            ],
            "type": "heatmap"
           }
          ],
          "heatmapgl": [
           {
            "colorbar": {
             "outlinewidth": 0,
             "ticks": ""
            },
            "colorscale": [
             [
              0,
              "#0d0887"
             ],
             [
              0.1111111111111111,
              "#46039f"
             ],
             [
              0.2222222222222222,
              "#7201a8"
             ],
             [
              0.3333333333333333,
              "#9c179e"
             ],
             [
              0.4444444444444444,
              "#bd3786"
             ],
             [
              0.5555555555555556,
              "#d8576b"
             ],
             [
              0.6666666666666666,
              "#ed7953"
             ],
             [
              0.7777777777777778,
              "#fb9f3a"
             ],
             [
              0.8888888888888888,
              "#fdca26"
             ],
             [
              1,
              "#f0f921"
             ]
            ],
            "type": "heatmapgl"
           }
          ],
          "histogram": [
           {
            "marker": {
             "pattern": {
              "fillmode": "overlay",
              "size": 10,
              "solidity": 0.2
             }
            },
            "type": "histogram"
           }
          ],
          "histogram2d": [
           {
            "colorbar": {
             "outlinewidth": 0,
             "ticks": ""
            },
            "colorscale": [
             [
              0,
              "#0d0887"
             ],
             [
              0.1111111111111111,
              "#46039f"
             ],
             [
              0.2222222222222222,
              "#7201a8"
             ],
             [
              0.3333333333333333,
              "#9c179e"
             ],
             [
              0.4444444444444444,
              "#bd3786"
             ],
             [
              0.5555555555555556,
              "#d8576b"
             ],
             [
              0.6666666666666666,
              "#ed7953"
             ],
             [
              0.7777777777777778,
              "#fb9f3a"
             ],
             [
              0.8888888888888888,
              "#fdca26"
             ],
             [
              1,
              "#f0f921"
             ]
            ],
            "type": "histogram2d"
           }
          ],
          "histogram2dcontour": [
           {
            "colorbar": {
             "outlinewidth": 0,
             "ticks": ""
            },
            "colorscale": [
             [
              0,
              "#0d0887"
             ],
             [
              0.1111111111111111,
              "#46039f"
             ],
             [
              0.2222222222222222,
              "#7201a8"
             ],
             [
              0.3333333333333333,
              "#9c179e"
             ],
             [
              0.4444444444444444,
              "#bd3786"
             ],
             [
              0.5555555555555556,
              "#d8576b"
             ],
             [
              0.6666666666666666,
              "#ed7953"
             ],
             [
              0.7777777777777778,
              "#fb9f3a"
             ],
             [
              0.8888888888888888,
              "#fdca26"
             ],
             [
              1,
              "#f0f921"
             ]
            ],
            "type": "histogram2dcontour"
           }
          ],
          "mesh3d": [
           {
            "colorbar": {
             "outlinewidth": 0,
             "ticks": ""
            },
            "type": "mesh3d"
           }
          ],
          "parcoords": [
           {
            "line": {
             "colorbar": {
              "outlinewidth": 0,
              "ticks": ""
             }
            },
            "type": "parcoords"
           }
          ],
          "pie": [
           {
            "automargin": true,
            "type": "pie"
           }
          ],
          "scatter": [
           {
            "marker": {
             "colorbar": {
              "outlinewidth": 0,
              "ticks": ""
             }
            },
            "type": "scatter"
           }
          ],
          "scatter3d": [
           {
            "line": {
             "colorbar": {
              "outlinewidth": 0,
              "ticks": ""
             }
            },
            "marker": {
             "colorbar": {
              "outlinewidth": 0,
              "ticks": ""
             }
            },
            "type": "scatter3d"
           }
          ],
          "scattercarpet": [
           {
            "marker": {
             "colorbar": {
              "outlinewidth": 0,
              "ticks": ""
             }
            },
            "type": "scattercarpet"
           }
          ],
          "scattergeo": [
           {
            "marker": {
             "colorbar": {
              "outlinewidth": 0,
              "ticks": ""
             }
            },
            "type": "scattergeo"
           }
          ],
          "scattergl": [
           {
            "marker": {
             "colorbar": {
              "outlinewidth": 0,
              "ticks": ""
             }
            },
            "type": "scattergl"
           }
          ],
          "scattermapbox": [
           {
            "marker": {
             "colorbar": {
              "outlinewidth": 0,
              "ticks": ""
             }
            },
            "type": "scattermapbox"
           }
          ],
          "scatterpolar": [
           {
            "marker": {
             "colorbar": {
              "outlinewidth": 0,
              "ticks": ""
             }
            },
            "type": "scatterpolar"
           }
          ],
          "scatterpolargl": [
           {
            "marker": {
             "colorbar": {
              "outlinewidth": 0,
              "ticks": ""
             }
            },
            "type": "scatterpolargl"
           }
          ],
          "scatterternary": [
           {
            "marker": {
             "colorbar": {
              "outlinewidth": 0,
              "ticks": ""
             }
            },
            "type": "scatterternary"
           }
          ],
          "surface": [
           {
            "colorbar": {
             "outlinewidth": 0,
             "ticks": ""
            },
            "colorscale": [
             [
              0,
              "#0d0887"
             ],
             [
              0.1111111111111111,
              "#46039f"
             ],
             [
              0.2222222222222222,
              "#7201a8"
             ],
             [
              0.3333333333333333,
              "#9c179e"
             ],
             [
              0.4444444444444444,
              "#bd3786"
             ],
             [
              0.5555555555555556,
              "#d8576b"
             ],
             [
              0.6666666666666666,
              "#ed7953"
             ],
             [
              0.7777777777777778,
              "#fb9f3a"
             ],
             [
              0.8888888888888888,
              "#fdca26"
             ],
             [
              1,
              "#f0f921"
             ]
            ],
            "type": "surface"
           }
          ],
          "table": [
           {
            "cells": {
             "fill": {
              "color": "#EBF0F8"
             },
             "line": {
              "color": "white"
             }
            },
            "header": {
             "fill": {
              "color": "#C8D4E3"
             },
             "line": {
              "color": "white"
             }
            },
            "type": "table"
           }
          ]
         },
         "layout": {
          "annotationdefaults": {
           "arrowcolor": "#2a3f5f",
           "arrowhead": 0,
           "arrowwidth": 1
          },
          "autotypenumbers": "strict",
          "coloraxis": {
           "colorbar": {
            "outlinewidth": 0,
            "ticks": ""
           }
          },
          "colorscale": {
           "diverging": [
            [
             0,
             "#8e0152"
            ],
            [
             0.1,
             "#c51b7d"
            ],
            [
             0.2,
             "#de77ae"
            ],
            [
             0.3,
             "#f1b6da"
            ],
            [
             0.4,
             "#fde0ef"
            ],
            [
             0.5,
             "#f7f7f7"
            ],
            [
             0.6,
             "#e6f5d0"
            ],
            [
             0.7,
             "#b8e186"
            ],
            [
             0.8,
             "#7fbc41"
            ],
            [
             0.9,
             "#4d9221"
            ],
            [
             1,
             "#276419"
            ]
           ],
           "sequential": [
            [
             0,
             "#0d0887"
            ],
            [
             0.1111111111111111,
             "#46039f"
            ],
            [
             0.2222222222222222,
             "#7201a8"
            ],
            [
             0.3333333333333333,
             "#9c179e"
            ],
            [
             0.4444444444444444,
             "#bd3786"
            ],
            [
             0.5555555555555556,
             "#d8576b"
            ],
            [
             0.6666666666666666,
             "#ed7953"
            ],
            [
             0.7777777777777778,
             "#fb9f3a"
            ],
            [
             0.8888888888888888,
             "#fdca26"
            ],
            [
             1,
             "#f0f921"
            ]
           ],
           "sequentialminus": [
            [
             0,
             "#0d0887"
            ],
            [
             0.1111111111111111,
             "#46039f"
            ],
            [
             0.2222222222222222,
             "#7201a8"
            ],
            [
             0.3333333333333333,
             "#9c179e"
            ],
            [
             0.4444444444444444,
             "#bd3786"
            ],
            [
             0.5555555555555556,
             "#d8576b"
            ],
            [
             0.6666666666666666,
             "#ed7953"
            ],
            [
             0.7777777777777778,
             "#fb9f3a"
            ],
            [
             0.8888888888888888,
             "#fdca26"
            ],
            [
             1,
             "#f0f921"
            ]
           ]
          },
          "colorway": [
           "#636efa",
           "#EF553B",
           "#00cc96",
           "#ab63fa",
           "#FFA15A",
           "#19d3f3",
           "#FF6692",
           "#B6E880",
           "#FF97FF",
           "#FECB52"
          ],
          "font": {
           "color": "#2a3f5f"
          },
          "geo": {
           "bgcolor": "white",
           "lakecolor": "white",
           "landcolor": "#E5ECF6",
           "showlakes": true,
           "showland": true,
           "subunitcolor": "white"
          },
          "hoverlabel": {
           "align": "left"
          },
          "hovermode": "closest",
          "mapbox": {
           "style": "light"
          },
          "paper_bgcolor": "white",
          "plot_bgcolor": "#E5ECF6",
          "polar": {
           "angularaxis": {
            "gridcolor": "white",
            "linecolor": "white",
            "ticks": ""
           },
           "bgcolor": "#E5ECF6",
           "radialaxis": {
            "gridcolor": "white",
            "linecolor": "white",
            "ticks": ""
           }
          },
          "scene": {
           "xaxis": {
            "backgroundcolor": "#E5ECF6",
            "gridcolor": "white",
            "gridwidth": 2,
            "linecolor": "white",
            "showbackground": true,
            "ticks": "",
            "zerolinecolor": "white"
           },
           "yaxis": {
            "backgroundcolor": "#E5ECF6",
            "gridcolor": "white",
            "gridwidth": 2,
            "linecolor": "white",
            "showbackground": true,
            "ticks": "",
            "zerolinecolor": "white"
           },
           "zaxis": {
            "backgroundcolor": "#E5ECF6",
            "gridcolor": "white",
            "gridwidth": 2,
            "linecolor": "white",
            "showbackground": true,
            "ticks": "",
            "zerolinecolor": "white"
           }
          },
          "shapedefaults": {
           "line": {
            "color": "#2a3f5f"
           }
          },
          "ternary": {
           "aaxis": {
            "gridcolor": "white",
            "linecolor": "white",
            "ticks": ""
           },
           "baxis": {
            "gridcolor": "white",
            "linecolor": "white",
            "ticks": ""
           },
           "bgcolor": "#E5ECF6",
           "caxis": {
            "gridcolor": "white",
            "linecolor": "white",
            "ticks": ""
           }
          },
          "title": {
           "x": 0.05
          },
          "xaxis": {
           "automargin": true,
           "gridcolor": "white",
           "linecolor": "white",
           "ticks": "",
           "title": {
            "standoff": 15
           },
           "zerolinecolor": "white",
           "zerolinewidth": 2
          },
          "yaxis": {
           "automargin": true,
           "gridcolor": "white",
           "linecolor": "white",
           "ticks": "",
           "title": {
            "standoff": 15
           },
           "zerolinecolor": "white",
           "zerolinewidth": 2
          }
         }
        },
        "xaxis": {
         "anchor": "y",
         "autorange": true,
         "domain": [
          0,
          1
         ],
         "range": [
          9.346083718640228,
          165.85228685135976
         ],
         "title": {
          "text": "C"
         },
         "type": "linear"
        },
        "yaxis": {
         "anchor": "x",
         "autorange": true,
         "domain": [
          0,
          1
         ],
         "range": [
          0.8104812680737615,
          3.6372013347099874
         ],
         "title": {
          "text": "normalized_cost"
         },
         "type": "linear"
        }
       }
      },
      "image/png": "[encoded data removed]",
      "text/html": [
       "<div>                            <div id=\"1e5a4e97-9ca6-416e-92a3-022dba8d1218\" class=\"plotly-graph-div\" style=\"height:525px; width:100%;\"></div>            <script type=\"text/javascript\">                require([\"plotly\"], function(Plotly) {                    window.PLOTLYENV=window.PLOTLYENV || {};                                    if (document.getElementById(\"1e5a4e97-9ca6-416e-92a3-022dba8d1218\")) {                    Plotly.newPlot(                        \"1e5a4e97-9ca6-416e-92a3-022dba8d1218\",                        [{\"hovertemplate\":\"C=%{x}<br>normalized_cost=%{y}<extra></extra>\",\"legendgroup\":\"\",\"marker\":{\"color\":\"#636efa\",\"symbol\":\"circle\"},\"mode\":\"markers\",\"name\":\"\",\"orientation\":\"v\",\"showlegend\":false,\"x\":[17.66666667,17.66666667,17.66666667,17.66666667,17.66666667,17.66666667,17.66666667,18.64984472,18.64984472,18.64984472,18.64984472,18.64984472,18.64984472,21.33333333,21.33333333,21.33333333,21.33333333,21.33333333,21.33333333,23.12387179,23.12387179,23.12387179,23.12387179,23.12387179,23.12387179,23.12387179,30.25982517,30.25982517,30.25982517,30.25982517,30.25982517,30.25982517,30.25982517,30.25982517,30.25982517,31.3137085,31.3137085,31.3137085,31.3137085,37.29968944,37.29968944,37.29968944,37.29968944,37.29968944,37.29968944,39.27396536,39.27396536,39.27396536,39.27396536,39.27396536,39.27396536,39.27396536,51.34444033,51.34444033,51.34444033,51.34444033,51.34444033,51.34444033,51.34444033,51.34444033,51.34444033,51.34444033,53.38369697,53.38369697,53.38369697,62.39180322,62.39180322,62.39180322,62.39180322,62.39180322,62.39180322,62.39180322,62.39180322,62.39180322,63.52664646,63.52664646,63.52664646,63.52664646,80.51001212,80.51001212,80.51001212,80.51001212,80.51001212,80.51001212,80.51001212,80.51001212,82.10308497,82.10308497,82.10308497,82.10308497,82.10308497,96.4598646,96.4598646,96.4598646,96.4598646,96.4598646,96.4598646,96.4598646,99.42980675,99.42980675,99.42980675,99.42980675,99.42980675,99.42980675,100.2979509,100.2979509,100.2979509,100.2979509,100.2979509,100.2979509,100.2979509,110.0742729,110.0742729,110.0742729,110.0742729,110.0742729,110.0742729,112.4752107,112.4752107,112.4752107,112.4752107,112.4752107,116.0278968,116.0278968,116.0278968,116.0278968,116.0278968,121.7114423,121.7114423,121.7114423,121.7114423,123.6093171,123.6093171,123.6093171,123.6093171,123.6093171,129.8010527,129.8010527,129.8010527,129.8010527,129.8010527,132.1875957,132.1875957,132.1875957,132.1875957,137.8911344,137.8911344,139.8402409,139.8402409,139.8402409,139.8402409,139.8402409,139.8402409,141.4387035,141.4387035,141.4387035,141.4387035,141.4387035,143.3785335,143.3785335,143.3785335,155.4541427,155.4541427,155.4541427,155.4541427,155.4541427,157.5317039,157.5317039,157.5317039],\"xaxis\":\"x\",\"y\":[1.0000000001980642,1.0000000001980642,1.000000000198064,1.0000000001980642,1.0000000001980642,1.0000000001980642,1.1602708938854576,1.0042476391690263,1.0000000000387892,1.0042476391690263,1.0000000000387892,1.0000000000387892,1.0042476391690263,1.0000000002147822,1.0000000002147822,1.0000000002147822,1.0368213543898468,1.0000000002147822,1.0962165095466996,1.0002107305708343,1.1177042042034724,1.000000000072706,1.0002107305708343,1.0002107305708343,1.000000000072706,1.1177042042034724,1.1315746077145026,1.0943630374697684,1.0000000001674019,1.0171479108799064,1.0000000001674019,1.0000000001674019,1.0000000001674019,1.0000000001674019,1.0000000001674019,0.9999999998141449,1.0596807081432698,0.9999999998141449,0.9999999998141449,1.000000000062528,1.6499946205509133,1.000000000062528,1.000000000062528,1.000000000062528,1.000000000062528,1.0011810034747957,1.0011810034747957,1.0011810034747957,1.0011810034747957,1.0011810034747957,1.0310499550876568,1.0264546843012865,1.040354694892687,1.028351952089004,1.0331396147831113,1.0702778802268158,1.0984120516916454,1.010230988269433,1.010230988269433,1.0000000000007758,1.040354694892687,1.040354694892687,1.0658054347000017,1.0000000000317284,1.0658054347000017,1.0390328327488298,1.1601580131960485,1.0433779902563776,0.9999999999054489,1.0433779902563776,0.9999999999054489,0.9999999999054489,1.0592567690957808,0.9999999999054486,1.1021998780447242,1.0097314228118208,1.0721789930182446,1.0240333058952205,1.0022466963986014,1.1043589607135782,1.1810474574894212,0.9999999998967688,1.096850126674182,0.9999999998967688,1.1302219592502964,1.2327627993467891,1.1364096917823199,1.0460082134760689,1.0324740378997697,1.0287665287827599,0.9999999999971405,1.0218113060718181,1.02810875856699,1.039413106373755,1.2011668406260174,1.0486100048723785,1.0221888894842213,1.0486100048723785,1.102068841106972,1.1069035576163657,1.0000000000453277,1.0959302038572103,1.0469184173442523,1.0480053948830643,0.9999999999784297,1.0195875813357078,1.1694343434614172,1.100157526161406,1.0365587140706964,0.9999999999784297,1.0638448568907013,1.1597725589508971,1.0456164752842985,1.0335161593930535,1.0280403660150026,1.0801959363001048,1.0775292839008406,1.4955041293856959,1.074053716856739,1.0164048834170814,1.0000000000599472,1.0164048834170814,1.0551977016221066,1.5824675269223183,1.0199718359379353,1.0537118859942056,1.0913761198161187,1.052353274595269,1.3645147911149327,1.0565751407548158,1.0563733326593454,1.513718780200362,3.447682602969604,1.1019321528309296,1.3982065330538518,1.2210656481457236,1.4784246719871756,1.0875985228673426,1.076962108984252,1.1206312296192424,1.035009733799234,1.0415589016556537,0.9999999998971109,1.093446442727643,1.0638041261779974,1.0516871153378962,1.041446520722271,1.4720736186515386,1.2149922032154934,0.9999999999969608,1.0750982227589494,0.9999999999969608,1.0415570492434025,1.016827109137665,1.0963606431315722,1.2368808607712212,1.0460117572249494,1.003640635354432,1.7413097347388664,1.0320406667704431,1.0942580361956793,1.215726458437335,1.1265637278237466,1.0448453785936527,1.0623492862854838,1.0593334780915995,1.0752735500109576,1.675264462646475,1.0259728522163154],\"yaxis\":\"y\",\"type\":\"scatter\"},{\"hovertemplate\":\"<b>OLS trendline</b><br>normalized_cost = 0.00135077 * C + 0.982382<br>R<sup>2</sup>=0.071367<br><br>C=%{x}<br>normalized_cost=%{y} <b>(trend)</b><extra></extra>\",\"legendgroup\":\"\",\"marker\":{\"color\":\"#636efa\",\"symbol\":\"circle\"},\"mode\":\"lines\",\"name\":\"\",\"showlegend\":false,\"x\":[17.66666667,17.66666667,17.66666667,17.66666667,17.66666667,17.66666667,17.66666667,18.64984472,18.64984472,18.64984472,18.64984472,18.64984472,18.64984472,21.33333333,21.33333333,21.33333333,21.33333333,21.33333333,21.33333333,23.12387179,23.12387179,23.12387179,23.12387179,23.12387179,23.12387179,23.12387179,30.25982517,30.25982517,30.25982517,30.25982517,30.25982517,30.25982517,30.25982517,30.25982517,30.25982517,31.3137085,31.3137085,31.3137085,31.3137085,37.29968944,37.29968944,37.29968944,37.29968944,37.29968944,37.29968944,39.27396536,39.27396536,39.27396536,39.27396536,39.27396536,39.27396536,39.27396536,51.34444033,51.34444033,51.34444033,51.34444033,51.34444033,51.34444033,51.34444033,51.34444033,51.34444033,51.34444033,53.38369697,53.38369697,53.38369697,62.39180322,62.39180322,62.39180322,62.39180322,62.39180322,62.39180322,62.39180322,62.39180322,62.39180322,63.52664646,63.52664646,63.52664646,63.52664646,80.51001212,80.51001212,80.51001212,80.51001212,80.51001212,80.51001212,80.51001212,80.51001212,82.10308497,82.10308497,82.10308497,82.10308497,82.10308497,96.4598646,96.4598646,96.4598646,96.4598646,96.4598646,96.4598646,96.4598646,99.42980675,99.42980675,99.42980675,99.42980675,99.42980675,99.42980675,100.2979509,100.2979509,100.2979509,100.2979509,100.2979509,100.2979509,100.2979509,110.0742729,110.0742729,110.0742729,110.0742729,110.0742729,110.0742729,112.4752107,112.4752107,112.4752107,112.4752107,112.4752107,116.0278968,116.0278968,116.0278968,116.0278968,116.0278968,121.7114423,121.7114423,121.7114423,121.7114423,123.6093171,123.6093171,123.6093171,123.6093171,123.6093171,129.8010527,129.8010527,129.8010527,129.8010527,129.8010527,132.1875957,132.1875957,132.1875957,132.1875957,137.8911344,137.8911344,139.8402409,139.8402409,139.8402409,139.8402409,139.8402409,139.8402409,141.4387035,141.4387035,141.4387035,141.4387035,141.4387035,143.3785335,143.3785335,143.3785335,155.4541427,155.4541427,155.4541427,155.4541427,155.4541427,157.5317039,157.5317039,157.5317039],\"xaxis\":\"x\",\"y\":[1.0062454778831385,1.0062454778831385,1.0062454778831385,1.0062454778831385,1.0062454778831385,1.0062454778831385,1.0062454778831385,1.007573527276278,1.007573527276278,1.007573527276278,1.007573527276278,1.007573527276278,1.007573527276278,1.011198308586243,1.011198308586243,1.011198308586243,1.011198308586243,1.011198308586243,1.011198308586243,1.0136169178251253,1.0136169178251253,1.0136169178251253,1.0136169178251253,1.0136169178251253,1.0136169178251253,1.0136169178251253,1.0232559639325747,1.0232559639325747,1.0232559639325747,1.0232559639325747,1.0232559639325747,1.0232559639325747,1.0232559639325747,1.0232559639325747,1.0232559639325747,1.0246795200390668,1.0246795200390668,1.0246795200390668,1.0246795200390668,1.0327652155595402,1.0327652155595402,1.0327652155595402,1.0327652155595402,1.0327652155595402,1.0327652155595402,1.0354320122170186,1.0354320122170186,1.0354320122170186,1.0354320122170186,1.0354320122170186,1.0354320122170186,1.0354320122170186,1.051736471982792,1.051736471982792,1.051736471982792,1.051736471982792,1.051736471982792,1.051736471982792,1.051736471982792,1.051736471982792,1.051736471982792,1.051736471982792,1.0544910427781917,1.0544910427781917,1.0544910427781917,1.0666589405853593,1.0666589405853593,1.0666589405853593,1.0666589405853593,1.0666589405853593,1.0666589405853593,1.0666589405853593,1.0666589405853593,1.0666589405853593,1.0681918550724052,1.0681918550724052,1.0681918550724052,1.0681918550724052,1.0911325100821794,1.0911325100821794,1.0911325100821794,1.0911325100821794,1.0911325100821794,1.0911325100821794,1.0911325100821794,1.0911325100821794,1.0932843883016634,1.0932843883016634,1.0932843883016634,1.0932843883016634,1.0932843883016634,1.1126771244139697,1.1126771244139697,1.1126771244139697,1.1126771244139697,1.1126771244139697,1.1126771244139697,1.1126771244139697,1.1166888391486176,1.1166888391486176,1.1166888391486176,1.1166888391486176,1.1166888391486176,1.1166888391486176,1.1178615039691608,1.1178615039691608,1.1178615039691608,1.1178615039691608,1.1178615039691608,1.1178615039691608,1.1178615039691608,1.1310670861109084,1.1310670861109084,1.1310670861109084,1.1310670861109084,1.1310670861109084,1.1310670861109084,1.1343102056946461,1.1343102056946461,1.1343102056946461,1.1343102056946461,1.1343102056946461,1.139109074647346,1.139109074647346,1.139109074647346,1.139109074647346,1.139109074647346,1.1467862488399114,1.1467862488399114,1.1467862488399114,1.1467862488399114,1.1493498450027784,1.1493498450027784,1.1493498450027784,1.1493498450027784,1.1493498450027784,1.1577134681593995,1.1577134681593995,1.1577134681593995,1.1577134681593995,1.1577134681593995,1.1609371436501732,1.1609371436501732,1.1609371436501732,1.1609371436501732,1.1686413240977367,1.1686413240977367,1.171274122607111,1.171274122607111,1.171274122607111,1.171274122607111,1.171274122607111,1.171274122607111,1.173433281150049,1.173433281150049,1.173433281150049,1.173433281150049,1.173433281150049,1.1760535492228503,1.1760535492228503,1.1760535492228503,1.1923649441628128,1.1923649441628128,1.1923649441628128,1.1923649441628128,1.1923649441628128,1.1951712556858076,1.1951712556858076,1.1951712556858076],\"yaxis\":\"y\",\"type\":\"scatter\"}],                        {\"template\":{\"data\":{\"bar\":[{\"error_x\":{\"color\":\"#2a3f5f\"},\"error_y\":{\"color\":\"#2a3f5f\"},\"marker\":{\"line\":{\"color\":\"#E5ECF6\",\"width\":0.5},\"pattern\":{\"fillmode\":\"overlay\",\"size\":10,\"solidity\":0.2}},\"type\":\"bar\"}],\"barpolar\":[{\"marker\":{\"line\":{\"color\":\"#E5ECF6\",\"width\":0.5},\"pattern\":{\"fillmode\":\"overlay\",\"size\":10,\"solidity\":0.2}},\"type\":\"barpolar\"}],\"carpet\":[{\"aaxis\":{\"endlinecolor\":\"#2a3f5f\",\"gridcolor\":\"white\",\"linecolor\":\"white\",\"minorgridcolor\":\"white\",\"startlinecolor\":\"#2a3f5f\"},\"baxis\":{\"endlinecolor\":\"#2a3f5f\",\"gridcolor\":\"white\",\"linecolor\":\"white\",\"minorgridcolor\":\"white\",\"startlinecolor\":\"#2a3f5f\"},\"type\":\"carpet\"}],\"choropleth\":[{\"colorbar\":{\"outlinewidth\":0,\"ticks\":\"\"},\"type\":\"choropleth\"}],\"contour\":[{\"colorbar\":{\"outlinewidth\":0,\"ticks\":\"\"},\"colorscale\":[[0.0,\"#0d0887\"],[0.1111111111111111,\"#46039f\"],[0.2222222222222222,\"#7201a8\"],[0.3333333333333333,\"#9c179e\"],[0.4444444444444444,\"#bd3786\"],[0.5555555555555556,\"#d8576b\"],[0.6666666666666666,\"#ed7953\"],[0.7777777777777778,\"#fb9f3a\"],[0.8888888888888888,\"#fdca26\"],[1.0,\"#f0f921\"]],\"type\":\"contour\"}],\"contourcarpet\":[{\"colorbar\":{\"outlinewidth\":0,\"ticks\":\"\"},\"type\":\"contourcarpet\"}],\"heatmap\":[{\"colorbar\":{\"outlinewidth\":0,\"ticks\":\"\"},\"colorscale\":[[0.0,\"#0d0887\"],[0.1111111111111111,\"#46039f\"],[0.2222222222222222,\"#7201a8\"],[0.3333333333333333,\"#9c179e\"],[0.4444444444444444,\"#bd3786\"],[0.5555555555555556,\"#d8576b\"],[0.6666666666666666,\"#ed7953\"],[0.7777777777777778,\"#fb9f3a\"],[0.8888888888888888,\"#fdca26\"],[1.0,\"#f0f921\"]],\"type\":\"heatmap\"}],\"heatmapgl\":[{\"colorbar\":{\"outlinewidth\":0,\"ticks\":\"\"},\"colorscale\":[[0.0,\"#0d0887\"],[0.1111111111111111,\"#46039f\"],[0.2222222222222222,\"#7201a8\"],[0.3333333333333333,\"#9c179e\"],[0.4444444444444444,\"#bd3786\"],[0.5555555555555556,\"#d8576b\"],[0.6666666666666666,\"#ed7953\"],[0.7777777777777778,\"#fb9f3a\"],[0.8888888888888888,\"#fdca26\"],[1.0,\"#f0f921\"]],\"type\":\"heatmapgl\"}],\"histogram\":[{\"marker\":{\"pattern\":{\"fillmode\":\"overlay\",\"size\":10,\"solidity\":0.2}},\"type\":\"histogram\"}],\"histogram2d\":[{\"colorbar\":{\"outlinewidth\":0,\"ticks\":\"\"},\"colorscale\":[[0.0,\"#0d0887\"],[0.1111111111111111,\"#46039f\"],[0.2222222222222222,\"#7201a8\"],[0.3333333333333333,\"#9c179e\"],[0.4444444444444444,\"#bd3786\"],[0.5555555555555556,\"#d8576b\"],[0.6666666666666666,\"#ed7953\"],[0.7777777777777778,\"#fb9f3a\"],[0.8888888888888888,\"#fdca26\"],[1.0,\"#f0f921\"]],\"type\":\"histogram2d\"}],\"histogram2dcontour\":[{\"colorbar\":{\"outlinewidth\":0,\"ticks\":\"\"},\"colorscale\":[[0.0,\"#0d0887\"],[0.1111111111111111,\"#46039f\"],[0.2222222222222222,\"#7201a8\"],[0.3333333333333333,\"#9c179e\"],[0.4444444444444444,\"#bd3786\"],[0.5555555555555556,\"#d8576b\"],[0.6666666666666666,\"#ed7953\"],[0.7777777777777778,\"#fb9f3a\"],[0.8888888888888888,\"#fdca26\"],[1.0,\"#f0f921\"]],\"type\":\"histogram2dcontour\"}],\"mesh3d\":[{\"colorbar\":{\"outlinewidth\":0,\"ticks\":\"\"},\"type\":\"mesh3d\"}],\"parcoords\":[{\"line\":{\"colorbar\":{\"outlinewidth\":0,\"ticks\":\"\"}},\"type\":\"parcoords\"}],\"pie\":[{\"automargin\":true,\"type\":\"pie\"}],\"scatter\":[{\"marker\":{\"colorbar\":{\"outlinewidth\":0,\"ticks\":\"\"}},\"type\":\"scatter\"}],\"scatter3d\":[{\"line\":{\"colorbar\":{\"outlinewidth\":0,\"ticks\":\"\"}},\"marker\":{\"colorbar\":{\"outlinewidth\":0,\"ticks\":\"\"}},\"type\":\"scatter3d\"}],\"scattercarpet\":[{\"marker\":{\"colorbar\":{\"outlinewidth\":0,\"ticks\":\"\"}},\"type\":\"scattercarpet\"}],\"scattergeo\":[{\"marker\":{\"colorbar\":{\"outlinewidth\":0,\"ticks\":\"\"}},\"type\":\"scattergeo\"}],\"scattergl\":[{\"marker\":{\"colorbar\":{\"outlinewidth\":0,\"ticks\":\"\"}},\"type\":\"scattergl\"}],\"scattermapbox\":[{\"marker\":{\"colorbar\":{\"outlinewidth\":0,\"ticks\":\"\"}},\"type\":\"scattermapbox\"}],\"scatterpolar\":[{\"marker\":{\"colorbar\":{\"outlinewidth\":0,\"ticks\":\"\"}},\"type\":\"scatterpolar\"}],\"scatterpolargl\":[{\"marker\":{\"colorbar\":{\"outlinewidth\":0,\"ticks\":\"\"}},\"type\":\"scatterpolargl\"}],\"scatterternary\":[{\"marker\":{\"colorbar\":{\"outlinewidth\":0,\"ticks\":\"\"}},\"type\":\"scatterternary\"}],\"surface\":[{\"colorbar\":{\"outlinewidth\":0,\"ticks\":\"\"},\"colorscale\":[[0.0,\"#0d0887\"],[0.1111111111111111,\"#46039f\"],[0.2222222222222222,\"#7201a8\"],[0.3333333333333333,\"#9c179e\"],[0.4444444444444444,\"#bd3786\"],[0.5555555555555556,\"#d8576b\"],[0.6666666666666666,\"#ed7953\"],[0.7777777777777778,\"#fb9f3a\"],[0.8888888888888888,\"#fdca26\"],[1.0,\"#f0f921\"]],\"type\":\"surface\"}],\"table\":[{\"cells\":{\"fill\":{\"color\":\"#EBF0F8\"},\"line\":{\"color\":\"white\"}},\"header\":{\"fill\":{\"color\":\"#C8D4E3\"},\"line\":{\"color\":\"white\"}},\"type\":\"table\"}]},\"layout\":{\"annotationdefaults\":{\"arrowcolor\":\"#2a3f5f\",\"arrowhead\":0,\"arrowwidth\":1},\"autotypenumbers\":\"strict\",\"coloraxis\":{\"colorbar\":{\"outlinewidth\":0,\"ticks\":\"\"}},\"colorscale\":{\"diverging\":[[0,\"#8e0152\"],[0.1,\"#c51b7d\"],[0.2,\"#de77ae\"],[0.3,\"#f1b6da\"],[0.4,\"#fde0ef\"],[0.5,\"#f7f7f7\"],[0.6,\"#e6f5d0\"],[0.7,\"#b8e186\"],[0.8,\"#7fbc41\"],[0.9,\"#4d9221\"],[1,\"#276419\"]],\"sequential\":[[0.0,\"#0d0887\"],[0.1111111111111111,\"#46039f\"],[0.2222222222222222,\"#7201a8\"],[0.3333333333333333,\"#9c179e\"],[0.4444444444444444,\"#bd3786\"],[0.5555555555555556,\"#d8576b\"],[0.6666666666666666,\"#ed7953\"],[0.7777777777777778,\"#fb9f3a\"],[0.8888888888888888,\"#fdca26\"],[1.0,\"#f0f921\"]],\"sequentialminus\":[[0.0,\"#0d0887\"],[0.1111111111111111,\"#46039f\"],[0.2222222222222222,\"#7201a8\"],[0.3333333333333333,\"#9c179e\"],[0.4444444444444444,\"#bd3786\"],[0.5555555555555556,\"#d8576b\"],[0.6666666666666666,\"#ed7953\"],[0.7777777777777778,\"#fb9f3a\"],[0.8888888888888888,\"#fdca26\"],[1.0,\"#f0f921\"]]},\"colorway\":[\"#636efa\",\"#EF553B\",\"#00cc96\",\"#ab63fa\",\"#FFA15A\",\"#19d3f3\",\"#FF6692\",\"#B6E880\",\"#FF97FF\",\"#FECB52\"],\"font\":{\"color\":\"#2a3f5f\"},\"geo\":{\"bgcolor\":\"white\",\"lakecolor\":\"white\",\"landcolor\":\"#E5ECF6\",\"showlakes\":true,\"showland\":true,\"subunitcolor\":\"white\"},\"hoverlabel\":{\"align\":\"left\"},\"hovermode\":\"closest\",\"mapbox\":{\"style\":\"light\"},\"paper_bgcolor\":\"white\",\"plot_bgcolor\":\"#E5ECF6\",\"polar\":{\"angularaxis\":{\"gridcolor\":\"white\",\"linecolor\":\"white\",\"ticks\":\"\"},\"bgcolor\":\"#E5ECF6\",\"radialaxis\":{\"gridcolor\":\"white\",\"linecolor\":\"white\",\"ticks\":\"\"}},\"scene\":{\"xaxis\":{\"backgroundcolor\":\"#E5ECF6\",\"gridcolor\":\"white\",\"gridwidth\":2,\"linecolor\":\"white\",\"showbackground\":true,\"ticks\":\"\",\"zerolinecolor\":\"white\"},\"yaxis\":{\"backgroundcolor\":\"#E5ECF6\",\"gridcolor\":\"white\",\"gridwidth\":2,\"linecolor\":\"white\",\"showbackground\":true,\"ticks\":\"\",\"zerolinecolor\":\"white\"},\"zaxis\":{\"backgroundcolor\":\"#E5ECF6\",\"gridcolor\":\"white\",\"gridwidth\":2,\"linecolor\":\"white\",\"showbackground\":true,\"ticks\":\"\",\"zerolinecolor\":\"white\"}},\"shapedefaults\":{\"line\":{\"color\":\"#2a3f5f\"}},\"ternary\":{\"aaxis\":{\"gridcolor\":\"white\",\"linecolor\":\"white\",\"ticks\":\"\"},\"baxis\":{\"gridcolor\":\"white\",\"linecolor\":\"white\",\"ticks\":\"\"},\"bgcolor\":\"#E5ECF6\",\"caxis\":{\"gridcolor\":\"white\",\"linecolor\":\"white\",\"ticks\":\"\"}},\"title\":{\"x\":0.05},\"xaxis\":{\"automargin\":true,\"gridcolor\":\"white\",\"linecolor\":\"white\",\"ticks\":\"\",\"title\":{\"standoff\":15},\"zerolinecolor\":\"white\",\"zerolinewidth\":2},\"yaxis\":{\"automargin\":true,\"gridcolor\":\"white\",\"linecolor\":\"white\",\"ticks\":\"\",\"title\":{\"standoff\":15},\"zerolinecolor\":\"white\",\"zerolinewidth\":2}}},\"xaxis\":{\"anchor\":\"y\",\"domain\":[0.0,1.0],\"title\":{\"text\":\"C\"}},\"yaxis\":{\"anchor\":\"x\",\"domain\":[0.0,1.0],\"title\":{\"text\":\"normalized_cost\"}},\"legend\":{\"tracegroupgap\":0},\"margin\":{\"t\":60}},                        {\"responsive\": true}                    ).then(function(){\n",
       "                            \n",
       "var gd = document.getElementById('1e5a4e97-9ca6-416e-92a3-022dba8d1218');\n",
       "var x = new MutationObserver(function (mutations, observer) {{\n",
       "        var display = window.getComputedStyle(gd).display;\n",
       "        if (!display || display === 'none') {{\n",
       "            console.log([gd, 'removed!']);\n",
       "            Plotly.purge(gd);\n",
       "            observer.disconnect();\n",
       "        }}\n",
       "}});\n",
       "\n",
       "// Listen for the removal of the full notebook cells\n",
       "var notebookContainer = gd.closest('#notebook-container');\n",
       "if (notebookContainer) {{\n",
       "    x.observe(notebookContainer, {childList: true});\n",
       "}}\n",
       "\n",
       "// Listen for the clearing of the current output cell\n",
       "var outputEl = gd.closest('.output');\n",
       "if (outputEl) {{\n",
       "    x.observe(outputEl, {childList: true});\n",
       "}}\n",
       "\n",
       "                        })                };                });            </script>        </div>"
      ]
     },
     "metadata": {},
     "output_type": "display_data"
    },
    {
     "name": "stdout",
     "output_type": "stream",
     "text": [
      "                            OLS Regression Results                            \n",
      "==============================================================================\n",
      "Dep. Variable:                      y   R-squared:                       0.071\n",
      "Model:                            OLS   Adj. R-squared:                  0.066\n",
      "Method:                 Least Squares   F-statistic:                     12.83\n",
      "Date:                Wed, 24 Nov 2021   Prob (F-statistic):           0.000446\n",
      "Time:                        16:06:30   Log-Likelihood:                 19.414\n",
      "No. Observations:                 169   AIC:                            -34.83\n",
      "Df Residuals:                     167   BIC:                            -28.57\n",
      "Df Model:                           1                                         \n",
      "Covariance Type:            nonrobust                                         \n",
      "==============================================================================\n",
      "                 coef    std err          t      P>|t|      [0.025      0.975]\n",
      "------------------------------------------------------------------------------\n",
      "const          0.9824      0.034     28.484      0.000       0.914       1.050\n",
      "x1             0.0014      0.000      3.582      0.000       0.001       0.002\n",
      "==============================================================================\n",
      "Omnibus:                      278.946   Durbin-Watson:                   1.608\n",
      "Prob(Omnibus):                  0.000   Jarque-Bera (JB):            40577.507\n",
      "Skew:                           7.583   Prob(JB):                         0.00\n",
      "Kurtosis:                      77.381   Cond. No.                         189.\n",
      "==============================================================================\n",
      "\n",
      "Notes:\n",
      "[1] Standard Errors assume that the covariance matrix of the errors is correctly specified.\n"
     ]
    }
   ],
   "source": [
    "fig = px.scatter(unified_df, x=\"C\", y=\"normalized_cost\", log_x=False,log_y=False,trendline=\"ols\", trendline_options=dict(log_x=False,log_y=False))\n",
    "fig.show()\n",
    "results = px.get_trendline_results(fig)\n",
    "results = results.iloc[0][\"px_fit_results\"].summary()\n",
    "print(results)"
   ]
  },
  {
   "cell_type": "code",
   "execution_count": null,
   "id": "1b40432b-d702-4d4c-b7e5-8674c23ecfc8",
   "metadata": {},
   "outputs": [],
   "source": [
    "unified_df['log_cost'].to_numpy().reshape(-1, 1)"
   ]
  },
  {
   "cell_type": "code",
   "execution_count": 38,
   "id": "1bbb043b",
   "metadata": {},
   "outputs": [
    {
     "data": {
      "application/vnd.plotly.v1+json": {
       "config": {
        "plotlyServerURL": "https://plot.ly"
       },
       "data": [
        {
         "hovertemplate": "C=%{x}<br>time=%{y}<extra></extra>",
         "legendgroup": "",
         "marker": {
          "color": "#636efa",
          "symbol": "circle"
         },
         "mode": "markers",
         "name": "",
         "orientation": "v",
         "showlegend": false,
         "type": "scatter",
         "x": [
          17.66666667,
          17.66666667,
          17.66666667,
          17.66666667,
          17.66666667,
          17.66666667,
          17.66666667,
          18.64984472,
          18.64984472,
          18.64984472,
          18.64984472,
          18.64984472,
          18.64984472,
          21.33333333,
          21.33333333,
          21.33333333,
          21.33333333,
          21.33333333,
          21.33333333,
          23.12387179,
          23.12387179,
          23.12387179,
          23.12387179,
          23.12387179,
          23.12387179,
          23.12387179,
          30.25982517,
          30.25982517,
          30.25982517,
          30.25982517,
          30.25982517,
          30.25982517,
          30.25982517,
          30.25982517,
          30.25982517,
          31.3137085,
          31.3137085,
          31.3137085,
          31.3137085,
          37.29968944,
          37.29968944,
          37.29968944,
          37.29968944,
          37.29968944,
          37.29968944,
          39.27396536,
          39.27396536,
          39.27396536,
          39.27396536,
          39.27396536,
          39.27396536,
          39.27396536,
          51.34444033,
          51.34444033,
          51.34444033,
          51.34444033,
          51.34444033,
          51.34444033,
          51.34444033,
          51.34444033,
          51.34444033,
          51.34444033,
          53.38369697,
          53.38369697,
          53.38369697,
          62.39180322,
          62.39180322,
          62.39180322,
          62.39180322,
          62.39180322,
          62.39180322,
          62.39180322,
          62.39180322,
          62.39180322,
          63.52664646,
          63.52664646,
          63.52664646,
          63.52664646,
          80.51001212,
          80.51001212,
          80.51001212,
          80.51001212,
          80.51001212,
          80.51001212,
          80.51001212,
          80.51001212,
          82.10308497,
          82.10308497,
          82.10308497,
          82.10308497,
          82.10308497,
          96.4598646,
          96.4598646,
          96.4598646,
          96.4598646,
          96.4598646,
          96.4598646,
          96.4598646,
          99.42980675,
          99.42980675,
          99.42980675,
          99.42980675,
          99.42980675,
          99.42980675,
          100.2979509,
          100.2979509,
          100.2979509,
          100.2979509,
          100.2979509,
          100.2979509,
          100.2979509,
          110.0742729,
          110.0742729,
          110.0742729,
          110.0742729,
          110.0742729,
          110.0742729,
          112.4752107,
          112.4752107,
          112.4752107,
          112.4752107,
          112.4752107,
          116.0278968,
          116.0278968,
          116.0278968,
          116.0278968,
          116.0278968,
          121.7114423,
          121.7114423,
          121.7114423,
          121.7114423,
          123.6093171,
          123.6093171,
          123.6093171,
          123.6093171,
          123.6093171,
          129.8010527,
          129.8010527,
          129.8010527,
          129.8010527,
          129.8010527,
          132.1875957,
          132.1875957,
          132.1875957,
          132.1875957,
          137.8911344,
          137.8911344,
          139.8402409,
          139.8402409,
          139.8402409,
          139.8402409,
          139.8402409,
          139.8402409,
          141.4387035,
          141.4387035,
          141.4387035,
          141.4387035,
          141.4387035,
          143.3785335,
          143.3785335,
          143.3785335,
          155.4541427,
          155.4541427,
          155.4541427,
          155.4541427,
          155.4541427,
          157.5317039,
          157.5317039,
          157.5317039
         ],
         "xaxis": "x",
         "y": [
          70,
          22,
          47,
          14,
          null,
          null,
          null,
          78,
          36,
          null,
          null,
          null,
          null,
          46,
          17,
          null,
          null,
          null,
          null,
          70,
          31,
          55,
          27,
          null,
          null,
          null,
          27,
          108,
          15,
          90,
          34,
          null,
          null,
          null,
          null,
          45,
          null,
          null,
          null,
          32,
          null,
          11,
          22,
          null,
          null,
          39,
          61,
          50,
          null,
          null,
          null,
          null,
          82,
          29,
          61,
          119,
          39,
          null,
          null,
          null,
          null,
          null,
          13,
          null,
          null,
          53,
          32,
          64,
          23,
          100,
          null,
          null,
          null,
          null,
          55,
          null,
          null,
          null,
          78,
          21,
          95,
          null,
          null,
          null,
          null,
          null,
          75,
          47,
          107,
          null,
          null,
          135,
          50,
          156,
          176,
          null,
          null,
          null,
          181,
          27,
          null,
          null,
          null,
          null,
          100,
          38,
          190,
          81,
          null,
          null,
          null,
          205,
          58,
          null,
          null,
          null,
          null,
          60,
          60,
          22,
          80,
          null,
          220,
          72,
          null,
          null,
          null,
          175,
          134,
          null,
          null,
          158,
          null,
          225,
          99,
          null,
          47,
          142,
          null,
          null,
          null,
          150,
          null,
          null,
          null,
          133,
          null,
          140,
          138,
          null,
          null,
          null,
          null,
          63,
          64,
          null,
          null,
          null,
          96,
          null,
          null,
          176,
          null,
          null,
          null,
          null,
          179,
          72,
          null
         ],
         "yaxis": "y"
        },
        {
         "hovertemplate": "<b>OLS trendline</b><br>log10(time) = 0.00446155 * C + 1.44914<br>R<sup>2</sup>=0.351685<br><br>C=%{x}<br>time=%{y} <b>(trend)</b><extra></extra>",
         "legendgroup": "",
         "marker": {
          "color": "#636efa",
          "symbol": "circle"
         },
         "mode": "lines",
         "name": "",
         "showlegend": false,
         "type": "scatter",
         "x": [
          17.66666667,
          17.66666667,
          17.66666667,
          17.66666667,
          18.64984472,
          18.64984472,
          21.33333333,
          21.33333333,
          23.12387179,
          23.12387179,
          23.12387179,
          23.12387179,
          30.25982517,
          30.25982517,
          30.25982517,
          30.25982517,
          30.25982517,
          31.3137085,
          37.29968944,
          37.29968944,
          37.29968944,
          39.27396536,
          39.27396536,
          39.27396536,
          51.34444033,
          51.34444033,
          51.34444033,
          51.34444033,
          51.34444033,
          53.38369697,
          62.39180322,
          62.39180322,
          62.39180322,
          62.39180322,
          62.39180322,
          63.52664646,
          80.51001212,
          80.51001212,
          80.51001212,
          82.10308497,
          82.10308497,
          82.10308497,
          96.4598646,
          96.4598646,
          96.4598646,
          96.4598646,
          99.42980675,
          99.42980675,
          100.2979509,
          100.2979509,
          100.2979509,
          100.2979509,
          110.0742729,
          110.0742729,
          112.4752107,
          112.4752107,
          112.4752107,
          112.4752107,
          116.0278968,
          116.0278968,
          121.7114423,
          121.7114423,
          123.6093171,
          123.6093171,
          123.6093171,
          129.8010527,
          129.8010527,
          132.1875957,
          137.8911344,
          139.8402409,
          139.8402409,
          141.4387035,
          141.4387035,
          143.3785335,
          155.4541427,
          157.5317039,
          157.5317039
         ],
         "xaxis": "x",
         "y": [
          33.72557027610756,
          33.72557027610756,
          33.72557027610756,
          33.72557027610756,
          34.067933883282414,
          34.067933883282414,
          35.020174237314535,
          35.020174237314535,
          35.67030899953019,
          35.67030899953019,
          35.67030899953019,
          35.67030899953019,
          38.38347167574195,
          38.38347167574195,
          38.38347167574195,
          38.38347167574195,
          38.38347167574195,
          38.80129329490197,
          41.26225211569208,
          41.26225211569208,
          41.26225211569208,
          42.10767384500662,
          42.10767384500662,
          42.10767384500662,
          47.666605427776894,
          47.666605427776894,
          47.666605427776894,
          47.666605427776894,
          47.666605427776894,
          48.675728635971595,
          53.39523940186252,
          53.39523940186252,
          53.39523940186252,
          53.39523940186252,
          53.39523940186252,
          54.02138232216596,
          64.31877334528171,
          64.31877334528171,
          64.31877334528171,
          65.38006083318886,
          65.38006083318886,
          65.38006083318886,
          75.77025472594818,
          75.77025472594818,
          75.77025472594818,
          75.77025472594818,
          78.11766971173653,
          78.11766971173653,
          78.81747983218861,
          78.81747983218861,
          78.81747983218861,
          78.81747983218861,
          87.14451369107897,
          87.14451369107897,
          89.3206642527887,
          89.3206642527887,
          89.3206642527887,
          89.3206642527887,
          92.64082525870822,
          92.64082525870822,
          98.21092750865996,
          98.21092750865996,
          100.14453803884994,
          100.14453803884994,
          100.14453803884994,
          106.72151412296519,
          106.72151412296519,
          109.37036176314376,
          115.97015739776047,
          118.31567183104184,
          118.31567183104184,
          120.27459076686107,
          120.27459076686107,
          122.69546980573999,
          138.9006918560231,
          141.8971075928163,
          141.8971075928163
         ],
         "yaxis": "y"
        }
       ],
       "layout": {
        "autosize": true,
        "legend": {
         "tracegroupgap": 0
        },
        "margin": {
         "t": 60
        },
        "template": {
         "data": {
          "bar": [
           {
            "error_x": {
             "color": "#2a3f5f"
            },
            "error_y": {
             "color": "#2a3f5f"
            },
            "marker": {
             "line": {
              "color": "#E5ECF6",
              "width": 0.5
             },
             "pattern": {
              "fillmode": "overlay",
              "size": 10,
              "solidity": 0.2
             }
            },
            "type": "bar"
           }
          ],
          "barpolar": [
           {
            "marker": {
             "line": {
              "color": "#E5ECF6",
              "width": 0.5
             },
             "pattern": {
              "fillmode": "overlay",
              "size": 10,
              "solidity": 0.2
             }
            },
            "type": "barpolar"
           }
          ],
          "carpet": [
           {
            "aaxis": {
             "endlinecolor": "#2a3f5f",
             "gridcolor": "white",
             "linecolor": "white",
             "minorgridcolor": "white",
             "startlinecolor": "#2a3f5f"
            },
            "baxis": {
             "endlinecolor": "#2a3f5f",
             "gridcolor": "white",
             "linecolor": "white",
             "minorgridcolor": "white",
             "startlinecolor": "#2a3f5f"
            },
            "type": "carpet"
           }
          ],
          "choropleth": [
           {
            "colorbar": {
             "outlinewidth": 0,
             "ticks": ""
            },
            "type": "choropleth"
           }
          ],
          "contour": [
           {
            "colorbar": {
             "outlinewidth": 0,
             "ticks": ""
            },
            "colorscale": [
             [
              0,
              "#0d0887"
             ],
             [
              0.1111111111111111,
              "#46039f"
             ],
             [
              0.2222222222222222,
              "#7201a8"
             ],
             [
              0.3333333333333333,
              "#9c179e"
             ],
             [
              0.4444444444444444,
              "#bd3786"
             ],
             [
              0.5555555555555556,
              "#d8576b"
             ],
             [
              0.6666666666666666,
              "#ed7953"
             ],
             [
              0.7777777777777778,
              "#fb9f3a"
             ],
             [
              0.8888888888888888,
              "#fdca26"
             ],
             [
              1,
              "#f0f921"
             ]
            ],
            "type": "contour"
           }
          ],
          "contourcarpet": [
           {
            "colorbar": {
             "outlinewidth": 0,
             "ticks": ""
            },
            "type": "contourcarpet"
           }
          ],
          "heatmap": [
           {
            "colorbar": {
             "outlinewidth": 0,
             "ticks": ""
            },
            "colorscale": [
             [
              0,
              "#0d0887"
             ],
             [
              0.1111111111111111,
              "#46039f"
             ],
             [
              0.2222222222222222,
              "#7201a8"
             ],
             [
              0.3333333333333333,
              "#9c179e"
             ],
             [
              0.4444444444444444,
              "#bd3786"
             ],
             [
              0.5555555555555556,
              "#d8576b"
             ],
             [
              0.6666666666666666,
              "#ed7953"
             ],
             [
              0.7777777777777778,
              "#fb9f3a"
             ],
             [
              0.8888888888888888,
              "#fdca26"
             ],
             [
              1,
              "#f0f921"
             ]
            ],
            "type": "heatmap"
           }
          ],
          "heatmapgl": [
           {
            "colorbar": {
             "outlinewidth": 0,
             "ticks": ""
            },
            "colorscale": [
             [
              0,
              "#0d0887"
             ],
             [
              0.1111111111111111,
              "#46039f"
             ],
             [
              0.2222222222222222,
              "#7201a8"
             ],
             [
              0.3333333333333333,
              "#9c179e"
             ],
             [
              0.4444444444444444,
              "#bd3786"
             ],
             [
              0.5555555555555556,
              "#d8576b"
             ],
             [
              0.6666666666666666,
              "#ed7953"
             ],
             [
              0.7777777777777778,
              "#fb9f3a"
             ],
             [
              0.8888888888888888,
              "#fdca26"
             ],
             [
              1,
              "#f0f921"
             ]
            ],
            "type": "heatmapgl"
           }
          ],
          "histogram": [
           {
            "marker": {
             "pattern": {
              "fillmode": "overlay",
              "size": 10,
              "solidity": 0.2
             }
            },
            "type": "histogram"
           }
          ],
          "histogram2d": [
           {
            "colorbar": {
             "outlinewidth": 0,
             "ticks": ""
            },
            "colorscale": [
             [
              0,
              "#0d0887"
             ],
             [
              0.1111111111111111,
              "#46039f"
             ],
             [
              0.2222222222222222,
              "#7201a8"
             ],
             [
              0.3333333333333333,
              "#9c179e"
             ],
             [
              0.4444444444444444,
              "#bd3786"
             ],
             [
              0.5555555555555556,
              "#d8576b"
             ],
             [
              0.6666666666666666,
              "#ed7953"
             ],
             [
              0.7777777777777778,
              "#fb9f3a"
             ],
             [
              0.8888888888888888,
              "#fdca26"
             ],
             [
              1,
              "#f0f921"
             ]
            ],
            "type": "histogram2d"
           }
          ],
          "histogram2dcontour": [
           {
            "colorbar": {
             "outlinewidth": 0,
             "ticks": ""
            },
            "colorscale": [
             [
              0,
              "#0d0887"
             ],
             [
              0.1111111111111111,
              "#46039f"
             ],
             [
              0.2222222222222222,
              "#7201a8"
             ],
             [
              0.3333333333333333,
              "#9c179e"
             ],
             [
              0.4444444444444444,
              "#bd3786"
             ],
             [
              0.5555555555555556,
              "#d8576b"
             ],
             [
              0.6666666666666666,
              "#ed7953"
             ],
             [
              0.7777777777777778,
              "#fb9f3a"
             ],
             [
              0.8888888888888888,
              "#fdca26"
             ],
             [
              1,
              "#f0f921"
             ]
            ],
            "type": "histogram2dcontour"
           }
          ],
          "mesh3d": [
           {
            "colorbar": {
             "outlinewidth": 0,
             "ticks": ""
            },
            "type": "mesh3d"
           }
          ],
          "parcoords": [
           {
            "line": {
             "colorbar": {
              "outlinewidth": 0,
              "ticks": ""
             }
            },
            "type": "parcoords"
           }
          ],
          "pie": [
           {
            "automargin": true,
            "type": "pie"
           }
          ],
          "scatter": [
           {
            "marker": {
             "colorbar": {
              "outlinewidth": 0,
              "ticks": ""
             }
            },
            "type": "scatter"
           }
          ],
          "scatter3d": [
           {
            "line": {
             "colorbar": {
              "outlinewidth": 0,
              "ticks": ""
             }
            },
            "marker": {
             "colorbar": {
              "outlinewidth": 0,
              "ticks": ""
             }
            },
            "type": "scatter3d"
           }
          ],
          "scattercarpet": [
           {
            "marker": {
             "colorbar": {
              "outlinewidth": 0,
              "ticks": ""
             }
            },
            "type": "scattercarpet"
           }
          ],
          "scattergeo": [
           {
            "marker": {
             "colorbar": {
              "outlinewidth": 0,
              "ticks": ""
             }
            },
            "type": "scattergeo"
           }
          ],
          "scattergl": [
           {
            "marker": {
             "colorbar": {
              "outlinewidth": 0,
              "ticks": ""
             }
            },
            "type": "scattergl"
           }
          ],
          "scattermapbox": [
           {
            "marker": {
             "colorbar": {
              "outlinewidth": 0,
              "ticks": ""
             }
            },
            "type": "scattermapbox"
           }
          ],
          "scatterpolar": [
           {
            "marker": {
             "colorbar": {
              "outlinewidth": 0,
              "ticks": ""
             }
            },
            "type": "scatterpolar"
           }
          ],
          "scatterpolargl": [
           {
            "marker": {
             "colorbar": {
              "outlinewidth": 0,
              "ticks": ""
             }
            },
            "type": "scatterpolargl"
           }
          ],
          "scatterternary": [
           {
            "marker": {
             "colorbar": {
              "outlinewidth": 0,
              "ticks": ""
             }
            },
            "type": "scatterternary"
           }
          ],
          "surface": [
           {
            "colorbar": {
             "outlinewidth": 0,
             "ticks": ""
            },
            "colorscale": [
             [
              0,
              "#0d0887"
             ],
             [
              0.1111111111111111,
              "#46039f"
             ],
             [
              0.2222222222222222,
              "#7201a8"
             ],
             [
              0.3333333333333333,
              "#9c179e"
             ],
             [
              0.4444444444444444,
              "#bd3786"
             ],
             [
              0.5555555555555556,
              "#d8576b"
             ],
             [
              0.6666666666666666,
              "#ed7953"
             ],
             [
              0.7777777777777778,
              "#fb9f3a"
             ],
             [
              0.8888888888888888,
              "#fdca26"
             ],
             [
              1,
              "#f0f921"
             ]
            ],
            "type": "surface"
           }
          ],
          "table": [
           {
            "cells": {
             "fill": {
              "color": "#EBF0F8"
             },
             "line": {
              "color": "white"
             }
            },
            "header": {
             "fill": {
              "color": "#C8D4E3"
             },
             "line": {
              "color": "white"
             }
            },
            "type": "table"
           }
          ]
         },
         "layout": {
          "annotationdefaults": {
           "arrowcolor": "#2a3f5f",
           "arrowhead": 0,
           "arrowwidth": 1
          },
          "autotypenumbers": "strict",
          "coloraxis": {
           "colorbar": {
            "outlinewidth": 0,
            "ticks": ""
           }
          },
          "colorscale": {
           "diverging": [
            [
             0,
             "#8e0152"
            ],
            [
             0.1,
             "#c51b7d"
            ],
            [
             0.2,
             "#de77ae"
            ],
            [
             0.3,
             "#f1b6da"
            ],
            [
             0.4,
             "#fde0ef"
            ],
            [
             0.5,
             "#f7f7f7"
            ],
            [
             0.6,
             "#e6f5d0"
            ],
            [
             0.7,
             "#b8e186"
            ],
            [
             0.8,
             "#7fbc41"
            ],
            [
             0.9,
             "#4d9221"
            ],
            [
             1,
             "#276419"
            ]
           ],
           "sequential": [
            [
             0,
             "#0d0887"
            ],
            [
             0.1111111111111111,
             "#46039f"
            ],
            [
             0.2222222222222222,
             "#7201a8"
            ],
            [
             0.3333333333333333,
             "#9c179e"
            ],
            [
             0.4444444444444444,
             "#bd3786"
            ],
            [
             0.5555555555555556,
             "#d8576b"
            ],
            [
             0.6666666666666666,
             "#ed7953"
            ],
            [
             0.7777777777777778,
             "#fb9f3a"
            ],
            [
             0.8888888888888888,
             "#fdca26"
            ],
            [
             1,
             "#f0f921"
            ]
           ],
           "sequentialminus": [
            [
             0,
             "#0d0887"
            ],
            [
             0.1111111111111111,
             "#46039f"
            ],
            [
             0.2222222222222222,
             "#7201a8"
            ],
            [
             0.3333333333333333,
             "#9c179e"
            ],
            [
             0.4444444444444444,
             "#bd3786"
            ],
            [
             0.5555555555555556,
             "#d8576b"
            ],
            [
             0.6666666666666666,
             "#ed7953"
            ],
            [
             0.7777777777777778,
             "#fb9f3a"
            ],
            [
             0.8888888888888888,
             "#fdca26"
            ],
            [
             1,
             "#f0f921"
            ]
           ]
          },
          "colorway": [
           "#636efa",
           "#EF553B",
           "#00cc96",
           "#ab63fa",
           "#FFA15A",
           "#19d3f3",
           "#FF6692",
           "#B6E880",
           "#FF97FF",
           "#FECB52"
          ],
          "font": {
           "color": "#2a3f5f"
          },
          "geo": {
           "bgcolor": "white",
           "lakecolor": "white",
           "landcolor": "#E5ECF6",
           "showlakes": true,
           "showland": true,
           "subunitcolor": "white"
          },
          "hoverlabel": {
           "align": "left"
          },
          "hovermode": "closest",
          "mapbox": {
           "style": "light"
          },
          "paper_bgcolor": "white",
          "plot_bgcolor": "#E5ECF6",
          "polar": {
           "angularaxis": {
            "gridcolor": "white",
            "linecolor": "white",
            "ticks": ""
           },
           "bgcolor": "#E5ECF6",
           "radialaxis": {
            "gridcolor": "white",
            "linecolor": "white",
            "ticks": ""
           }
          },
          "scene": {
           "xaxis": {
            "backgroundcolor": "#E5ECF6",
            "gridcolor": "white",
            "gridwidth": 2,
            "linecolor": "white",
            "showbackground": true,
            "ticks": "",
            "zerolinecolor": "white"
           },
           "yaxis": {
            "backgroundcolor": "#E5ECF6",
            "gridcolor": "white",
            "gridwidth": 2,
            "linecolor": "white",
            "showbackground": true,
            "ticks": "",
            "zerolinecolor": "white"
           },
           "zaxis": {
            "backgroundcolor": "#E5ECF6",
            "gridcolor": "white",
            "gridwidth": 2,
            "linecolor": "white",
            "showbackground": true,
            "ticks": "",
            "zerolinecolor": "white"
           }
          },
          "shapedefaults": {
           "line": {
            "color": "#2a3f5f"
           }
          },
          "ternary": {
           "aaxis": {
            "gridcolor": "white",
            "linecolor": "white",
            "ticks": ""
           },
           "baxis": {
            "gridcolor": "white",
            "linecolor": "white",
            "ticks": ""
           },
           "bgcolor": "#E5ECF6",
           "caxis": {
            "gridcolor": "white",
            "linecolor": "white",
            "ticks": ""
           }
          },
          "title": {
           "x": 0.05
          },
          "xaxis": {
           "automargin": true,
           "gridcolor": "white",
           "linecolor": "white",
           "ticks": "",
           "title": {
            "standoff": 15
           },
           "zerolinecolor": "white",
           "zerolinewidth": 2
          },
          "yaxis": {
           "automargin": true,
           "gridcolor": "white",
           "linecolor": "white",
           "ticks": "",
           "title": {
            "standoff": 15
           },
           "zerolinecolor": "white",
           "zerolinewidth": 2
          }
         }
        },
        "xaxis": {
         "anchor": "y",
         "autorange": true,
         "domain": [
          0,
          1
         ],
         "range": [
          9.346083718640228,
          165.85228685135976
         ],
         "title": {
          "text": "C"
         },
         "type": "linear"
        },
        "yaxis": {
         "anchor": "x",
         "autorange": true,
         "domain": [
          0,
          1
         ],
         "range": [
          -5.569553805774277,
          241.56955380577426
         ],
         "title": {
          "text": "time"
         },
         "type": "linear"
        }
       }
      },
      "image/png": "[encoded data removed]",
      "text/html": [
       "<div>                            <div id=\"c1be459d-17db-4f5e-bfe5-39d96fb3c36a\" class=\"plotly-graph-div\" style=\"height:525px; width:100%;\"></div>            <script type=\"text/javascript\">                require([\"plotly\"], function(Plotly) {                    window.PLOTLYENV=window.PLOTLYENV || {};                                    if (document.getElementById(\"c1be459d-17db-4f5e-bfe5-39d96fb3c36a\")) {                    Plotly.newPlot(                        \"c1be459d-17db-4f5e-bfe5-39d96fb3c36a\",                        [{\"hovertemplate\":\"C=%{x}<br>time=%{y}<extra></extra>\",\"legendgroup\":\"\",\"marker\":{\"color\":\"#636efa\",\"symbol\":\"circle\"},\"mode\":\"markers\",\"name\":\"\",\"orientation\":\"v\",\"showlegend\":false,\"x\":[17.66666667,17.66666667,17.66666667,17.66666667,17.66666667,17.66666667,17.66666667,18.64984472,18.64984472,18.64984472,18.64984472,18.64984472,18.64984472,21.33333333,21.33333333,21.33333333,21.33333333,21.33333333,21.33333333,23.12387179,23.12387179,23.12387179,23.12387179,23.12387179,23.12387179,23.12387179,30.25982517,30.25982517,30.25982517,30.25982517,30.25982517,30.25982517,30.25982517,30.25982517,30.25982517,31.3137085,31.3137085,31.3137085,31.3137085,37.29968944,37.29968944,37.29968944,37.29968944,37.29968944,37.29968944,39.27396536,39.27396536,39.27396536,39.27396536,39.27396536,39.27396536,39.27396536,51.34444033,51.34444033,51.34444033,51.34444033,51.34444033,51.34444033,51.34444033,51.34444033,51.34444033,51.34444033,53.38369697,53.38369697,53.38369697,62.39180322,62.39180322,62.39180322,62.39180322,62.39180322,62.39180322,62.39180322,62.39180322,62.39180322,63.52664646,63.52664646,63.52664646,63.52664646,80.51001212,80.51001212,80.51001212,80.51001212,80.51001212,80.51001212,80.51001212,80.51001212,82.10308497,82.10308497,82.10308497,82.10308497,82.10308497,96.4598646,96.4598646,96.4598646,96.4598646,96.4598646,96.4598646,96.4598646,99.42980675,99.42980675,99.42980675,99.42980675,99.42980675,99.42980675,100.2979509,100.2979509,100.2979509,100.2979509,100.2979509,100.2979509,100.2979509,110.0742729,110.0742729,110.0742729,110.0742729,110.0742729,110.0742729,112.4752107,112.4752107,112.4752107,112.4752107,112.4752107,116.0278968,116.0278968,116.0278968,116.0278968,116.0278968,121.7114423,121.7114423,121.7114423,121.7114423,123.6093171,123.6093171,123.6093171,123.6093171,123.6093171,129.8010527,129.8010527,129.8010527,129.8010527,129.8010527,132.1875957,132.1875957,132.1875957,132.1875957,137.8911344,137.8911344,139.8402409,139.8402409,139.8402409,139.8402409,139.8402409,139.8402409,141.4387035,141.4387035,141.4387035,141.4387035,141.4387035,143.3785335,143.3785335,143.3785335,155.4541427,155.4541427,155.4541427,155.4541427,155.4541427,157.5317039,157.5317039,157.5317039],\"xaxis\":\"x\",\"y\":[70.0,22.0,47.0,14.0,null,null,null,78.0,36.0,null,null,null,null,46.0,17.0,null,null,null,null,70.0,31.0,55.0,27.0,null,null,null,27.0,108.0,15.0,90.0,34.0,null,null,null,null,45.0,null,null,null,32.0,null,11.0,22.0,null,null,39.0,61.0,50.0,null,null,null,null,82.0,29.0,61.0,119.0,39.0,null,null,null,null,null,13.0,null,null,53.0,32.0,64.0,23.0,100.0,null,null,null,null,55.0,null,null,null,78.0,21.0,95.0,null,null,null,null,null,75.0,47.0,107.0,null,null,135.0,50.0,156.0,176.0,null,null,null,181.0,27.0,null,null,null,null,100.0,38.0,190.0,81.0,null,null,null,205.0,58.0,null,null,null,null,60.0,60.0,22.0,80.0,null,220.0,72.0,null,null,null,175.0,134.0,null,null,158.0,null,225.0,99.0,null,47.0,142.0,null,null,null,150.0,null,null,null,133.0,null,140.0,138.0,null,null,null,null,63.0,64.0,null,null,null,96.0,null,null,176.0,null,null,null,null,179.0,72.0,null],\"yaxis\":\"y\",\"type\":\"scatter\"},{\"hovertemplate\":\"<b>OLS trendline</b><br>log10(time) = 0.00446155 * C + 1.44914<br>R<sup>2</sup>=0.351685<br><br>C=%{x}<br>time=%{y} <b>(trend)</b><extra></extra>\",\"legendgroup\":\"\",\"marker\":{\"color\":\"#636efa\",\"symbol\":\"circle\"},\"mode\":\"lines\",\"name\":\"\",\"showlegend\":false,\"x\":[17.66666667,17.66666667,17.66666667,17.66666667,18.64984472,18.64984472,21.33333333,21.33333333,23.12387179,23.12387179,23.12387179,23.12387179,30.25982517,30.25982517,30.25982517,30.25982517,30.25982517,31.3137085,37.29968944,37.29968944,37.29968944,39.27396536,39.27396536,39.27396536,51.34444033,51.34444033,51.34444033,51.34444033,51.34444033,53.38369697,62.39180322,62.39180322,62.39180322,62.39180322,62.39180322,63.52664646,80.51001212,80.51001212,80.51001212,82.10308497,82.10308497,82.10308497,96.4598646,96.4598646,96.4598646,96.4598646,99.42980675,99.42980675,100.2979509,100.2979509,100.2979509,100.2979509,110.0742729,110.0742729,112.4752107,112.4752107,112.4752107,112.4752107,116.0278968,116.0278968,121.7114423,121.7114423,123.6093171,123.6093171,123.6093171,129.8010527,129.8010527,132.1875957,137.8911344,139.8402409,139.8402409,141.4387035,141.4387035,143.3785335,155.4541427,157.5317039,157.5317039],\"xaxis\":\"x\",\"y\":[33.72557027610756,33.72557027610756,33.72557027610756,33.72557027610756,34.067933883282414,34.067933883282414,35.020174237314535,35.020174237314535,35.67030899953019,35.67030899953019,35.67030899953019,35.67030899953019,38.38347167574195,38.38347167574195,38.38347167574195,38.38347167574195,38.38347167574195,38.80129329490197,41.26225211569208,41.26225211569208,41.26225211569208,42.10767384500662,42.10767384500662,42.10767384500662,47.666605427776894,47.666605427776894,47.666605427776894,47.666605427776894,47.666605427776894,48.675728635971595,53.39523940186252,53.39523940186252,53.39523940186252,53.39523940186252,53.39523940186252,54.02138232216596,64.31877334528171,64.31877334528171,64.31877334528171,65.38006083318886,65.38006083318886,65.38006083318886,75.77025472594818,75.77025472594818,75.77025472594818,75.77025472594818,78.11766971173653,78.11766971173653,78.81747983218861,78.81747983218861,78.81747983218861,78.81747983218861,87.14451369107897,87.14451369107897,89.3206642527887,89.3206642527887,89.3206642527887,89.3206642527887,92.64082525870822,92.64082525870822,98.21092750865996,98.21092750865996,100.14453803884994,100.14453803884994,100.14453803884994,106.72151412296519,106.72151412296519,109.37036176314376,115.97015739776047,118.31567183104184,118.31567183104184,120.27459076686107,120.27459076686107,122.69546980573999,138.9006918560231,141.8971075928163,141.8971075928163],\"yaxis\":\"y\",\"type\":\"scatter\"}],                        {\"template\":{\"data\":{\"bar\":[{\"error_x\":{\"color\":\"#2a3f5f\"},\"error_y\":{\"color\":\"#2a3f5f\"},\"marker\":{\"line\":{\"color\":\"#E5ECF6\",\"width\":0.5},\"pattern\":{\"fillmode\":\"overlay\",\"size\":10,\"solidity\":0.2}},\"type\":\"bar\"}],\"barpolar\":[{\"marker\":{\"line\":{\"color\":\"#E5ECF6\",\"width\":0.5},\"pattern\":{\"fillmode\":\"overlay\",\"size\":10,\"solidity\":0.2}},\"type\":\"barpolar\"}],\"carpet\":[{\"aaxis\":{\"endlinecolor\":\"#2a3f5f\",\"gridcolor\":\"white\",\"linecolor\":\"white\",\"minorgridcolor\":\"white\",\"startlinecolor\":\"#2a3f5f\"},\"baxis\":{\"endlinecolor\":\"#2a3f5f\",\"gridcolor\":\"white\",\"linecolor\":\"white\",\"minorgridcolor\":\"white\",\"startlinecolor\":\"#2a3f5f\"},\"type\":\"carpet\"}],\"choropleth\":[{\"colorbar\":{\"outlinewidth\":0,\"ticks\":\"\"},\"type\":\"choropleth\"}],\"contour\":[{\"colorbar\":{\"outlinewidth\":0,\"ticks\":\"\"},\"colorscale\":[[0.0,\"#0d0887\"],[0.1111111111111111,\"#46039f\"],[0.2222222222222222,\"#7201a8\"],[0.3333333333333333,\"#9c179e\"],[0.4444444444444444,\"#bd3786\"],[0.5555555555555556,\"#d8576b\"],[0.6666666666666666,\"#ed7953\"],[0.7777777777777778,\"#fb9f3a\"],[0.8888888888888888,\"#fdca26\"],[1.0,\"#f0f921\"]],\"type\":\"contour\"}],\"contourcarpet\":[{\"colorbar\":{\"outlinewidth\":0,\"ticks\":\"\"},\"type\":\"contourcarpet\"}],\"heatmap\":[{\"colorbar\":{\"outlinewidth\":0,\"ticks\":\"\"},\"colorscale\":[[0.0,\"#0d0887\"],[0.1111111111111111,\"#46039f\"],[0.2222222222222222,\"#7201a8\"],[0.3333333333333333,\"#9c179e\"],[0.4444444444444444,\"#bd3786\"],[0.5555555555555556,\"#d8576b\"],[0.6666666666666666,\"#ed7953\"],[0.7777777777777778,\"#fb9f3a\"],[0.8888888888888888,\"#fdca26\"],[1.0,\"#f0f921\"]],\"type\":\"heatmap\"}],\"heatmapgl\":[{\"colorbar\":{\"outlinewidth\":0,\"ticks\":\"\"},\"colorscale\":[[0.0,\"#0d0887\"],[0.1111111111111111,\"#46039f\"],[0.2222222222222222,\"#7201a8\"],[0.3333333333333333,\"#9c179e\"],[0.4444444444444444,\"#bd3786\"],[0.5555555555555556,\"#d8576b\"],[0.6666666666666666,\"#ed7953\"],[0.7777777777777778,\"#fb9f3a\"],[0.8888888888888888,\"#fdca26\"],[1.0,\"#f0f921\"]],\"type\":\"heatmapgl\"}],\"histogram\":[{\"marker\":{\"pattern\":{\"fillmode\":\"overlay\",\"size\":10,\"solidity\":0.2}},\"type\":\"histogram\"}],\"histogram2d\":[{\"colorbar\":{\"outlinewidth\":0,\"ticks\":\"\"},\"colorscale\":[[0.0,\"#0d0887\"],[0.1111111111111111,\"#46039f\"],[0.2222222222222222,\"#7201a8\"],[0.3333333333333333,\"#9c179e\"],[0.4444444444444444,\"#bd3786\"],[0.5555555555555556,\"#d8576b\"],[0.6666666666666666,\"#ed7953\"],[0.7777777777777778,\"#fb9f3a\"],[0.8888888888888888,\"#fdca26\"],[1.0,\"#f0f921\"]],\"type\":\"histogram2d\"}],\"histogram2dcontour\":[{\"colorbar\":{\"outlinewidth\":0,\"ticks\":\"\"},\"colorscale\":[[0.0,\"#0d0887\"],[0.1111111111111111,\"#46039f\"],[0.2222222222222222,\"#7201a8\"],[0.3333333333333333,\"#9c179e\"],[0.4444444444444444,\"#bd3786\"],[0.5555555555555556,\"#d8576b\"],[0.6666666666666666,\"#ed7953\"],[0.7777777777777778,\"#fb9f3a\"],[0.8888888888888888,\"#fdca26\"],[1.0,\"#f0f921\"]],\"type\":\"histogram2dcontour\"}],\"mesh3d\":[{\"colorbar\":{\"outlinewidth\":0,\"ticks\":\"\"},\"type\":\"mesh3d\"}],\"parcoords\":[{\"line\":{\"colorbar\":{\"outlinewidth\":0,\"ticks\":\"\"}},\"type\":\"parcoords\"}],\"pie\":[{\"automargin\":true,\"type\":\"pie\"}],\"scatter\":[{\"marker\":{\"colorbar\":{\"outlinewidth\":0,\"ticks\":\"\"}},\"type\":\"scatter\"}],\"scatter3d\":[{\"line\":{\"colorbar\":{\"outlinewidth\":0,\"ticks\":\"\"}},\"marker\":{\"colorbar\":{\"outlinewidth\":0,\"ticks\":\"\"}},\"type\":\"scatter3d\"}],\"scattercarpet\":[{\"marker\":{\"colorbar\":{\"outlinewidth\":0,\"ticks\":\"\"}},\"type\":\"scattercarpet\"}],\"scattergeo\":[{\"marker\":{\"colorbar\":{\"outlinewidth\":0,\"ticks\":\"\"}},\"type\":\"scattergeo\"}],\"scattergl\":[{\"marker\":{\"colorbar\":{\"outlinewidth\":0,\"ticks\":\"\"}},\"type\":\"scattergl\"}],\"scattermapbox\":[{\"marker\":{\"colorbar\":{\"outlinewidth\":0,\"ticks\":\"\"}},\"type\":\"scattermapbox\"}],\"scatterpolar\":[{\"marker\":{\"colorbar\":{\"outlinewidth\":0,\"ticks\":\"\"}},\"type\":\"scatterpolar\"}],\"scatterpolargl\":[{\"marker\":{\"colorbar\":{\"outlinewidth\":0,\"ticks\":\"\"}},\"type\":\"scatterpolargl\"}],\"scatterternary\":[{\"marker\":{\"colorbar\":{\"outlinewidth\":0,\"ticks\":\"\"}},\"type\":\"scatterternary\"}],\"surface\":[{\"colorbar\":{\"outlinewidth\":0,\"ticks\":\"\"},\"colorscale\":[[0.0,\"#0d0887\"],[0.1111111111111111,\"#46039f\"],[0.2222222222222222,\"#7201a8\"],[0.3333333333333333,\"#9c179e\"],[0.4444444444444444,\"#bd3786\"],[0.5555555555555556,\"#d8576b\"],[0.6666666666666666,\"#ed7953\"],[0.7777777777777778,\"#fb9f3a\"],[0.8888888888888888,\"#fdca26\"],[1.0,\"#f0f921\"]],\"type\":\"surface\"}],\"table\":[{\"cells\":{\"fill\":{\"color\":\"#EBF0F8\"},\"line\":{\"color\":\"white\"}},\"header\":{\"fill\":{\"color\":\"#C8D4E3\"},\"line\":{\"color\":\"white\"}},\"type\":\"table\"}]},\"layout\":{\"annotationdefaults\":{\"arrowcolor\":\"#2a3f5f\",\"arrowhead\":0,\"arrowwidth\":1},\"autotypenumbers\":\"strict\",\"coloraxis\":{\"colorbar\":{\"outlinewidth\":0,\"ticks\":\"\"}},\"colorscale\":{\"diverging\":[[0,\"#8e0152\"],[0.1,\"#c51b7d\"],[0.2,\"#de77ae\"],[0.3,\"#f1b6da\"],[0.4,\"#fde0ef\"],[0.5,\"#f7f7f7\"],[0.6,\"#e6f5d0\"],[0.7,\"#b8e186\"],[0.8,\"#7fbc41\"],[0.9,\"#4d9221\"],[1,\"#276419\"]],\"sequential\":[[0.0,\"#0d0887\"],[0.1111111111111111,\"#46039f\"],[0.2222222222222222,\"#7201a8\"],[0.3333333333333333,\"#9c179e\"],[0.4444444444444444,\"#bd3786\"],[0.5555555555555556,\"#d8576b\"],[0.6666666666666666,\"#ed7953\"],[0.7777777777777778,\"#fb9f3a\"],[0.8888888888888888,\"#fdca26\"],[1.0,\"#f0f921\"]],\"sequentialminus\":[[0.0,\"#0d0887\"],[0.1111111111111111,\"#46039f\"],[0.2222222222222222,\"#7201a8\"],[0.3333333333333333,\"#9c179e\"],[0.4444444444444444,\"#bd3786\"],[0.5555555555555556,\"#d8576b\"],[0.6666666666666666,\"#ed7953\"],[0.7777777777777778,\"#fb9f3a\"],[0.8888888888888888,\"#fdca26\"],[1.0,\"#f0f921\"]]},\"colorway\":[\"#636efa\",\"#EF553B\",\"#00cc96\",\"#ab63fa\",\"#FFA15A\",\"#19d3f3\",\"#FF6692\",\"#B6E880\",\"#FF97FF\",\"#FECB52\"],\"font\":{\"color\":\"#2a3f5f\"},\"geo\":{\"bgcolor\":\"white\",\"lakecolor\":\"white\",\"landcolor\":\"#E5ECF6\",\"showlakes\":true,\"showland\":true,\"subunitcolor\":\"white\"},\"hoverlabel\":{\"align\":\"left\"},\"hovermode\":\"closest\",\"mapbox\":{\"style\":\"light\"},\"paper_bgcolor\":\"white\",\"plot_bgcolor\":\"#E5ECF6\",\"polar\":{\"angularaxis\":{\"gridcolor\":\"white\",\"linecolor\":\"white\",\"ticks\":\"\"},\"bgcolor\":\"#E5ECF6\",\"radialaxis\":{\"gridcolor\":\"white\",\"linecolor\":\"white\",\"ticks\":\"\"}},\"scene\":{\"xaxis\":{\"backgroundcolor\":\"#E5ECF6\",\"gridcolor\":\"white\",\"gridwidth\":2,\"linecolor\":\"white\",\"showbackground\":true,\"ticks\":\"\",\"zerolinecolor\":\"white\"},\"yaxis\":{\"backgroundcolor\":\"#E5ECF6\",\"gridcolor\":\"white\",\"gridwidth\":2,\"linecolor\":\"white\",\"showbackground\":true,\"ticks\":\"\",\"zerolinecolor\":\"white\"},\"zaxis\":{\"backgroundcolor\":\"#E5ECF6\",\"gridcolor\":\"white\",\"gridwidth\":2,\"linecolor\":\"white\",\"showbackground\":true,\"ticks\":\"\",\"zerolinecolor\":\"white\"}},\"shapedefaults\":{\"line\":{\"color\":\"#2a3f5f\"}},\"ternary\":{\"aaxis\":{\"gridcolor\":\"white\",\"linecolor\":\"white\",\"ticks\":\"\"},\"baxis\":{\"gridcolor\":\"white\",\"linecolor\":\"white\",\"ticks\":\"\"},\"bgcolor\":\"#E5ECF6\",\"caxis\":{\"gridcolor\":\"white\",\"linecolor\":\"white\",\"ticks\":\"\"}},\"title\":{\"x\":0.05},\"xaxis\":{\"automargin\":true,\"gridcolor\":\"white\",\"linecolor\":\"white\",\"ticks\":\"\",\"title\":{\"standoff\":15},\"zerolinecolor\":\"white\",\"zerolinewidth\":2},\"yaxis\":{\"automargin\":true,\"gridcolor\":\"white\",\"linecolor\":\"white\",\"ticks\":\"\",\"title\":{\"standoff\":15},\"zerolinecolor\":\"white\",\"zerolinewidth\":2}}},\"xaxis\":{\"anchor\":\"y\",\"domain\":[0.0,1.0],\"title\":{\"text\":\"C\"}},\"yaxis\":{\"anchor\":\"x\",\"domain\":[0.0,1.0],\"title\":{\"text\":\"time\"}},\"legend\":{\"tracegroupgap\":0},\"margin\":{\"t\":60}},                        {\"responsive\": true}                    ).then(function(){\n",
       "                            \n",
       "var gd = document.getElementById('c1be459d-17db-4f5e-bfe5-39d96fb3c36a');\n",
       "var x = new MutationObserver(function (mutations, observer) {{\n",
       "        var display = window.getComputedStyle(gd).display;\n",
       "        if (!display || display === 'none') {{\n",
       "            console.log([gd, 'removed!']);\n",
       "            Plotly.purge(gd);\n",
       "            observer.disconnect();\n",
       "        }}\n",
       "}});\n",
       "\n",
       "// Listen for the removal of the full notebook cells\n",
       "var notebookContainer = gd.closest('#notebook-container');\n",
       "if (notebookContainer) {{\n",
       "    x.observe(notebookContainer, {childList: true});\n",
       "}}\n",
       "\n",
       "// Listen for the clearing of the current output cell\n",
       "var outputEl = gd.closest('.output');\n",
       "if (outputEl) {{\n",
       "    x.observe(outputEl, {childList: true});\n",
       "}}\n",
       "\n",
       "                        })                };                });            </script>        </div>"
      ]
     },
     "metadata": {},
     "output_type": "display_data"
    },
    {
     "name": "stdout",
     "output_type": "stream",
     "text": [
      "                            OLS Regression Results                            \n",
      "==============================================================================\n",
      "Dep. Variable:                      y   R-squared:                       0.352\n",
      "Model:                            OLS   Adj. R-squared:                  0.343\n",
      "Method:                 Least Squares   F-statistic:                     40.68\n",
      "Date:                Wed, 24 Nov 2021   Prob (F-statistic):           1.32e-08\n",
      "Time:                        16:10:36   Log-Likelihood:                -5.9267\n",
      "No. Observations:                  77   AIC:                             15.85\n",
      "Df Residuals:                      75   BIC:                             20.54\n",
      "Df Model:                           1                                         \n",
      "Covariance Type:            nonrobust                                         \n",
      "==============================================================================\n",
      "                 coef    std err          t      P>|t|      [0.025      0.975]\n",
      "------------------------------------------------------------------------------\n",
      "const          1.4491      0.063     23.150      0.000       1.324       1.574\n",
      "x1             0.0045      0.001      6.378      0.000       0.003       0.006\n",
      "==============================================================================\n",
      "Omnibus:                        3.388   Durbin-Watson:                   2.297\n",
      "Prob(Omnibus):                  0.184   Jarque-Bera (JB):                2.828\n",
      "Skew:                          -0.357   Prob(JB):                        0.243\n",
      "Kurtosis:                       2.391   Cond. No.                         186.\n",
      "==============================================================================\n",
      "\n",
      "Notes:\n",
      "[1] Standard Errors assume that the covariance matrix of the errors is correctly specified.\n"
     ]
    }
   ],
   "source": [
    "fig = px.scatter(unified_df, x=\"C\", y=\"time\", log_x=False,log_y=False,trendline=\"ols\", trendline_options=dict(log_x=False,log_y=True))\n",
    "fig.show()\n",
    "results = px.get_trendline_results(fig)\n",
    "results = results.iloc[0][\"px_fit_results\"].summary()\n",
    "print(results)"
   ]
  },
  {
   "cell_type": "code",
   "execution_count": 32,
   "id": "6300bdd9",
   "metadata": {},
   "outputs": [
    {
     "data": {
      "application/vnd.plotly.v1+json": {
       "config": {
        "plotlyServerURL": "https://plot.ly"
       },
       "data": [
        {
         "hovertemplate": "time/C=%{x}<br>normalized_cost=%{y}<extra></extra>",
         "legendgroup": "",
         "marker": {
          "color": "#636efa",
          "symbol": "circle"
         },
         "mode": "markers",
         "name": "",
         "orientation": "v",
         "showlegend": false,
         "type": "scatter",
         "x": [
          3.9622641501957987,
          1.2452830186329653,
          2.6603773579886076,
          0.7924528300391598,
          null,
          null,
          null,
          4.18234045221584,
          1.9303109779457723,
          null,
          null,
          null,
          null,
          2.156250000336914,
          0.7968750001245117,
          null,
          null,
          null,
          null,
          3.0271747151907213,
          1.340605945298748,
          2.378494419078424,
          1.1676245330021353,
          null,
          null,
          null,
          0.8922721743537423,
          3.569088697414969,
          0.4957067635298569,
          2.9742405811791413,
          1.1236019973343423,
          null,
          null,
          null,
          null,
          1.437070285047841,
          null,
          null,
          null,
          0.857915990198121,
          null,
          0.2949086216306041,
          0.5898172432612082,
          null,
          null,
          0.9930242500982845,
          1.5531917757947526,
          1.2731080129465187,
          null,
          null,
          null,
          null,
          1.5970570420667005,
          0.5648128563406624,
          1.1880546288544966,
          2.3176803415358216,
          0.7595759102512356,
          null,
          null,
          null,
          null,
          null,
          0.24352003959758728,
          null,
          null,
          0.8494705596681743,
          0.5128878850826712,
          1.0257757701653425,
          0.36863816740316996,
          1.6027746408833476,
          null,
          null,
          null,
          null,
          0.8657784262959817,
          null,
          null,
          null,
          0.9688236027556569,
          0.2608371238188307,
          1.1799774648947103,
          null,
          null,
          null,
          null,
          null,
          0.913485772518835,
          0.5724510841118032,
          1.3032397021268713,
          null,
          null,
          1.399545816903417,
          0.5183503025568211,
          1.6172529439772818,
          1.8245930650000104,
          null,
          null,
          null,
          1.8203796820715434,
          0.2715483503642634,
          null,
          null,
          null,
          null,
          0.9970293421019432,
          0.3788711499987384,
          1.894355749993692,
          0.8075937671025739,
          null,
          null,
          null,
          1.862378870185569,
          0.5269169486378683,
          null,
          null,
          null,
          null,
          0.5334508788788603,
          0.5334508788788603,
          0.19559865558891545,
          0.7112678385051471,
          null,
          1.8960957327289933,
          0.6205404216203978,
          null,
          null,
          null,
          1.4378270168605174,
          1.1009646871960534,
          null,
          null,
          1.2782207984546823,
          null,
          1.8202511370398955,
          0.8009105002975541,
          null,
          0.3620925949547403,
          1.0939818826292154,
          null,
          null,
          null,
          1.1347509515221479,
          null,
          null,
          null,
          0.9645290147094475,
          null,
          1.0011424401085969,
          0.9868404052499026,
          null,
          null,
          null,
          null,
          0.44542263497204637,
          0.45249283552715824,
          null,
          null,
          null,
          0.6695562972821172,
          null,
          null,
          1.1321666759286693,
          null,
          null,
          null,
          null,
          1.1362792096353374,
          0.4570508552723145,
          null
         ],
         "xaxis": "x",
         "y": [
          1.0000000001980642,
          1.0000000001980642,
          1.000000000198064,
          1.0000000001980642,
          1.0000000001980642,
          1.0000000001980642,
          1.1602708938854576,
          1.0042476391690263,
          1.0000000000387892,
          1.0042476391690263,
          1.0000000000387892,
          1.0000000000387892,
          1.0042476391690263,
          1.0000000002147822,
          1.0000000002147822,
          1.0000000002147822,
          1.0368213543898468,
          1.0000000002147822,
          1.0962165095466996,
          1.0002107305708343,
          1.1177042042034724,
          1.000000000072706,
          1.0002107305708343,
          1.0002107305708343,
          1.000000000072706,
          1.1177042042034724,
          1.1315746077145026,
          1.0943630374697684,
          1.0000000001674019,
          1.0171479108799064,
          1.0000000001674019,
          1.0000000001674019,
          1.0000000001674019,
          1.0000000001674019,
          1.0000000001674019,
          0.9999999998141449,
          1.0596807081432698,
          0.9999999998141449,
          0.9999999998141449,
          1.000000000062528,
          1.6499946205509133,
          1.000000000062528,
          1.000000000062528,
          1.000000000062528,
          1.000000000062528,
          1.0011810034747957,
          1.0011810034747957,
          1.0011810034747957,
          1.0011810034747957,
          1.0011810034747957,
          1.0310499550876568,
          1.0264546843012865,
          1.040354694892687,
          1.028351952089004,
          1.0331396147831113,
          1.0702778802268158,
          1.0984120516916454,
          1.010230988269433,
          1.010230988269433,
          1.0000000000007758,
          1.040354694892687,
          1.040354694892687,
          1.0658054347000017,
          1.0000000000317284,
          1.0658054347000017,
          1.0390328327488298,
          1.1601580131960485,
          1.0433779902563776,
          0.9999999999054489,
          1.0433779902563776,
          0.9999999999054489,
          0.9999999999054489,
          1.0592567690957808,
          0.9999999999054486,
          1.1021998780447242,
          1.0097314228118208,
          1.0721789930182446,
          1.0240333058952205,
          1.0022466963986014,
          1.1043589607135782,
          1.1810474574894212,
          0.9999999998967688,
          1.096850126674182,
          0.9999999998967688,
          1.1302219592502964,
          1.2327627993467891,
          1.1364096917823199,
          1.0460082134760689,
          1.0324740378997697,
          1.0287665287827599,
          0.9999999999971405,
          1.0218113060718181,
          1.02810875856699,
          1.039413106373755,
          1.2011668406260174,
          1.0486100048723785,
          1.0221888894842213,
          1.0486100048723785,
          1.102068841106972,
          1.1069035576163657,
          1.0000000000453277,
          1.0959302038572103,
          1.0469184173442523,
          1.0480053948830643,
          0.9999999999784297,
          1.0195875813357078,
          1.1694343434614172,
          1.100157526161406,
          1.0365587140706964,
          0.9999999999784297,
          1.0638448568907013,
          1.1597725589508971,
          1.0456164752842985,
          1.0335161593930535,
          1.0280403660150026,
          1.0801959363001048,
          1.0775292839008406,
          1.4955041293856959,
          1.074053716856739,
          1.0164048834170814,
          1.0000000000599472,
          1.0164048834170814,
          1.0551977016221066,
          1.5824675269223183,
          1.0199718359379353,
          1.0537118859942056,
          1.0913761198161187,
          1.052353274595269,
          1.3645147911149327,
          1.0565751407548158,
          1.0563733326593454,
          1.513718780200362,
          3.447682602969604,
          1.1019321528309296,
          1.3982065330538518,
          1.2210656481457236,
          1.4784246719871756,
          1.0875985228673426,
          1.076962108984252,
          1.1206312296192424,
          1.035009733799234,
          1.0415589016556537,
          0.9999999998971109,
          1.093446442727643,
          1.0638041261779974,
          1.0516871153378962,
          1.041446520722271,
          1.4720736186515386,
          1.2149922032154934,
          0.9999999999969608,
          1.0750982227589494,
          0.9999999999969608,
          1.0415570492434025,
          1.016827109137665,
          1.0963606431315722,
          1.2368808607712212,
          1.0460117572249494,
          1.003640635354432,
          1.7413097347388664,
          1.0320406667704431,
          1.0942580361956793,
          1.215726458437335,
          1.1265637278237466,
          1.0448453785936527,
          1.0623492862854838,
          1.0593334780915995,
          1.0752735500109576,
          1.675264462646475,
          1.0259728522163154
         ],
         "yaxis": "y"
        },
        {
         "hovertemplate": "<b>OLS trendline</b><br>normalized_cost = -0.0439633 * time/C + 1.16261<br>R<sup>2</sup>=0.048231<br><br>time/C=%{x}<br>normalized_cost=%{y} <b>(trend)</b><extra></extra>",
         "legendgroup": "",
         "marker": {
          "color": "#636efa",
          "symbol": "circle"
         },
         "mode": "lines",
         "name": "",
         "showlegend": false,
         "type": "scatter",
         "x": [
          0.19559865558891545,
          0.24352003959758728,
          0.2608371238188307,
          0.2715483503642634,
          0.2949086216306041,
          0.3620925949547403,
          0.36863816740316996,
          0.3788711499987384,
          0.44542263497204637,
          0.45249283552715824,
          0.4570508552723145,
          0.4957067635298569,
          0.5128878850826712,
          0.5183503025568211,
          0.5269169486378683,
          0.5334508788788603,
          0.5334508788788603,
          0.5648128563406624,
          0.5724510841118032,
          0.5898172432612082,
          0.6205404216203978,
          0.6695562972821172,
          0.7112678385051471,
          0.7595759102512356,
          0.7924528300391598,
          0.7968750001245117,
          0.8009105002975541,
          0.8075937671025739,
          0.8494705596681743,
          0.857915990198121,
          0.8657784262959817,
          0.8922721743537423,
          0.913485772518835,
          0.9645290147094475,
          0.9688236027556569,
          0.9868404052499026,
          0.9930242500982845,
          0.9970293421019432,
          1.0011424401085969,
          1.0257757701653425,
          1.0939818826292154,
          1.1009646871960534,
          1.1236019973343423,
          1.1321666759286693,
          1.1347509515221479,
          1.1362792096353374,
          1.1676245330021353,
          1.1799774648947103,
          1.1880546288544966,
          1.2452830186329653,
          1.2731080129465187,
          1.2782207984546823,
          1.3032397021268713,
          1.340605945298748,
          1.399545816903417,
          1.437070285047841,
          1.4378270168605174,
          1.5531917757947526,
          1.5970570420667005,
          1.6027746408833476,
          1.6172529439772818,
          1.8202511370398955,
          1.8203796820715434,
          1.8245930650000104,
          1.862378870185569,
          1.894355749993692,
          1.8960957327289933,
          1.9303109779457723,
          2.156250000336914,
          2.3176803415358216,
          2.378494419078424,
          2.6603773579886076,
          2.9742405811791413,
          3.0271747151907213,
          3.569088697414969,
          3.9622641501957987,
          4.18234045221584
         ],
         "xaxis": "x",
         "y": [
          1.1540097265092053,
          1.1519029465061357,
          1.1511416311246312,
          1.1506707307455815,
          1.149643737193782,
          1.1466901110735424,
          1.146402346405884,
          1.1459524711873341,
          1.1430266513134553,
          1.142715822286804,
          1.1425154369045505,
          1.1408159973703595,
          1.1400606593502551,
          1.1398205137004367,
          1.1394438960582238,
          1.1391566432198943,
          1.1391566432198943,
          1.1377778686218716,
          1.1374420672701364,
          1.1366785943950737,
          1.1353279034845989,
          1.133173006066395,
          1.1313392309623622,
          1.1292154509078651,
          1.127770074514746,
          1.1275756615256658,
          1.1273982478043632,
          1.1271044296446573,
          1.125263389553788,
          1.1248921009417023,
          1.1245464426622298,
          1.1233816912726549,
          1.1224490724568192,
          1.12020504540786,
          1.1200162413404413,
          1.1192241640663945,
          1.1189523021212908,
          1.118776225242079,
          1.1185954000674656,
          1.1175124387080198,
          1.1145138760246047,
          1.1142068892100316,
          1.113211679382327,
          1.1128351482372336,
          1.1127215350715167,
          1.1126543478710842,
          1.1112763054412793,
          1.110733230352174,
          1.1103781319370507,
          1.1078621856703208,
          1.1066389083627475,
          1.106414133672045,
          1.1053142212415994,
          1.1036714795818405,
          1.1010802910039452,
          1.099430593259444,
          1.0993973248661448,
          1.094325514604204,
          1.0923970547376372,
          1.0921456904855047,
          1.0915091771612828,
          1.0825847159285649,
          1.0825790646706188,
          1.0823938306444612,
          1.0807326436730997,
          1.0793268359667088,
          1.079250340662822,
          1.0777461271282172,
          1.0678131123763768,
          1.060716109195813,
          1.0580425244252085,
          1.0456500330314917,
          1.031851584259705,
          1.0295244274523134,
          1.0057001251131477,
          0.9884148526037688,
          0.9787395821198983
         ],
         "yaxis": "y"
        }
       ],
       "layout": {
        "autosize": true,
        "legend": {
         "tracegroupgap": 0
        },
        "margin": {
         "t": 60
        },
        "template": {
         "data": {
          "bar": [
           {
            "error_x": {
             "color": "#2a3f5f"
            },
            "error_y": {
             "color": "#2a3f5f"
            },
            "marker": {
             "line": {
              "color": "#E5ECF6",
              "width": 0.5
             },
             "pattern": {
              "fillmode": "overlay",
              "size": 10,
              "solidity": 0.2
             }
            },
            "type": "bar"
           }
          ],
          "barpolar": [
           {
            "marker": {
             "line": {
              "color": "#E5ECF6",
              "width": 0.5
             },
             "pattern": {
              "fillmode": "overlay",
              "size": 10,
              "solidity": 0.2
             }
            },
            "type": "barpolar"
           }
          ],
          "carpet": [
           {
            "aaxis": {
             "endlinecolor": "#2a3f5f",
             "gridcolor": "white",
             "linecolor": "white",
             "minorgridcolor": "white",
             "startlinecolor": "#2a3f5f"
            },
            "baxis": {
             "endlinecolor": "#2a3f5f",
             "gridcolor": "white",
             "linecolor": "white",
             "minorgridcolor": "white",
             "startlinecolor": "#2a3f5f"
            },
            "type": "carpet"
           }
          ],
          "choropleth": [
           {
            "colorbar": {
             "outlinewidth": 0,
             "ticks": ""
            },
            "type": "choropleth"
           }
          ],
          "contour": [
           {
            "colorbar": {
             "outlinewidth": 0,
             "ticks": ""
            },
            "colorscale": [
             [
              0,
              "#0d0887"
             ],
             [
              0.1111111111111111,
              "#46039f"
             ],
             [
              0.2222222222222222,
              "#7201a8"
             ],
             [
              0.3333333333333333,
              "#9c179e"
             ],
             [
              0.4444444444444444,
              "#bd3786"
             ],
             [
              0.5555555555555556,
              "#d8576b"
             ],
             [
              0.6666666666666666,
              "#ed7953"
             ],
             [
              0.7777777777777778,
              "#fb9f3a"
             ],
             [
              0.8888888888888888,
              "#fdca26"
             ],
             [
              1,
              "#f0f921"
             ]
            ],
            "type": "contour"
           }
          ],
          "contourcarpet": [
           {
            "colorbar": {
             "outlinewidth": 0,
             "ticks": ""
            },
            "type": "contourcarpet"
           }
          ],
          "heatmap": [
           {
            "colorbar": {
             "outlinewidth": 0,
             "ticks": ""
            },
            "colorscale": [
             [
              0,
              "#0d0887"
             ],
             [
              0.1111111111111111,
              "#46039f"
             ],
             [
              0.2222222222222222,
              "#7201a8"
             ],
             [
              0.3333333333333333,
              "#9c179e"
             ],
             [
              0.4444444444444444,
              "#bd3786"
             ],
             [
              0.5555555555555556,
              "#d8576b"
             ],
             [
              0.6666666666666666,
              "#ed7953"
             ],
             [
              0.7777777777777778,
              "#fb9f3a"
             ],
             [
              0.8888888888888888,
              "#fdca26"
             ],
             [
              1,
              "#f0f921"
             ]
            ],
            "type": "heatmap"
           }
          ],
          "heatmapgl": [
           {
            "colorbar": {
             "outlinewidth": 0,
             "ticks": ""
            },
            "colorscale": [
             [
              0,
              "#0d0887"
             ],
             [
              0.1111111111111111,
              "#46039f"
             ],
             [
              0.2222222222222222,
              "#7201a8"
             ],
             [
              0.3333333333333333,
              "#9c179e"
             ],
             [
              0.4444444444444444,
              "#bd3786"
             ],
             [
              0.5555555555555556,
              "#d8576b"
             ],
             [
              0.6666666666666666,
              "#ed7953"
             ],
             [
              0.7777777777777778,
              "#fb9f3a"
             ],
             [
              0.8888888888888888,
              "#fdca26"
             ],
             [
              1,
              "#f0f921"
             ]
            ],
            "type": "heatmapgl"
           }
          ],
          "histogram": [
           {
            "marker": {
             "pattern": {
              "fillmode": "overlay",
              "size": 10,
              "solidity": 0.2
             }
            },
            "type": "histogram"
           }
          ],
          "histogram2d": [
           {
            "colorbar": {
             "outlinewidth": 0,
             "ticks": ""
            },
            "colorscale": [
             [
              0,
              "#0d0887"
             ],
             [
              0.1111111111111111,
              "#46039f"
             ],
             [
              0.2222222222222222,
              "#7201a8"
             ],
             [
              0.3333333333333333,
              "#9c179e"
             ],
             [
              0.4444444444444444,
              "#bd3786"
             ],
             [
              0.5555555555555556,
              "#d8576b"
             ],
             [
              0.6666666666666666,
              "#ed7953"
             ],
             [
              0.7777777777777778,
              "#fb9f3a"
             ],
             [
              0.8888888888888888,
              "#fdca26"
             ],
             [
              1,
              "#f0f921"
             ]
            ],
            "type": "histogram2d"
           }
          ],
          "histogram2dcontour": [
           {
            "colorbar": {
             "outlinewidth": 0,
             "ticks": ""
            },
            "colorscale": [
             [
              0,
              "#0d0887"
             ],
             [
              0.1111111111111111,
              "#46039f"
             ],
             [
              0.2222222222222222,
              "#7201a8"
             ],
             [
              0.3333333333333333,
              "#9c179e"
             ],
             [
              0.4444444444444444,
              "#bd3786"
             ],
             [
              0.5555555555555556,
              "#d8576b"
             ],
             [
              0.6666666666666666,
              "#ed7953"
             ],
             [
              0.7777777777777778,
              "#fb9f3a"
             ],
             [
              0.8888888888888888,
              "#fdca26"
             ],
             [
              1,
              "#f0f921"
             ]
            ],
            "type": "histogram2dcontour"
           }
          ],
          "mesh3d": [
           {
            "colorbar": {
             "outlinewidth": 0,
             "ticks": ""
            },
            "type": "mesh3d"
           }
          ],
          "parcoords": [
           {
            "line": {
             "colorbar": {
              "outlinewidth": 0,
              "ticks": ""
             }
            },
            "type": "parcoords"
           }
          ],
          "pie": [
           {
            "automargin": true,
            "type": "pie"
           }
          ],
          "scatter": [
           {
            "marker": {
             "colorbar": {
              "outlinewidth": 0,
              "ticks": ""
             }
            },
            "type": "scatter"
           }
          ],
          "scatter3d": [
           {
            "line": {
             "colorbar": {
              "outlinewidth": 0,
              "ticks": ""
             }
            },
            "marker": {
             "colorbar": {
              "outlinewidth": 0,
              "ticks": ""
             }
            },
            "type": "scatter3d"
           }
          ],
          "scattercarpet": [
           {
            "marker": {
             "colorbar": {
              "outlinewidth": 0,
              "ticks": ""
             }
            },
            "type": "scattercarpet"
           }
          ],
          "scattergeo": [
           {
            "marker": {
             "colorbar": {
              "outlinewidth": 0,
              "ticks": ""
             }
            },
            "type": "scattergeo"
           }
          ],
          "scattergl": [
           {
            "marker": {
             "colorbar": {
              "outlinewidth": 0,
              "ticks": ""
             }
            },
            "type": "scattergl"
           }
          ],
          "scattermapbox": [
           {
            "marker": {
             "colorbar": {
              "outlinewidth": 0,
              "ticks": ""
             }
            },
            "type": "scattermapbox"
           }
          ],
          "scatterpolar": [
           {
            "marker": {
             "colorbar": {
              "outlinewidth": 0,
              "ticks": ""
             }
            },
            "type": "scatterpolar"
           }
          ],
          "scatterpolargl": [
           {
            "marker": {
             "colorbar": {
              "outlinewidth": 0,
              "ticks": ""
             }
            },
            "type": "scatterpolargl"
           }
          ],
          "scatterternary": [
           {
            "marker": {
             "colorbar": {
              "outlinewidth": 0,
              "ticks": ""
             }
            },
            "type": "scatterternary"
           }
          ],
          "surface": [
           {
            "colorbar": {
             "outlinewidth": 0,
             "ticks": ""
            },
            "colorscale": [
             [
              0,
              "#0d0887"
             ],
             [
              0.1111111111111111,
              "#46039f"
             ],
             [
              0.2222222222222222,
              "#7201a8"
             ],
             [
              0.3333333333333333,
              "#9c179e"
             ],
             [
              0.4444444444444444,
              "#bd3786"
             ],
             [
              0.5555555555555556,
              "#d8576b"
             ],
             [
              0.6666666666666666,
              "#ed7953"
             ],
             [
              0.7777777777777778,
              "#fb9f3a"
             ],
             [
              0.8888888888888888,
              "#fdca26"
             ],
             [
              1,
              "#f0f921"
             ]
            ],
            "type": "surface"
           }
          ],
          "table": [
           {
            "cells": {
             "fill": {
              "color": "#EBF0F8"
             },
             "line": {
              "color": "white"
             }
            },
            "header": {
             "fill": {
              "color": "#C8D4E3"
             },
             "line": {
              "color": "white"
             }
            },
            "type": "table"
           }
          ]
         },
         "layout": {
          "annotationdefaults": {
           "arrowcolor": "#2a3f5f",
           "arrowhead": 0,
           "arrowwidth": 1
          },
          "autotypenumbers": "strict",
          "coloraxis": {
           "colorbar": {
            "outlinewidth": 0,
            "ticks": ""
           }
          },
          "colorscale": {
           "diverging": [
            [
             0,
             "#8e0152"
            ],
            [
             0.1,
             "#c51b7d"
            ],
            [
             0.2,
             "#de77ae"
            ],
            [
             0.3,
             "#f1b6da"
            ],
            [
             0.4,
             "#fde0ef"
            ],
            [
             0.5,
             "#f7f7f7"
            ],
            [
             0.6,
             "#e6f5d0"
            ],
            [
             0.7,
             "#b8e186"
            ],
            [
             0.8,
             "#7fbc41"
            ],
            [
             0.9,
             "#4d9221"
            ],
            [
             1,
             "#276419"
            ]
           ],
           "sequential": [
            [
             0,
             "#0d0887"
            ],
            [
             0.1111111111111111,
             "#46039f"
            ],
            [
             0.2222222222222222,
             "#7201a8"
            ],
            [
             0.3333333333333333,
             "#9c179e"
            ],
            [
             0.4444444444444444,
             "#bd3786"
            ],
            [
             0.5555555555555556,
             "#d8576b"
            ],
            [
             0.6666666666666666,
             "#ed7953"
            ],
            [
             0.7777777777777778,
             "#fb9f3a"
            ],
            [
             0.8888888888888888,
             "#fdca26"
            ],
            [
             1,
             "#f0f921"
            ]
           ],
           "sequentialminus": [
            [
             0,
             "#0d0887"
            ],
            [
             0.1111111111111111,
             "#46039f"
            ],
            [
             0.2222222222222222,
             "#7201a8"
            ],
            [
             0.3333333333333333,
             "#9c179e"
            ],
            [
             0.4444444444444444,
             "#bd3786"
            ],
            [
             0.5555555555555556,
             "#d8576b"
            ],
            [
             0.6666666666666666,
             "#ed7953"
            ],
            [
             0.7777777777777778,
             "#fb9f3a"
            ],
            [
             0.8888888888888888,
             "#fdca26"
            ],
            [
             1,
             "#f0f921"
            ]
           ]
          },
          "colorway": [
           "#636efa",
           "#EF553B",
           "#00cc96",
           "#ab63fa",
           "#FFA15A",
           "#19d3f3",
           "#FF6692",
           "#B6E880",
           "#FF97FF",
           "#FECB52"
          ],
          "font": {
           "color": "#2a3f5f"
          },
          "geo": {
           "bgcolor": "white",
           "lakecolor": "white",
           "landcolor": "#E5ECF6",
           "showlakes": true,
           "showland": true,
           "subunitcolor": "white"
          },
          "hoverlabel": {
           "align": "left"
          },
          "hovermode": "closest",
          "mapbox": {
           "style": "light"
          },
          "paper_bgcolor": "white",
          "plot_bgcolor": "#E5ECF6",
          "polar": {
           "angularaxis": {
            "gridcolor": "white",
            "linecolor": "white",
            "ticks": ""
           },
           "bgcolor": "#E5ECF6",
           "radialaxis": {
            "gridcolor": "white",
            "linecolor": "white",
            "ticks": ""
           }
          },
          "scene": {
           "xaxis": {
            "backgroundcolor": "#E5ECF6",
            "gridcolor": "white",
            "gridwidth": 2,
            "linecolor": "white",
            "showbackground": true,
            "ticks": "",
            "zerolinecolor": "white"
           },
           "yaxis": {
            "backgroundcolor": "#E5ECF6",
            "gridcolor": "white",
            "gridwidth": 2,
            "linecolor": "white",
            "showbackground": true,
            "ticks": "",
            "zerolinecolor": "white"
           },
           "zaxis": {
            "backgroundcolor": "#E5ECF6",
            "gridcolor": "white",
            "gridwidth": 2,
            "linecolor": "white",
            "showbackground": true,
            "ticks": "",
            "zerolinecolor": "white"
           }
          },
          "shapedefaults": {
           "line": {
            "color": "#2a3f5f"
           }
          },
          "ternary": {
           "aaxis": {
            "gridcolor": "white",
            "linecolor": "white",
            "ticks": ""
           },
           "baxis": {
            "gridcolor": "white",
            "linecolor": "white",
            "ticks": ""
           },
           "bgcolor": "#E5ECF6",
           "caxis": {
            "gridcolor": "white",
            "linecolor": "white",
            "ticks": ""
           }
          },
          "title": {
           "x": 0.05
          },
          "xaxis": {
           "automargin": true,
           "gridcolor": "white",
           "linecolor": "white",
           "ticks": "",
           "title": {
            "standoff": 15
           },
           "zerolinecolor": "white",
           "zerolinewidth": 2
          },
          "yaxis": {
           "automargin": true,
           "gridcolor": "white",
           "linecolor": "white",
           "ticks": "",
           "title": {
            "standoff": 15
           },
           "zerolinecolor": "white",
           "zerolinewidth": 2
          }
         }
        },
        "xaxis": {
         "anchor": "y",
         "autorange": false,
         "domain": [
          0,
          1
         ],
         "range": [
          -0.041572952709003574,
          4.3178670855289365
         ],
         "title": {
          "text": "time/C"
         },
         "type": "linear"
        },
        "yaxis": {
         "anchor": "x",
         "autorange": false,
         "domain": [
          0,
          1
         ],
         "range": [
          0.8104812680737615,
          1.9668667498794905
         ],
         "title": {
          "text": "normalized_cost"
         },
         "type": "linear"
        }
       }
      },
      "image/png": "[encoded data removed]",
      "text/html": [
       "<div>                            <div id=\"d00b6053-7647-4660-a88d-7c135dcfc52b\" class=\"plotly-graph-div\" style=\"height:525px; width:100%;\"></div>            <script type=\"text/javascript\">                require([\"plotly\"], function(Plotly) {                    window.PLOTLYENV=window.PLOTLYENV || {};                                    if (document.getElementById(\"d00b6053-7647-4660-a88d-7c135dcfc52b\")) {                    Plotly.newPlot(                        \"d00b6053-7647-4660-a88d-7c135dcfc52b\",                        [{\"hovertemplate\":\"time/C=%{x}<br>normalized_cost=%{y}<extra></extra>\",\"legendgroup\":\"\",\"marker\":{\"color\":\"#636efa\",\"symbol\":\"circle\"},\"mode\":\"markers\",\"name\":\"\",\"orientation\":\"v\",\"showlegend\":false,\"x\":[3.9622641501957987,1.2452830186329653,2.6603773579886076,0.7924528300391598,null,null,null,4.18234045221584,1.9303109779457723,null,null,null,null,2.156250000336914,0.7968750001245117,null,null,null,null,3.0271747151907213,1.340605945298748,2.378494419078424,1.1676245330021353,null,null,null,0.8922721743537423,3.569088697414969,0.4957067635298569,2.9742405811791413,1.1236019973343423,null,null,null,null,1.437070285047841,null,null,null,0.857915990198121,null,0.2949086216306041,0.5898172432612082,null,null,0.9930242500982845,1.5531917757947526,1.2731080129465187,null,null,null,null,1.5970570420667005,0.5648128563406624,1.1880546288544966,2.3176803415358216,0.7595759102512356,null,null,null,null,null,0.24352003959758728,null,null,0.8494705596681743,0.5128878850826712,1.0257757701653425,0.36863816740316996,1.6027746408833476,null,null,null,null,0.8657784262959817,null,null,null,0.9688236027556569,0.2608371238188307,1.1799774648947103,null,null,null,null,null,0.913485772518835,0.5724510841118032,1.3032397021268713,null,null,1.399545816903417,0.5183503025568211,1.6172529439772818,1.8245930650000104,null,null,null,1.8203796820715434,0.2715483503642634,null,null,null,null,0.9970293421019432,0.3788711499987384,1.894355749993692,0.8075937671025739,null,null,null,1.862378870185569,0.5269169486378683,null,null,null,null,0.5334508788788603,0.5334508788788603,0.19559865558891545,0.7112678385051471,null,1.8960957327289933,0.6205404216203978,null,null,null,1.4378270168605174,1.1009646871960534,null,null,1.2782207984546823,null,1.8202511370398955,0.8009105002975541,null,0.3620925949547403,1.0939818826292154,null,null,null,1.1347509515221479,null,null,null,0.9645290147094475,null,1.0011424401085969,0.9868404052499026,null,null,null,null,0.44542263497204637,0.45249283552715824,null,null,null,0.6695562972821172,null,null,1.1321666759286693,null,null,null,null,1.1362792096353374,0.4570508552723145,null],\"xaxis\":\"x\",\"y\":[1.0000000001980642,1.0000000001980642,1.000000000198064,1.0000000001980642,1.0000000001980642,1.0000000001980642,1.1602708938854576,1.0042476391690263,1.0000000000387892,1.0042476391690263,1.0000000000387892,1.0000000000387892,1.0042476391690263,1.0000000002147822,1.0000000002147822,1.0000000002147822,1.0368213543898468,1.0000000002147822,1.0962165095466996,1.0002107305708343,1.1177042042034724,1.000000000072706,1.0002107305708343,1.0002107305708343,1.000000000072706,1.1177042042034724,1.1315746077145026,1.0943630374697684,1.0000000001674019,1.0171479108799064,1.0000000001674019,1.0000000001674019,1.0000000001674019,1.0000000001674019,1.0000000001674019,0.9999999998141449,1.0596807081432698,0.9999999998141449,0.9999999998141449,1.000000000062528,1.6499946205509133,1.000000000062528,1.000000000062528,1.000000000062528,1.000000000062528,1.0011810034747957,1.0011810034747957,1.0011810034747957,1.0011810034747957,1.0011810034747957,1.0310499550876568,1.0264546843012865,1.040354694892687,1.028351952089004,1.0331396147831113,1.0702778802268158,1.0984120516916454,1.010230988269433,1.010230988269433,1.0000000000007758,1.040354694892687,1.040354694892687,1.0658054347000017,1.0000000000317284,1.0658054347000017,1.0390328327488298,1.1601580131960485,1.0433779902563776,0.9999999999054489,1.0433779902563776,0.9999999999054489,0.9999999999054489,1.0592567690957808,0.9999999999054486,1.1021998780447242,1.0097314228118208,1.0721789930182446,1.0240333058952205,1.0022466963986014,1.1043589607135782,1.1810474574894212,0.9999999998967688,1.096850126674182,0.9999999998967688,1.1302219592502964,1.2327627993467891,1.1364096917823199,1.0460082134760689,1.0324740378997697,1.0287665287827599,0.9999999999971405,1.0218113060718181,1.02810875856699,1.039413106373755,1.2011668406260174,1.0486100048723785,1.0221888894842213,1.0486100048723785,1.102068841106972,1.1069035576163657,1.0000000000453277,1.0959302038572103,1.0469184173442523,1.0480053948830643,0.9999999999784297,1.0195875813357078,1.1694343434614172,1.100157526161406,1.0365587140706964,0.9999999999784297,1.0638448568907013,1.1597725589508971,1.0456164752842985,1.0335161593930535,1.0280403660150026,1.0801959363001048,1.0775292839008406,1.4955041293856959,1.074053716856739,1.0164048834170814,1.0000000000599472,1.0164048834170814,1.0551977016221066,1.5824675269223183,1.0199718359379353,1.0537118859942056,1.0913761198161187,1.052353274595269,1.3645147911149327,1.0565751407548158,1.0563733326593454,1.513718780200362,3.447682602969604,1.1019321528309296,1.3982065330538518,1.2210656481457236,1.4784246719871756,1.0875985228673426,1.076962108984252,1.1206312296192424,1.035009733799234,1.0415589016556537,0.9999999998971109,1.093446442727643,1.0638041261779974,1.0516871153378962,1.041446520722271,1.4720736186515386,1.2149922032154934,0.9999999999969608,1.0750982227589494,0.9999999999969608,1.0415570492434025,1.016827109137665,1.0963606431315722,1.2368808607712212,1.0460117572249494,1.003640635354432,1.7413097347388664,1.0320406667704431,1.0942580361956793,1.215726458437335,1.1265637278237466,1.0448453785936527,1.0623492862854838,1.0593334780915995,1.0752735500109576,1.675264462646475,1.0259728522163154],\"yaxis\":\"y\",\"type\":\"scatter\"},{\"hovertemplate\":\"<b>OLS trendline</b><br>normalized_cost = -0.0439633 * time/C + 1.16261<br>R<sup>2</sup>=0.048231<br><br>time/C=%{x}<br>normalized_cost=%{y} <b>(trend)</b><extra></extra>\",\"legendgroup\":\"\",\"marker\":{\"color\":\"#636efa\",\"symbol\":\"circle\"},\"mode\":\"lines\",\"name\":\"\",\"showlegend\":false,\"x\":[0.19559865558891545,0.24352003959758728,0.2608371238188307,0.2715483503642634,0.2949086216306041,0.3620925949547403,0.36863816740316996,0.3788711499987384,0.44542263497204637,0.45249283552715824,0.4570508552723145,0.4957067635298569,0.5128878850826712,0.5183503025568211,0.5269169486378683,0.5334508788788603,0.5334508788788603,0.5648128563406624,0.5724510841118032,0.5898172432612082,0.6205404216203978,0.6695562972821172,0.7112678385051471,0.7595759102512356,0.7924528300391598,0.7968750001245117,0.8009105002975541,0.8075937671025739,0.8494705596681743,0.857915990198121,0.8657784262959817,0.8922721743537423,0.913485772518835,0.9645290147094475,0.9688236027556569,0.9868404052499026,0.9930242500982845,0.9970293421019432,1.0011424401085969,1.0257757701653425,1.0939818826292154,1.1009646871960534,1.1236019973343423,1.1321666759286693,1.1347509515221479,1.1362792096353374,1.1676245330021353,1.1799774648947103,1.1880546288544966,1.2452830186329653,1.2731080129465187,1.2782207984546823,1.3032397021268713,1.340605945298748,1.399545816903417,1.437070285047841,1.4378270168605174,1.5531917757947526,1.5970570420667005,1.6027746408833476,1.6172529439772818,1.8202511370398955,1.8203796820715434,1.8245930650000104,1.862378870185569,1.894355749993692,1.8960957327289933,1.9303109779457723,2.156250000336914,2.3176803415358216,2.378494419078424,2.6603773579886076,2.9742405811791413,3.0271747151907213,3.569088697414969,3.9622641501957987,4.18234045221584],\"xaxis\":\"x\",\"y\":[1.1540097265092053,1.1519029465061357,1.1511416311246312,1.1506707307455815,1.149643737193782,1.1466901110735424,1.146402346405884,1.1459524711873341,1.1430266513134553,1.142715822286804,1.1425154369045505,1.1408159973703595,1.1400606593502551,1.1398205137004367,1.1394438960582238,1.1391566432198943,1.1391566432198943,1.1377778686218716,1.1374420672701364,1.1366785943950737,1.1353279034845989,1.133173006066395,1.1313392309623622,1.1292154509078651,1.127770074514746,1.1275756615256658,1.1273982478043632,1.1271044296446573,1.125263389553788,1.1248921009417023,1.1245464426622298,1.1233816912726549,1.1224490724568192,1.12020504540786,1.1200162413404413,1.1192241640663945,1.1189523021212908,1.118776225242079,1.1185954000674656,1.1175124387080198,1.1145138760246047,1.1142068892100316,1.113211679382327,1.1128351482372336,1.1127215350715167,1.1126543478710842,1.1112763054412793,1.110733230352174,1.1103781319370507,1.1078621856703208,1.1066389083627475,1.106414133672045,1.1053142212415994,1.1036714795818405,1.1010802910039452,1.099430593259444,1.0993973248661448,1.094325514604204,1.0923970547376372,1.0921456904855047,1.0915091771612828,1.0825847159285649,1.0825790646706188,1.0823938306444612,1.0807326436730997,1.0793268359667088,1.079250340662822,1.0777461271282172,1.0678131123763768,1.060716109195813,1.0580425244252085,1.0456500330314917,1.031851584259705,1.0295244274523134,1.0057001251131477,0.9884148526037688,0.9787395821198983],\"yaxis\":\"y\",\"type\":\"scatter\"}],                        {\"template\":{\"data\":{\"bar\":[{\"error_x\":{\"color\":\"#2a3f5f\"},\"error_y\":{\"color\":\"#2a3f5f\"},\"marker\":{\"line\":{\"color\":\"#E5ECF6\",\"width\":0.5},\"pattern\":{\"fillmode\":\"overlay\",\"size\":10,\"solidity\":0.2}},\"type\":\"bar\"}],\"barpolar\":[{\"marker\":{\"line\":{\"color\":\"#E5ECF6\",\"width\":0.5},\"pattern\":{\"fillmode\":\"overlay\",\"size\":10,\"solidity\":0.2}},\"type\":\"barpolar\"}],\"carpet\":[{\"aaxis\":{\"endlinecolor\":\"#2a3f5f\",\"gridcolor\":\"white\",\"linecolor\":\"white\",\"minorgridcolor\":\"white\",\"startlinecolor\":\"#2a3f5f\"},\"baxis\":{\"endlinecolor\":\"#2a3f5f\",\"gridcolor\":\"white\",\"linecolor\":\"white\",\"minorgridcolor\":\"white\",\"startlinecolor\":\"#2a3f5f\"},\"type\":\"carpet\"}],\"choropleth\":[{\"colorbar\":{\"outlinewidth\":0,\"ticks\":\"\"},\"type\":\"choropleth\"}],\"contour\":[{\"colorbar\":{\"outlinewidth\":0,\"ticks\":\"\"},\"colorscale\":[[0.0,\"#0d0887\"],[0.1111111111111111,\"#46039f\"],[0.2222222222222222,\"#7201a8\"],[0.3333333333333333,\"#9c179e\"],[0.4444444444444444,\"#bd3786\"],[0.5555555555555556,\"#d8576b\"],[0.6666666666666666,\"#ed7953\"],[0.7777777777777778,\"#fb9f3a\"],[0.8888888888888888,\"#fdca26\"],[1.0,\"#f0f921\"]],\"type\":\"contour\"}],\"contourcarpet\":[{\"colorbar\":{\"outlinewidth\":0,\"ticks\":\"\"},\"type\":\"contourcarpet\"}],\"heatmap\":[{\"colorbar\":{\"outlinewidth\":0,\"ticks\":\"\"},\"colorscale\":[[0.0,\"#0d0887\"],[0.1111111111111111,\"#46039f\"],[0.2222222222222222,\"#7201a8\"],[0.3333333333333333,\"#9c179e\"],[0.4444444444444444,\"#bd3786\"],[0.5555555555555556,\"#d8576b\"],[0.6666666666666666,\"#ed7953\"],[0.7777777777777778,\"#fb9f3a\"],[0.8888888888888888,\"#fdca26\"],[1.0,\"#f0f921\"]],\"type\":\"heatmap\"}],\"heatmapgl\":[{\"colorbar\":{\"outlinewidth\":0,\"ticks\":\"\"},\"colorscale\":[[0.0,\"#0d0887\"],[0.1111111111111111,\"#46039f\"],[0.2222222222222222,\"#7201a8\"],[0.3333333333333333,\"#9c179e\"],[0.4444444444444444,\"#bd3786\"],[0.5555555555555556,\"#d8576b\"],[0.6666666666666666,\"#ed7953\"],[0.7777777777777778,\"#fb9f3a\"],[0.8888888888888888,\"#fdca26\"],[1.0,\"#f0f921\"]],\"type\":\"heatmapgl\"}],\"histogram\":[{\"marker\":{\"pattern\":{\"fillmode\":\"overlay\",\"size\":10,\"solidity\":0.2}},\"type\":\"histogram\"}],\"histogram2d\":[{\"colorbar\":{\"outlinewidth\":0,\"ticks\":\"\"},\"colorscale\":[[0.0,\"#0d0887\"],[0.1111111111111111,\"#46039f\"],[0.2222222222222222,\"#7201a8\"],[0.3333333333333333,\"#9c179e\"],[0.4444444444444444,\"#bd3786\"],[0.5555555555555556,\"#d8576b\"],[0.6666666666666666,\"#ed7953\"],[0.7777777777777778,\"#fb9f3a\"],[0.8888888888888888,\"#fdca26\"],[1.0,\"#f0f921\"]],\"type\":\"histogram2d\"}],\"histogram2dcontour\":[{\"colorbar\":{\"outlinewidth\":0,\"ticks\":\"\"},\"colorscale\":[[0.0,\"#0d0887\"],[0.1111111111111111,\"#46039f\"],[0.2222222222222222,\"#7201a8\"],[0.3333333333333333,\"#9c179e\"],[0.4444444444444444,\"#bd3786\"],[0.5555555555555556,\"#d8576b\"],[0.6666666666666666,\"#ed7953\"],[0.7777777777777778,\"#fb9f3a\"],[0.8888888888888888,\"#fdca26\"],[1.0,\"#f0f921\"]],\"type\":\"histogram2dcontour\"}],\"mesh3d\":[{\"colorbar\":{\"outlinewidth\":0,\"ticks\":\"\"},\"type\":\"mesh3d\"}],\"parcoords\":[{\"line\":{\"colorbar\":{\"outlinewidth\":0,\"ticks\":\"\"}},\"type\":\"parcoords\"}],\"pie\":[{\"automargin\":true,\"type\":\"pie\"}],\"scatter\":[{\"marker\":{\"colorbar\":{\"outlinewidth\":0,\"ticks\":\"\"}},\"type\":\"scatter\"}],\"scatter3d\":[{\"line\":{\"colorbar\":{\"outlinewidth\":0,\"ticks\":\"\"}},\"marker\":{\"colorbar\":{\"outlinewidth\":0,\"ticks\":\"\"}},\"type\":\"scatter3d\"}],\"scattercarpet\":[{\"marker\":{\"colorbar\":{\"outlinewidth\":0,\"ticks\":\"\"}},\"type\":\"scattercarpet\"}],\"scattergeo\":[{\"marker\":{\"colorbar\":{\"outlinewidth\":0,\"ticks\":\"\"}},\"type\":\"scattergeo\"}],\"scattergl\":[{\"marker\":{\"colorbar\":{\"outlinewidth\":0,\"ticks\":\"\"}},\"type\":\"scattergl\"}],\"scattermapbox\":[{\"marker\":{\"colorbar\":{\"outlinewidth\":0,\"ticks\":\"\"}},\"type\":\"scattermapbox\"}],\"scatterpolar\":[{\"marker\":{\"colorbar\":{\"outlinewidth\":0,\"ticks\":\"\"}},\"type\":\"scatterpolar\"}],\"scatterpolargl\":[{\"marker\":{\"colorbar\":{\"outlinewidth\":0,\"ticks\":\"\"}},\"type\":\"scatterpolargl\"}],\"scatterternary\":[{\"marker\":{\"colorbar\":{\"outlinewidth\":0,\"ticks\":\"\"}},\"type\":\"scatterternary\"}],\"surface\":[{\"colorbar\":{\"outlinewidth\":0,\"ticks\":\"\"},\"colorscale\":[[0.0,\"#0d0887\"],[0.1111111111111111,\"#46039f\"],[0.2222222222222222,\"#7201a8\"],[0.3333333333333333,\"#9c179e\"],[0.4444444444444444,\"#bd3786\"],[0.5555555555555556,\"#d8576b\"],[0.6666666666666666,\"#ed7953\"],[0.7777777777777778,\"#fb9f3a\"],[0.8888888888888888,\"#fdca26\"],[1.0,\"#f0f921\"]],\"type\":\"surface\"}],\"table\":[{\"cells\":{\"fill\":{\"color\":\"#EBF0F8\"},\"line\":{\"color\":\"white\"}},\"header\":{\"fill\":{\"color\":\"#C8D4E3\"},\"line\":{\"color\":\"white\"}},\"type\":\"table\"}]},\"layout\":{\"annotationdefaults\":{\"arrowcolor\":\"#2a3f5f\",\"arrowhead\":0,\"arrowwidth\":1},\"autotypenumbers\":\"strict\",\"coloraxis\":{\"colorbar\":{\"outlinewidth\":0,\"ticks\":\"\"}},\"colorscale\":{\"diverging\":[[0,\"#8e0152\"],[0.1,\"#c51b7d\"],[0.2,\"#de77ae\"],[0.3,\"#f1b6da\"],[0.4,\"#fde0ef\"],[0.5,\"#f7f7f7\"],[0.6,\"#e6f5d0\"],[0.7,\"#b8e186\"],[0.8,\"#7fbc41\"],[0.9,\"#4d9221\"],[1,\"#276419\"]],\"sequential\":[[0.0,\"#0d0887\"],[0.1111111111111111,\"#46039f\"],[0.2222222222222222,\"#7201a8\"],[0.3333333333333333,\"#9c179e\"],[0.4444444444444444,\"#bd3786\"],[0.5555555555555556,\"#d8576b\"],[0.6666666666666666,\"#ed7953\"],[0.7777777777777778,\"#fb9f3a\"],[0.8888888888888888,\"#fdca26\"],[1.0,\"#f0f921\"]],\"sequentialminus\":[[0.0,\"#0d0887\"],[0.1111111111111111,\"#46039f\"],[0.2222222222222222,\"#7201a8\"],[0.3333333333333333,\"#9c179e\"],[0.4444444444444444,\"#bd3786\"],[0.5555555555555556,\"#d8576b\"],[0.6666666666666666,\"#ed7953\"],[0.7777777777777778,\"#fb9f3a\"],[0.8888888888888888,\"#fdca26\"],[1.0,\"#f0f921\"]]},\"colorway\":[\"#636efa\",\"#EF553B\",\"#00cc96\",\"#ab63fa\",\"#FFA15A\",\"#19d3f3\",\"#FF6692\",\"#B6E880\",\"#FF97FF\",\"#FECB52\"],\"font\":{\"color\":\"#2a3f5f\"},\"geo\":{\"bgcolor\":\"white\",\"lakecolor\":\"white\",\"landcolor\":\"#E5ECF6\",\"showlakes\":true,\"showland\":true,\"subunitcolor\":\"white\"},\"hoverlabel\":{\"align\":\"left\"},\"hovermode\":\"closest\",\"mapbox\":{\"style\":\"light\"},\"paper_bgcolor\":\"white\",\"plot_bgcolor\":\"#E5ECF6\",\"polar\":{\"angularaxis\":{\"gridcolor\":\"white\",\"linecolor\":\"white\",\"ticks\":\"\"},\"bgcolor\":\"#E5ECF6\",\"radialaxis\":{\"gridcolor\":\"white\",\"linecolor\":\"white\",\"ticks\":\"\"}},\"scene\":{\"xaxis\":{\"backgroundcolor\":\"#E5ECF6\",\"gridcolor\":\"white\",\"gridwidth\":2,\"linecolor\":\"white\",\"showbackground\":true,\"ticks\":\"\",\"zerolinecolor\":\"white\"},\"yaxis\":{\"backgroundcolor\":\"#E5ECF6\",\"gridcolor\":\"white\",\"gridwidth\":2,\"linecolor\":\"white\",\"showbackground\":true,\"ticks\":\"\",\"zerolinecolor\":\"white\"},\"zaxis\":{\"backgroundcolor\":\"#E5ECF6\",\"gridcolor\":\"white\",\"gridwidth\":2,\"linecolor\":\"white\",\"showbackground\":true,\"ticks\":\"\",\"zerolinecolor\":\"white\"}},\"shapedefaults\":{\"line\":{\"color\":\"#2a3f5f\"}},\"ternary\":{\"aaxis\":{\"gridcolor\":\"white\",\"linecolor\":\"white\",\"ticks\":\"\"},\"baxis\":{\"gridcolor\":\"white\",\"linecolor\":\"white\",\"ticks\":\"\"},\"bgcolor\":\"#E5ECF6\",\"caxis\":{\"gridcolor\":\"white\",\"linecolor\":\"white\",\"ticks\":\"\"}},\"title\":{\"x\":0.05},\"xaxis\":{\"automargin\":true,\"gridcolor\":\"white\",\"linecolor\":\"white\",\"ticks\":\"\",\"title\":{\"standoff\":15},\"zerolinecolor\":\"white\",\"zerolinewidth\":2},\"yaxis\":{\"automargin\":true,\"gridcolor\":\"white\",\"linecolor\":\"white\",\"ticks\":\"\",\"title\":{\"standoff\":15},\"zerolinecolor\":\"white\",\"zerolinewidth\":2}}},\"xaxis\":{\"anchor\":\"y\",\"domain\":[0.0,1.0],\"title\":{\"text\":\"time/C\"}},\"yaxis\":{\"anchor\":\"x\",\"domain\":[0.0,1.0],\"title\":{\"text\":\"normalized_cost\"}},\"legend\":{\"tracegroupgap\":0},\"margin\":{\"t\":60}},                        {\"responsive\": true}                    ).then(function(){\n",
       "                            \n",
       "var gd = document.getElementById('d00b6053-7647-4660-a88d-7c135dcfc52b');\n",
       "var x = new MutationObserver(function (mutations, observer) {{\n",
       "        var display = window.getComputedStyle(gd).display;\n",
       "        if (!display || display === 'none') {{\n",
       "            console.log([gd, 'removed!']);\n",
       "            Plotly.purge(gd);\n",
       "            observer.disconnect();\n",
       "        }}\n",
       "}});\n",
       "\n",
       "// Listen for the removal of the full notebook cells\n",
       "var notebookContainer = gd.closest('#notebook-container');\n",
       "if (notebookContainer) {{\n",
       "    x.observe(notebookContainer, {childList: true});\n",
       "}}\n",
       "\n",
       "// Listen for the clearing of the current output cell\n",
       "var outputEl = gd.closest('.output');\n",
       "if (outputEl) {{\n",
       "    x.observe(outputEl, {childList: true});\n",
       "}}\n",
       "\n",
       "                        })                };                });            </script>        </div>"
      ]
     },
     "metadata": {},
     "output_type": "display_data"
    },
    {
     "name": "stdout",
     "output_type": "stream",
     "text": [
      "                            OLS Regression Results                            \n",
      "==============================================================================\n",
      "Dep. Variable:                      y   R-squared:                       0.048\n",
      "Model:                            OLS   Adj. R-squared:                  0.036\n",
      "Method:                 Least Squares   F-statistic:                     3.801\n",
      "Date:                Wed, 24 Nov 2021   Prob (F-statistic):             0.0550\n",
      "Time:                        15:57:27   Log-Likelihood:                 30.914\n",
      "No. Observations:                  77   AIC:                            -57.83\n",
      "Df Residuals:                      75   BIC:                            -53.14\n",
      "Df Model:                           1                                         \n",
      "Covariance Type:            nonrobust                                         \n",
      "==============================================================================\n",
      "                 coef    std err          t      P>|t|      [0.025      0.975]\n",
      "------------------------------------------------------------------------------\n",
      "const          1.1626      0.033     35.068      0.000       1.097       1.229\n",
      "x1            -0.0440      0.023     -1.950      0.055      -0.089       0.001\n",
      "==============================================================================\n",
      "Omnibus:                       41.505   Durbin-Watson:                   2.146\n",
      "Prob(Omnibus):                  0.000   Jarque-Bera (JB):               90.208\n",
      "Skew:                           1.991   Prob(JB):                     2.58e-20\n",
      "Kurtosis:                       6.501   Cond. No.                         3.53\n",
      "==============================================================================\n",
      "\n",
      "Notes:\n",
      "[1] Standard Errors assume that the covariance matrix of the errors is correctly specified.\n"
     ]
    }
   ],
   "source": [
    "fig = px.scatter(unified_df, x=\"time/C\", y=\"normalized_cost\", log_x=False,log_y=False,trendline=\"ols\", trendline_options=dict(log_x=False,log_y=False))\n",
    "fig.show()\n",
    "results = px.get_trendline_results(fig)\n",
    "results = results.iloc[0][\"px_fit_results\"].summary()\n",
    "print(results)"
   ]
  },
  {
   "cell_type": "code",
   "execution_count": 54,
   "id": "e91f2ce0-685d-487d-9358-cb5645a21cc1",
   "metadata": {},
   "outputs": [
    {
     "data": {
      "text/html": [
       "<div>\n",
       "<style scoped>\n",
       "    .dataframe tbody tr th:only-of-type {\n",
       "        vertical-align: middle;\n",
       "    }\n",
       "\n",
       "    .dataframe tbody tr th {\n",
       "        vertical-align: top;\n",
       "    }\n",
       "\n",
       "    .dataframe thead th {\n",
       "        text-align: right;\n",
       "    }\n",
       "</style>\n",
       "<table border=\"1\" class=\"dataframe\">\n",
       "  <thead>\n",
       "    <tr style=\"text-align: right;\">\n",
       "      <th></th>\n",
       "      <th>level_0</th>\n",
       "      <th>index</th>\n",
       "      <th>solution</th>\n",
       "      <th>check</th>\n",
       "      <th>cost</th>\n",
       "      <th>time</th>\n",
       "      <th>C</th>\n",
       "      <th>id</th>\n",
       "      <th>normalized_cost</th>\n",
       "      <th>time/C</th>\n",
       "    </tr>\n",
       "  </thead>\n",
       "  <tbody>\n",
       "    <tr>\n",
       "      <th>0</th>\n",
       "      <td>0</td>\n",
       "      <td>0</td>\n",
       "      <td>1,5,6,4,3,2</td>\n",
       "      <td>True</td>\n",
       "      <td>2.080613</td>\n",
       "      <td>70.0</td>\n",
       "      <td>17.666667</td>\n",
       "      <td>id 0</td>\n",
       "      <td>1.000000</td>\n",
       "      <td>3.962264</td>\n",
       "    </tr>\n",
       "    <tr>\n",
       "      <th>1</th>\n",
       "      <td>1</td>\n",
       "      <td>1</td>\n",
       "      <td>1,5,6,4,3,2</td>\n",
       "      <td>True</td>\n",
       "      <td>2.080613</td>\n",
       "      <td>22.0</td>\n",
       "      <td>17.666667</td>\n",
       "      <td>id 0</td>\n",
       "      <td>1.000000</td>\n",
       "      <td>1.245283</td>\n",
       "    </tr>\n",
       "    <tr>\n",
       "      <th>2</th>\n",
       "      <td>2</td>\n",
       "      <td>2</td>\n",
       "      <td>1,2,3,4,6,5</td>\n",
       "      <td>True</td>\n",
       "      <td>2.080613</td>\n",
       "      <td>47.0</td>\n",
       "      <td>17.666667</td>\n",
       "      <td>id 0</td>\n",
       "      <td>1.000000</td>\n",
       "      <td>2.660377</td>\n",
       "    </tr>\n",
       "    <tr>\n",
       "      <th>3</th>\n",
       "      <td>3</td>\n",
       "      <td>3</td>\n",
       "      <td>1,5,6,4,3,2</td>\n",
       "      <td>True</td>\n",
       "      <td>2.080613</td>\n",
       "      <td>14.0</td>\n",
       "      <td>17.666667</td>\n",
       "      <td>id 0</td>\n",
       "      <td>1.000000</td>\n",
       "      <td>0.792453</td>\n",
       "    </tr>\n",
       "    <tr>\n",
       "      <th>4</th>\n",
       "      <td>4</td>\n",
       "      <td>6</td>\n",
       "      <td>2,1,5,6,4,3</td>\n",
       "      <td>True</td>\n",
       "      <td>2.080613</td>\n",
       "      <td>NaN</td>\n",
       "      <td>17.666667</td>\n",
       "      <td>id 0</td>\n",
       "      <td>1.000000</td>\n",
       "      <td>NaN</td>\n",
       "    </tr>\n",
       "    <tr>\n",
       "      <th>...</th>\n",
       "      <td>...</td>\n",
       "      <td>...</td>\n",
       "      <td>...</td>\n",
       "      <td>...</td>\n",
       "      <td>...</td>\n",
       "      <td>...</td>\n",
       "      <td>...</td>\n",
       "      <td>...</td>\n",
       "      <td>...</td>\n",
       "      <td>...</td>\n",
       "    </tr>\n",
       "    <tr>\n",
       "      <th>164</th>\n",
       "      <td>3</td>\n",
       "      <td>11</td>\n",
       "      <td>21,15,33,19,8,6,30,31,3,34,23,13,5,1,18,12,27,...</td>\n",
       "      <td>True</td>\n",
       "      <td>5.161253</td>\n",
       "      <td>NaN</td>\n",
       "      <td>155.454143</td>\n",
       "      <td>id 28</td>\n",
       "      <td>1.062349</td>\n",
       "      <td>NaN</td>\n",
       "    </tr>\n",
       "    <tr>\n",
       "      <th>165</th>\n",
       "      <td>4</td>\n",
       "      <td>12</td>\n",
       "      <td>21,15,33,19,8,6,30,31,3,34,23,13,5,1,18,12,27,...</td>\n",
       "      <td>True</td>\n",
       "      <td>5.146601</td>\n",
       "      <td>NaN</td>\n",
       "      <td>155.454143</td>\n",
       "      <td>id 28</td>\n",
       "      <td>1.059333</td>\n",
       "      <td>NaN</td>\n",
       "    </tr>\n",
       "    <tr>\n",
       "      <th>166</th>\n",
       "      <td>0</td>\n",
       "      <td>4</td>\n",
       "      <td>28,13,1,32,5,30,18,11,20,31,24,10,3,23,7,22,15...</td>\n",
       "      <td>True</td>\n",
       "      <td>4.661985</td>\n",
       "      <td>179.0</td>\n",
       "      <td>157.531704</td>\n",
       "      <td>id 30</td>\n",
       "      <td>1.075274</td>\n",
       "      <td>1.136279</td>\n",
       "    </tr>\n",
       "    <tr>\n",
       "      <th>167</th>\n",
       "      <td>1</td>\n",
       "      <td>5</td>\n",
       "      <td>26,28,13,31,24,23,7,22,29,25,4,19,1,20,10,15,1...</td>\n",
       "      <td>True</td>\n",
       "      <td>7.263322</td>\n",
       "      <td>72.0</td>\n",
       "      <td>157.531704</td>\n",
       "      <td>id 30</td>\n",
       "      <td>1.675264</td>\n",
       "      <td>0.457051</td>\n",
       "    </tr>\n",
       "    <tr>\n",
       "      <th>168</th>\n",
       "      <td>2</td>\n",
       "      <td>8</td>\n",
       "      <td>28,13,1,11,20,31,24,10,3,23,7,22,15,17,9,2,21,...</td>\n",
       "      <td>True</td>\n",
       "      <td>4.448235</td>\n",
       "      <td>NaN</td>\n",
       "      <td>157.531704</td>\n",
       "      <td>id 30</td>\n",
       "      <td>1.025973</td>\n",
       "      <td>NaN</td>\n",
       "    </tr>\n",
       "  </tbody>\n",
       "</table>\n",
       "<p>169 rows × 10 columns</p>\n",
       "</div>"
      ],
      "text/plain": [
       "     level_0  index                                           solution check  \\\n",
       "0          0      0                                        1,5,6,4,3,2  True   \n",
       "1          1      1                                        1,5,6,4,3,2  True   \n",
       "2          2      2                                        1,2,3,4,6,5  True   \n",
       "3          3      3                                        1,5,6,4,3,2  True   \n",
       "4          4      6                                        2,1,5,6,4,3  True   \n",
       "..       ...    ...                                                ...   ...   \n",
       "164        3     11  21,15,33,19,8,6,30,31,3,34,23,13,5,1,18,12,27,...  True   \n",
       "165        4     12  21,15,33,19,8,6,30,31,3,34,23,13,5,1,18,12,27,...  True   \n",
       "166        0      4  28,13,1,32,5,30,18,11,20,31,24,10,3,23,7,22,15...  True   \n",
       "167        1      5  26,28,13,31,24,23,7,22,29,25,4,19,1,20,10,15,1...  True   \n",
       "168        2      8  28,13,1,11,20,31,24,10,3,23,7,22,15,17,9,2,21,...  True   \n",
       "\n",
       "         cost   time           C     id  normalized_cost    time/C  \n",
       "0    2.080613   70.0   17.666667   id 0         1.000000  3.962264  \n",
       "1    2.080613   22.0   17.666667   id 0         1.000000  1.245283  \n",
       "2    2.080613   47.0   17.666667   id 0         1.000000  2.660377  \n",
       "3    2.080613   14.0   17.666667   id 0         1.000000  0.792453  \n",
       "4    2.080613    NaN   17.666667   id 0         1.000000       NaN  \n",
       "..        ...    ...         ...    ...              ...       ...  \n",
       "164  5.161253    NaN  155.454143  id 28         1.062349       NaN  \n",
       "165  5.146601    NaN  155.454143  id 28         1.059333       NaN  \n",
       "166  4.661985  179.0  157.531704  id 30         1.075274  1.136279  \n",
       "167  7.263322   72.0  157.531704  id 30         1.675264  0.457051  \n",
       "168  4.448235    NaN  157.531704  id 30         1.025973       NaN  \n",
       "\n",
       "[169 rows x 10 columns]"
      ]
     },
     "execution_count": 54,
     "metadata": {},
     "output_type": "execute_result"
    }
   ],
   "source": [
    "unified_df"
   ]
  },
  {
   "cell_type": "code",
   "execution_count": 8,
   "id": "aea3a177-1146-420b-bd33-4d8c0e13e53e",
   "metadata": {},
   "outputs": [
    {
     "name": "stdout",
     "output_type": "stream",
     "text": [
      "Building jupyterlab assets (production, minimized)\n"
     ]
    }
   ],
   "source": [
    "!jupyter labextension install jupyterlab-plotly"
   ]
  },
  {
   "cell_type": "code",
   "execution_count": 11,
   "id": "3b6bf94d-918c-44d5-88d0-13893b977196",
   "metadata": {},
   "outputs": [
    {
     "name": "stdout",
     "output_type": "stream",
     "text": [
      "Collecting package metadata (current_repodata.json): done\n",
      "Solving environment: done\n",
      "\n",
      "## Package Plan ##\n",
      "\n",
      "  environment location: /Users/ricardobortothopker/opt/anaconda3\n",
      "\n",
      "  added / updated specs:\n",
      "    - plotly==5.4.0\n",
      "\n",
      "\n",
      "The following packages will be downloaded:\n",
      "\n",
      "    package                    |            build\n",
      "    ---------------------------|-----------------\n",
      "    plotly-5.4.0               |     pyhd8ed1ab_0         6.9 MB  conda-forge\n",
      "    tenacity-8.0.1             |     pyhd8ed1ab_0          21 KB  conda-forge\n",
      "    ------------------------------------------------------------\n",
      "                                           Total:         6.9 MB\n",
      "\n",
      "The following NEW packages will be INSTALLED:\n",
      "\n",
      "  tenacity           conda-forge/noarch::tenacity-8.0.1-pyhd8ed1ab_0\n",
      "\n",
      "The following packages will be UPDATED:\n",
      "\n",
      "  plotly              pkgs/main::plotly-4.14.3-pyhd3eb1b0_0 --> conda-forge::plotly-5.4.0-pyhd8ed1ab_0\n",
      "\n",
      "\n",
      "\n",
      "Downloading and Extracting Packages\n",
      "plotly-5.4.0         | 6.9 MB    | ##################################### | 100% \n",
      "tenacity-8.0.1       | 21 KB     | ##################################### | 100% \n",
      "Preparing transaction: done\n",
      "Verifying transaction: done\n",
      "Executing transaction: done\n"
     ]
    }
   ],
   "source": [
    "!conda install --yes -c conda-forge plotly==5.4.0"
   ]
  },
  {
   "cell_type": "code",
   "execution_count": null,
   "id": "b2c378b7-581e-45aa-a070-43f101158d7f",
   "metadata": {},
   "outputs": [],
   "source": []
  }
 ],
 "metadata": {
  "kernelspec": {
   "display_name": "Python 3 (ipykernel)",
   "language": "python",
   "name": "python3"
  },
  "language_info": {
   "codemirror_mode": {
    "name": "ipython",
    "version": 3
   },
   "file_extension": ".py",
   "mimetype": "text/x-python",
   "name": "python",
   "nbconvert_exporter": "python",
   "pygments_lexer": "ipython3",
   "version": "3.10.1"
  }
 },
 "nbformat": 4,
 "nbformat_minor": 5
}
